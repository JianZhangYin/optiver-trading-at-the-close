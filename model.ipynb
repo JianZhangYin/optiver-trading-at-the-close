{
 "cells": [
  {
   "cell_type": "markdown",
   "metadata": {},
   "source": [
    "## Import package"
   ]
  },
  {
   "cell_type": "code",
   "execution_count": 1,
   "metadata": {},
   "outputs": [],
   "source": [
    "import pandas as pd\n",
    "import numpy as np\n",
    "import random\n",
    "import matplotlib.pyplot as plt\n",
    "import seaborn as sns\n",
    "import plotly.graph_objects as go\n",
    "from tqdm import tqdm, trange\n",
    "from multiprocessing import Pool, cpu_count\n",
    "from functools import partial\n",
    "from sklearn.metrics import mean_absolute_error"
   ]
  },
  {
   "cell_type": "markdown",
   "metadata": {},
   "source": [
    "## Reading data"
   ]
  },
  {
   "cell_type": "code",
   "execution_count": 2,
   "metadata": {},
   "outputs": [
    {
     "data": {
      "text/plain": [
       "(5237980, 17)"
      ]
     },
     "execution_count": 2,
     "metadata": {},
     "output_type": "execute_result"
    }
   ],
   "source": [
    "df = pd.read_csv(\"train.csv\")\n",
    "test = pd.read_csv(\"example_test_files/test.csv\")\n",
    "df.shape"
   ]
  },
  {
   "cell_type": "code",
   "execution_count": 3,
   "metadata": {},
   "outputs": [
    {
     "data": {
      "text/html": [
       "<div>\n",
       "<style scoped>\n",
       "    .dataframe tbody tr th:only-of-type {\n",
       "        vertical-align: middle;\n",
       "    }\n",
       "\n",
       "    .dataframe tbody tr th {\n",
       "        vertical-align: top;\n",
       "    }\n",
       "\n",
       "    .dataframe thead th {\n",
       "        text-align: right;\n",
       "    }\n",
       "</style>\n",
       "<table border=\"1\" class=\"dataframe\">\n",
       "  <thead>\n",
       "    <tr style=\"text-align: right;\">\n",
       "      <th></th>\n",
       "      <th>stock_id</th>\n",
       "      <th>date_id</th>\n",
       "      <th>seconds_in_bucket</th>\n",
       "      <th>imbalance_size</th>\n",
       "      <th>imbalance_buy_sell_flag</th>\n",
       "      <th>reference_price</th>\n",
       "      <th>matched_size</th>\n",
       "      <th>far_price</th>\n",
       "      <th>near_price</th>\n",
       "      <th>bid_price</th>\n",
       "      <th>bid_size</th>\n",
       "      <th>ask_price</th>\n",
       "      <th>ask_size</th>\n",
       "      <th>wap</th>\n",
       "      <th>target</th>\n",
       "      <th>time_id</th>\n",
       "      <th>row_id</th>\n",
       "    </tr>\n",
       "  </thead>\n",
       "  <tbody>\n",
       "    <tr>\n",
       "      <th>0</th>\n",
       "      <td>0</td>\n",
       "      <td>478</td>\n",
       "      <td>0</td>\n",
       "      <td>3753451.43</td>\n",
       "      <td>-1</td>\n",
       "      <td>0.999875</td>\n",
       "      <td>11548975.43</td>\n",
       "      <td>NaN</td>\n",
       "      <td>NaN</td>\n",
       "      <td>0.999875</td>\n",
       "      <td>22940.00</td>\n",
       "      <td>1.000050</td>\n",
       "      <td>9177.60</td>\n",
       "      <td>1.000000</td>\n",
       "      <td>-5.429983</td>\n",
       "      <td>26290</td>\n",
       "      <td>478_0_0</td>\n",
       "    </tr>\n",
       "    <tr>\n",
       "      <th>1</th>\n",
       "      <td>1</td>\n",
       "      <td>478</td>\n",
       "      <td>0</td>\n",
       "      <td>985977.11</td>\n",
       "      <td>-1</td>\n",
       "      <td>1.000245</td>\n",
       "      <td>3850033.97</td>\n",
       "      <td>NaN</td>\n",
       "      <td>NaN</td>\n",
       "      <td>0.999940</td>\n",
       "      <td>1967.90</td>\n",
       "      <td>1.000601</td>\n",
       "      <td>19692.00</td>\n",
       "      <td>1.000000</td>\n",
       "      <td>-1.869798</td>\n",
       "      <td>26290</td>\n",
       "      <td>478_0_1</td>\n",
       "    </tr>\n",
       "    <tr>\n",
       "      <th>2</th>\n",
       "      <td>2</td>\n",
       "      <td>478</td>\n",
       "      <td>0</td>\n",
       "      <td>599128.74</td>\n",
       "      <td>1</td>\n",
       "      <td>1.000584</td>\n",
       "      <td>4359198.25</td>\n",
       "      <td>NaN</td>\n",
       "      <td>NaN</td>\n",
       "      <td>0.999918</td>\n",
       "      <td>4488.22</td>\n",
       "      <td>1.000636</td>\n",
       "      <td>34955.12</td>\n",
       "      <td>1.000000</td>\n",
       "      <td>-0.090003</td>\n",
       "      <td>26290</td>\n",
       "      <td>478_0_2</td>\n",
       "    </tr>\n",
       "    <tr>\n",
       "      <th>3</th>\n",
       "      <td>3</td>\n",
       "      <td>478</td>\n",
       "      <td>0</td>\n",
       "      <td>2872317.54</td>\n",
       "      <td>-1</td>\n",
       "      <td>0.999802</td>\n",
       "      <td>27129551.64</td>\n",
       "      <td>NaN</td>\n",
       "      <td>NaN</td>\n",
       "      <td>0.999705</td>\n",
       "      <td>16082.04</td>\n",
       "      <td>1.000189</td>\n",
       "      <td>10314.00</td>\n",
       "      <td>1.000000</td>\n",
       "      <td>-7.609725</td>\n",
       "      <td>26290</td>\n",
       "      <td>478_0_3</td>\n",
       "    </tr>\n",
       "    <tr>\n",
       "      <th>4</th>\n",
       "      <td>4</td>\n",
       "      <td>478</td>\n",
       "      <td>0</td>\n",
       "      <td>740059.14</td>\n",
       "      <td>-1</td>\n",
       "      <td>0.999886</td>\n",
       "      <td>8880890.78</td>\n",
       "      <td>NaN</td>\n",
       "      <td>NaN</td>\n",
       "      <td>0.999720</td>\n",
       "      <td>19012.35</td>\n",
       "      <td>1.000107</td>\n",
       "      <td>7245.60</td>\n",
       "      <td>1.000000</td>\n",
       "      <td>-3.290176</td>\n",
       "      <td>26290</td>\n",
       "      <td>478_0_4</td>\n",
       "    </tr>\n",
       "    <tr>\n",
       "      <th>...</th>\n",
       "      <td>...</td>\n",
       "      <td>...</td>\n",
       "      <td>...</td>\n",
       "      <td>...</td>\n",
       "      <td>...</td>\n",
       "      <td>...</td>\n",
       "      <td>...</td>\n",
       "      <td>...</td>\n",
       "      <td>...</td>\n",
       "      <td>...</td>\n",
       "      <td>...</td>\n",
       "      <td>...</td>\n",
       "      <td>...</td>\n",
       "      <td>...</td>\n",
       "      <td>...</td>\n",
       "      <td>...</td>\n",
       "      <td>...</td>\n",
       "    </tr>\n",
       "    <tr>\n",
       "      <th>32995</th>\n",
       "      <td>195</td>\n",
       "      <td>480</td>\n",
       "      <td>540</td>\n",
       "      <td>2440722.89</td>\n",
       "      <td>-1</td>\n",
       "      <td>1.000317</td>\n",
       "      <td>28280361.74</td>\n",
       "      <td>0.999734</td>\n",
       "      <td>0.999734</td>\n",
       "      <td>1.000317</td>\n",
       "      <td>32257.04</td>\n",
       "      <td>1.000434</td>\n",
       "      <td>319862.40</td>\n",
       "      <td>1.000328</td>\n",
       "      <td>2.310276</td>\n",
       "      <td>26454</td>\n",
       "      <td>480_540_195</td>\n",
       "    </tr>\n",
       "    <tr>\n",
       "      <th>32996</th>\n",
       "      <td>196</td>\n",
       "      <td>480</td>\n",
       "      <td>540</td>\n",
       "      <td>349510.47</td>\n",
       "      <td>-1</td>\n",
       "      <td>1.000643</td>\n",
       "      <td>9187699.11</td>\n",
       "      <td>1.000129</td>\n",
       "      <td>1.000386</td>\n",
       "      <td>1.000643</td>\n",
       "      <td>205108.40</td>\n",
       "      <td>1.000900</td>\n",
       "      <td>93393.07</td>\n",
       "      <td>1.000819</td>\n",
       "      <td>-8.220077</td>\n",
       "      <td>26454</td>\n",
       "      <td>480_540_196</td>\n",
       "    </tr>\n",
       "    <tr>\n",
       "      <th>32997</th>\n",
       "      <td>197</td>\n",
       "      <td>480</td>\n",
       "      <td>540</td>\n",
       "      <td>0.00</td>\n",
       "      <td>0</td>\n",
       "      <td>0.995789</td>\n",
       "      <td>12725436.10</td>\n",
       "      <td>0.995789</td>\n",
       "      <td>0.995789</td>\n",
       "      <td>0.995789</td>\n",
       "      <td>16790.66</td>\n",
       "      <td>0.995883</td>\n",
       "      <td>180038.32</td>\n",
       "      <td>0.995797</td>\n",
       "      <td>1.169443</td>\n",
       "      <td>26454</td>\n",
       "      <td>480_540_197</td>\n",
       "    </tr>\n",
       "    <tr>\n",
       "      <th>32998</th>\n",
       "      <td>198</td>\n",
       "      <td>480</td>\n",
       "      <td>540</td>\n",
       "      <td>1000898.84</td>\n",
       "      <td>1</td>\n",
       "      <td>0.999210</td>\n",
       "      <td>94773271.05</td>\n",
       "      <td>0.999210</td>\n",
       "      <td>0.999210</td>\n",
       "      <td>0.998970</td>\n",
       "      <td>125631.72</td>\n",
       "      <td>0.999210</td>\n",
       "      <td>669893.00</td>\n",
       "      <td>0.999008</td>\n",
       "      <td>-1.540184</td>\n",
       "      <td>26454</td>\n",
       "      <td>480_540_198</td>\n",
       "    </tr>\n",
       "    <tr>\n",
       "      <th>32999</th>\n",
       "      <td>199</td>\n",
       "      <td>480</td>\n",
       "      <td>540</td>\n",
       "      <td>1884285.71</td>\n",
       "      <td>-1</td>\n",
       "      <td>1.002129</td>\n",
       "      <td>24073677.32</td>\n",
       "      <td>1.000859</td>\n",
       "      <td>1.001494</td>\n",
       "      <td>1.002129</td>\n",
       "      <td>250081.44</td>\n",
       "      <td>1.002447</td>\n",
       "      <td>300167.56</td>\n",
       "      <td>1.002274</td>\n",
       "      <td>-6.530285</td>\n",
       "      <td>26454</td>\n",
       "      <td>480_540_199</td>\n",
       "    </tr>\n",
       "  </tbody>\n",
       "</table>\n",
       "<p>33000 rows × 17 columns</p>\n",
       "</div>"
      ],
      "text/plain": [
       "       stock_id  date_id  seconds_in_bucket  imbalance_size  \\\n",
       "0             0      478                  0      3753451.43   \n",
       "1             1      478                  0       985977.11   \n",
       "2             2      478                  0       599128.74   \n",
       "3             3      478                  0      2872317.54   \n",
       "4             4      478                  0       740059.14   \n",
       "...         ...      ...                ...             ...   \n",
       "32995       195      480                540      2440722.89   \n",
       "32996       196      480                540       349510.47   \n",
       "32997       197      480                540            0.00   \n",
       "32998       198      480                540      1000898.84   \n",
       "32999       199      480                540      1884285.71   \n",
       "\n",
       "       imbalance_buy_sell_flag  reference_price  matched_size  far_price  \\\n",
       "0                           -1         0.999875   11548975.43        NaN   \n",
       "1                           -1         1.000245    3850033.97        NaN   \n",
       "2                            1         1.000584    4359198.25        NaN   \n",
       "3                           -1         0.999802   27129551.64        NaN   \n",
       "4                           -1         0.999886    8880890.78        NaN   \n",
       "...                        ...              ...           ...        ...   \n",
       "32995                       -1         1.000317   28280361.74   0.999734   \n",
       "32996                       -1         1.000643    9187699.11   1.000129   \n",
       "32997                        0         0.995789   12725436.10   0.995789   \n",
       "32998                        1         0.999210   94773271.05   0.999210   \n",
       "32999                       -1         1.002129   24073677.32   1.000859   \n",
       "\n",
       "       near_price  bid_price   bid_size  ask_price   ask_size       wap  \\\n",
       "0             NaN   0.999875   22940.00   1.000050    9177.60  1.000000   \n",
       "1             NaN   0.999940    1967.90   1.000601   19692.00  1.000000   \n",
       "2             NaN   0.999918    4488.22   1.000636   34955.12  1.000000   \n",
       "3             NaN   0.999705   16082.04   1.000189   10314.00  1.000000   \n",
       "4             NaN   0.999720   19012.35   1.000107    7245.60  1.000000   \n",
       "...           ...        ...        ...        ...        ...       ...   \n",
       "32995    0.999734   1.000317   32257.04   1.000434  319862.40  1.000328   \n",
       "32996    1.000386   1.000643  205108.40   1.000900   93393.07  1.000819   \n",
       "32997    0.995789   0.995789   16790.66   0.995883  180038.32  0.995797   \n",
       "32998    0.999210   0.998970  125631.72   0.999210  669893.00  0.999008   \n",
       "32999    1.001494   1.002129  250081.44   1.002447  300167.56  1.002274   \n",
       "\n",
       "         target  time_id       row_id  \n",
       "0     -5.429983    26290      478_0_0  \n",
       "1     -1.869798    26290      478_0_1  \n",
       "2     -0.090003    26290      478_0_2  \n",
       "3     -7.609725    26290      478_0_3  \n",
       "4     -3.290176    26290      478_0_4  \n",
       "...         ...      ...          ...  \n",
       "32995  2.310276    26454  480_540_195  \n",
       "32996 -8.220077    26454  480_540_196  \n",
       "32997  1.169443    26454  480_540_197  \n",
       "32998 -1.540184    26454  480_540_198  \n",
       "32999 -6.530285    26454  480_540_199  \n",
       "\n",
       "[33000 rows x 17 columns]"
      ]
     },
     "execution_count": 3,
     "metadata": {},
     "output_type": "execute_result"
    }
   ],
   "source": [
    "test_target = df[df[\"date_id\"]>=478].reset_index(drop=True)#==test\n",
    "# test_target = test_target[\"target\"]\n",
    "test_target"
   ]
  },
  {
   "cell_type": "code",
   "execution_count": 4,
   "metadata": {},
   "outputs": [
    {
     "data": {
      "text/plain": [
       "(stock_id                         0\n",
       " date_id                          0\n",
       " seconds_in_bucket                0\n",
       " imbalance_size                 124\n",
       " imbalance_buy_sell_flag          0\n",
       " reference_price                124\n",
       " matched_size                   124\n",
       " far_price                  2861365\n",
       " near_price                 2857084\n",
       " bid_price                      124\n",
       " bid_size                         0\n",
       " ask_price                      124\n",
       " ask_size                         0\n",
       " wap                            124\n",
       " target                          63\n",
       " time_id                          0\n",
       " row_id                           0\n",
       " dtype: int64,\n",
       " (2952316, 17))"
      ]
     },
     "execution_count": 4,
     "metadata": {},
     "output_type": "execute_result"
    }
   ],
   "source": [
    "# df.describe()\n",
    "check = df[(df[\"seconds_in_bucket\"] <= 300)]\n",
    "check.isna().sum(), check.shape"
   ]
  },
  {
   "cell_type": "code",
   "execution_count": 5,
   "metadata": {},
   "outputs": [
    {
     "name": "stdout",
     "output_type": "stream",
     "text": [
      "<class 'pandas.core.frame.DataFrame'>\n",
      "RangeIndex: 5237980 entries, 0 to 5237979\n",
      "Data columns (total 17 columns):\n",
      " #   Column                   Dtype  \n",
      "---  ------                   -----  \n",
      " 0   stock_id                 int64  \n",
      " 1   date_id                  int64  \n",
      " 2   seconds_in_bucket        int64  \n",
      " 3   imbalance_size           float64\n",
      " 4   imbalance_buy_sell_flag  int64  \n",
      " 5   reference_price          float64\n",
      " 6   matched_size             float64\n",
      " 7   far_price                float64\n",
      " 8   near_price               float64\n",
      " 9   bid_price                float64\n",
      " 10  bid_size                 float64\n",
      " 11  ask_price                float64\n",
      " 12  ask_size                 float64\n",
      " 13  wap                      float64\n",
      " 14  target                   float64\n",
      " 15  time_id                  int64  \n",
      " 16  row_id                   object \n",
      "dtypes: float64(11), int64(5), object(1)\n",
      "memory usage: 679.4+ MB\n"
     ]
    }
   ],
   "source": [
    "df.info()"
   ]
  },
  {
   "cell_type": "markdown",
   "metadata": {},
   "source": [
    "## Feature having NA value"
   ]
  },
  {
   "cell_type": "markdown",
   "metadata": {},
   "source": [
    "seconds in bucket >= 300 後才開始有 far price 跟 near price"
   ]
  },
  {
   "cell_type": "code",
   "execution_count": 6,
   "metadata": {},
   "outputs": [
    {
     "name": "stdout",
     "output_type": "stream",
     "text": [
      "imbalance_size         220\n",
      "reference_price        220\n",
      "matched_size           220\n",
      "far_price          2894342\n",
      "near_price         2857180\n",
      "bid_price              220\n",
      "ask_price              220\n",
      "wap                    220\n",
      "target                  88\n",
      "dtype: int64\n"
     ]
    }
   ],
   "source": [
    "isna_var = df.isna().sum()\n",
    "na_var = isna_var[isna_var!=0]\n",
    "na_col = na_var.index\n",
    "print(na_var)"
   ]
  },
  {
   "cell_type": "markdown",
   "metadata": {},
   "source": [
    "imbalance_size, reference_price, matched_size, bid_price, ask_price, wap的220筆遺失值都是同樣的樣本資料"
   ]
  },
  {
   "cell_type": "code",
   "execution_count": 7,
   "metadata": {},
   "outputs": [
    {
     "data": {
      "text/plain": [
       "[19, 101, 131, 158]"
      ]
     },
     "execution_count": 7,
     "metadata": {},
     "output_type": "execute_result"
    }
   ],
   "source": [
    "stock = sorted(df[np.isnan(df[\"wap\"])][\"stock_id\"].unique())\n",
    "stock"
   ]
  },
  {
   "cell_type": "markdown",
   "metadata": {},
   "source": [
    "stock id 為19, 101, 131, 158有遺失值"
   ]
  },
  {
   "cell_type": "code",
   "execution_count": 8,
   "metadata": {},
   "outputs": [
    {
     "data": {
      "text/plain": [
       "[438, 328, 35, 388]"
      ]
     },
     "execution_count": 8,
     "metadata": {},
     "output_type": "execute_result"
    }
   ],
   "source": [
    "na_date = []\n",
    "for n in stock:\n",
    "    na_date.append(df[np.isnan(df[\"wap\"]) & (df[\"stock_id\"]==n)][\"date_id\"].unique()[0])\n",
    "\n",
    "na_date"
   ]
  },
  {
   "cell_type": "markdown",
   "metadata": {},
   "source": [
    "stock id 為 19 且 date id 為 438 有遺失值； \\\n",
    "stock id 為 101 且 date id 為 328 有遺失值； \\\n",
    "stock id 為 131 且 date id 為 35 有遺失值； \\\n",
    "stock id 為 158 且 date id 為 388 有遺失值； \\\n",
    "target也是在相同的股票id與天數id有遺失值"
   ]
  },
  {
   "cell_type": "code",
   "execution_count": 9,
   "metadata": {},
   "outputs": [
    {
     "data": {
      "text/plain": [
       "([19, 101, 131, 158], [438, 328, 35, 388])"
      ]
     },
     "execution_count": 9,
     "metadata": {},
     "output_type": "execute_result"
    }
   ],
   "source": [
    "na_target = sorted(df[np.isnan(df[\"target\"])][\"stock_id\"].unique())\n",
    "# df[np.isnan(df[\"target\"]) & np.isnan(df[\"wap\"])].sort_values(by=\"stock_id\")\n",
    "na_target, [df[np.isnan(df[\"target\"]) & (df[\"stock_id\"]==id)][\"date_id\"].unique()[0] for id in na_target]"
   ]
  },
  {
   "cell_type": "markdown",
   "metadata": {},
   "source": [
    "刪除220筆NaN資料"
   ]
  },
  {
   "cell_type": "code",
   "execution_count": 10,
   "metadata": {},
   "outputs": [
    {
     "data": {
      "text/plain": [
       "(5237760, 17)"
      ]
     },
     "execution_count": 10,
     "metadata": {},
     "output_type": "execute_result"
    }
   ],
   "source": [
    "df = df[~np.isnan(df[\"reference_price\"])]\n",
    "df.shape"
   ]
  },
  {
   "cell_type": "code",
   "execution_count": 11,
   "metadata": {},
   "outputs": [
    {
     "data": {
      "text/plain": [
       "stock_id                         0\n",
       "date_id                          0\n",
       "seconds_in_bucket                0\n",
       "imbalance_size                   0\n",
       "imbalance_buy_sell_flag          0\n",
       "reference_price                  0\n",
       "matched_size                     0\n",
       "far_price                  2894122\n",
       "near_price                 2856960\n",
       "bid_price                        0\n",
       "bid_size                         0\n",
       "ask_price                        0\n",
       "ask_size                         0\n",
       "wap                              0\n",
       "target                           0\n",
       "time_id                          0\n",
       "row_id                           0\n",
       "dtype: int64"
      ]
     },
     "execution_count": 11,
     "metadata": {},
     "output_type": "execute_result"
    }
   ],
   "source": [
    "df.isna().sum()"
   ]
  },
  {
   "cell_type": "code",
   "execution_count": 12,
   "metadata": {},
   "outputs": [
    {
     "data": {
      "text/plain": [
       "stock_id                       0\n",
       "date_id                        0\n",
       "seconds_in_bucket              0\n",
       "imbalance_size                 0\n",
       "imbalance_buy_sell_flag        0\n",
       "reference_price                0\n",
       "matched_size                   0\n",
       "far_price                  37162\n",
       "near_price                     0\n",
       "bid_price                      0\n",
       "bid_size                       0\n",
       "ask_price                      0\n",
       "ask_size                       0\n",
       "wap                            0\n",
       "target                         0\n",
       "time_id                        0\n",
       "row_id                         0\n",
       "dtype: int64"
      ]
     },
     "execution_count": 12,
     "metadata": {},
     "output_type": "execute_result"
    }
   ],
   "source": [
    "# df.describe()\n",
    "check = df[(df[\"seconds_in_bucket\"] >= 300)]\n",
    "check.isna().sum()"
   ]
  },
  {
   "cell_type": "code",
   "execution_count": 13,
   "metadata": {},
   "outputs": [
    {
     "data": {
      "text/html": [
       "<div>\n",
       "<style scoped>\n",
       "    .dataframe tbody tr th:only-of-type {\n",
       "        vertical-align: middle;\n",
       "    }\n",
       "\n",
       "    .dataframe tbody tr th {\n",
       "        vertical-align: top;\n",
       "    }\n",
       "\n",
       "    .dataframe thead th {\n",
       "        text-align: right;\n",
       "    }\n",
       "</style>\n",
       "<table border=\"1\" class=\"dataframe\">\n",
       "  <thead>\n",
       "    <tr style=\"text-align: right;\">\n",
       "      <th></th>\n",
       "      <th>stock_id</th>\n",
       "      <th>date_id</th>\n",
       "      <th>seconds_in_bucket</th>\n",
       "      <th>imbalance_size</th>\n",
       "      <th>imbalance_buy_sell_flag</th>\n",
       "      <th>reference_price</th>\n",
       "      <th>matched_size</th>\n",
       "      <th>far_price</th>\n",
       "      <th>near_price</th>\n",
       "      <th>bid_price</th>\n",
       "      <th>bid_size</th>\n",
       "      <th>ask_price</th>\n",
       "      <th>ask_size</th>\n",
       "      <th>wap</th>\n",
       "      <th>target</th>\n",
       "      <th>time_id</th>\n",
       "    </tr>\n",
       "  </thead>\n",
       "  <tbody>\n",
       "    <tr>\n",
       "      <th>count</th>\n",
       "      <td>5.237760e+06</td>\n",
       "      <td>5.237760e+06</td>\n",
       "      <td>5.237760e+06</td>\n",
       "      <td>5.237760e+06</td>\n",
       "      <td>5.237760e+06</td>\n",
       "      <td>5.237760e+06</td>\n",
       "      <td>5.237760e+06</td>\n",
       "      <td>2.343638e+06</td>\n",
       "      <td>2.380800e+06</td>\n",
       "      <td>5.237760e+06</td>\n",
       "      <td>5.237760e+06</td>\n",
       "      <td>5.237760e+06</td>\n",
       "      <td>5.237760e+06</td>\n",
       "      <td>5.237760e+06</td>\n",
       "      <td>5.237760e+06</td>\n",
       "      <td>5.237760e+06</td>\n",
       "    </tr>\n",
       "    <tr>\n",
       "      <th>mean</th>\n",
       "      <td>9.928843e+01</td>\n",
       "      <td>2.415077e+02</td>\n",
       "      <td>2.700000e+02</td>\n",
       "      <td>5.715293e+06</td>\n",
       "      <td>-1.188886e-02</td>\n",
       "      <td>9.999955e-01</td>\n",
       "      <td>4.510025e+07</td>\n",
       "      <td>1.001713e+00</td>\n",
       "      <td>9.996601e-01</td>\n",
       "      <td>9.997263e-01</td>\n",
       "      <td>5.181414e+04</td>\n",
       "      <td>1.000264e+00</td>\n",
       "      <td>5.357708e+04</td>\n",
       "      <td>9.999920e-01</td>\n",
       "      <td>-4.758886e-02</td>\n",
       "      <td>1.330992e+04</td>\n",
       "    </tr>\n",
       "    <tr>\n",
       "      <th>std</th>\n",
       "      <td>5.787198e+01</td>\n",
       "      <td>1.385306e+02</td>\n",
       "      <td>1.587451e+02</td>\n",
       "      <td>2.051591e+07</td>\n",
       "      <td>8.853486e-01</td>\n",
       "      <td>2.532497e-03</td>\n",
       "      <td>1.398413e+08</td>\n",
       "      <td>7.214705e-01</td>\n",
       "      <td>1.216920e-02</td>\n",
       "      <td>2.499345e-03</td>\n",
       "      <td>1.114229e+05</td>\n",
       "      <td>2.510042e-03</td>\n",
       "      <td>1.293578e+05</td>\n",
       "      <td>2.497509e-03</td>\n",
       "      <td>9.452816e+00</td>\n",
       "      <td>7.619201e+03</td>\n",
       "    </tr>\n",
       "    <tr>\n",
       "      <th>min</th>\n",
       "      <td>0.000000e+00</td>\n",
       "      <td>0.000000e+00</td>\n",
       "      <td>0.000000e+00</td>\n",
       "      <td>0.000000e+00</td>\n",
       "      <td>-1.000000e+00</td>\n",
       "      <td>9.352850e-01</td>\n",
       "      <td>4.316610e+03</td>\n",
       "      <td>7.700000e-05</td>\n",
       "      <td>7.869880e-01</td>\n",
       "      <td>9.349150e-01</td>\n",
       "      <td>5.600000e-01</td>\n",
       "      <td>9.398270e-01</td>\n",
       "      <td>5.900000e-01</td>\n",
       "      <td>9.380080e-01</td>\n",
       "      <td>-3.852898e+02</td>\n",
       "      <td>0.000000e+00</td>\n",
       "    </tr>\n",
       "    <tr>\n",
       "      <th>25%</th>\n",
       "      <td>4.900000e+01</td>\n",
       "      <td>1.220000e+02</td>\n",
       "      <td>1.300000e+02</td>\n",
       "      <td>8.453415e+04</td>\n",
       "      <td>-1.000000e+00</td>\n",
       "      <td>9.987630e-01</td>\n",
       "      <td>5.279575e+06</td>\n",
       "      <td>9.963320e-01</td>\n",
       "      <td>9.971000e-01</td>\n",
       "      <td>9.985290e-01</td>\n",
       "      <td>7.375125e+03</td>\n",
       "      <td>9.990290e-01</td>\n",
       "      <td>7.824000e+03</td>\n",
       "      <td>9.987810e-01</td>\n",
       "      <td>-4.559755e+00</td>\n",
       "      <td>6.729000e+03</td>\n",
       "    </tr>\n",
       "    <tr>\n",
       "      <th>50%</th>\n",
       "      <td>9.900000e+01</td>\n",
       "      <td>2.420000e+02</td>\n",
       "      <td>2.700000e+02</td>\n",
       "      <td>1.113604e+06</td>\n",
       "      <td>0.000000e+00</td>\n",
       "      <td>9.999670e-01</td>\n",
       "      <td>1.288264e+07</td>\n",
       "      <td>9.998830e-01</td>\n",
       "      <td>9.998890e-01</td>\n",
       "      <td>9.997280e-01</td>\n",
       "      <td>2.196936e+04</td>\n",
       "      <td>1.000207e+00</td>\n",
       "      <td>2.301875e+04</td>\n",
       "      <td>9.999970e-01</td>\n",
       "      <td>-6.020069e-02</td>\n",
       "      <td>1.334500e+04</td>\n",
       "    </tr>\n",
       "    <tr>\n",
       "      <th>75%</th>\n",
       "      <td>1.490000e+02</td>\n",
       "      <td>3.610000e+02</td>\n",
       "      <td>4.100000e+02</td>\n",
       "      <td>4.190951e+06</td>\n",
       "      <td>1.000000e+00</td>\n",
       "      <td>1.001174e+00</td>\n",
       "      <td>3.270013e+07</td>\n",
       "      <td>1.003318e+00</td>\n",
       "      <td>1.002590e+00</td>\n",
       "      <td>1.000905e+00</td>\n",
       "      <td>5.583088e+04</td>\n",
       "      <td>1.001414e+00</td>\n",
       "      <td>5.787920e+04</td>\n",
       "      <td>1.001149e+00</td>\n",
       "      <td>4.409552e+00</td>\n",
       "      <td>1.990700e+04</td>\n",
       "    </tr>\n",
       "    <tr>\n",
       "      <th>max</th>\n",
       "      <td>1.990000e+02</td>\n",
       "      <td>4.800000e+02</td>\n",
       "      <td>5.400000e+02</td>\n",
       "      <td>2.982028e+09</td>\n",
       "      <td>1.000000e+00</td>\n",
       "      <td>1.077488e+00</td>\n",
       "      <td>7.713682e+09</td>\n",
       "      <td>4.379531e+02</td>\n",
       "      <td>1.309732e+00</td>\n",
       "      <td>1.077488e+00</td>\n",
       "      <td>3.028784e+07</td>\n",
       "      <td>1.077836e+00</td>\n",
       "      <td>5.440500e+07</td>\n",
       "      <td>1.077675e+00</td>\n",
       "      <td>4.460704e+02</td>\n",
       "      <td>2.645400e+04</td>\n",
       "    </tr>\n",
       "  </tbody>\n",
       "</table>\n",
       "</div>"
      ],
      "text/plain": [
       "           stock_id       date_id  seconds_in_bucket  imbalance_size  \\\n",
       "count  5.237760e+06  5.237760e+06       5.237760e+06    5.237760e+06   \n",
       "mean   9.928843e+01  2.415077e+02       2.700000e+02    5.715293e+06   \n",
       "std    5.787198e+01  1.385306e+02       1.587451e+02    2.051591e+07   \n",
       "min    0.000000e+00  0.000000e+00       0.000000e+00    0.000000e+00   \n",
       "25%    4.900000e+01  1.220000e+02       1.300000e+02    8.453415e+04   \n",
       "50%    9.900000e+01  2.420000e+02       2.700000e+02    1.113604e+06   \n",
       "75%    1.490000e+02  3.610000e+02       4.100000e+02    4.190951e+06   \n",
       "max    1.990000e+02  4.800000e+02       5.400000e+02    2.982028e+09   \n",
       "\n",
       "       imbalance_buy_sell_flag  reference_price  matched_size     far_price  \\\n",
       "count             5.237760e+06     5.237760e+06  5.237760e+06  2.343638e+06   \n",
       "mean             -1.188886e-02     9.999955e-01  4.510025e+07  1.001713e+00   \n",
       "std               8.853486e-01     2.532497e-03  1.398413e+08  7.214705e-01   \n",
       "min              -1.000000e+00     9.352850e-01  4.316610e+03  7.700000e-05   \n",
       "25%              -1.000000e+00     9.987630e-01  5.279575e+06  9.963320e-01   \n",
       "50%               0.000000e+00     9.999670e-01  1.288264e+07  9.998830e-01   \n",
       "75%               1.000000e+00     1.001174e+00  3.270013e+07  1.003318e+00   \n",
       "max               1.000000e+00     1.077488e+00  7.713682e+09  4.379531e+02   \n",
       "\n",
       "         near_price     bid_price      bid_size     ask_price      ask_size  \\\n",
       "count  2.380800e+06  5.237760e+06  5.237760e+06  5.237760e+06  5.237760e+06   \n",
       "mean   9.996601e-01  9.997263e-01  5.181414e+04  1.000264e+00  5.357708e+04   \n",
       "std    1.216920e-02  2.499345e-03  1.114229e+05  2.510042e-03  1.293578e+05   \n",
       "min    7.869880e-01  9.349150e-01  5.600000e-01  9.398270e-01  5.900000e-01   \n",
       "25%    9.971000e-01  9.985290e-01  7.375125e+03  9.990290e-01  7.824000e+03   \n",
       "50%    9.998890e-01  9.997280e-01  2.196936e+04  1.000207e+00  2.301875e+04   \n",
       "75%    1.002590e+00  1.000905e+00  5.583088e+04  1.001414e+00  5.787920e+04   \n",
       "max    1.309732e+00  1.077488e+00  3.028784e+07  1.077836e+00  5.440500e+07   \n",
       "\n",
       "                wap        target       time_id  \n",
       "count  5.237760e+06  5.237760e+06  5.237760e+06  \n",
       "mean   9.999920e-01 -4.758886e-02  1.330992e+04  \n",
       "std    2.497509e-03  9.452816e+00  7.619201e+03  \n",
       "min    9.380080e-01 -3.852898e+02  0.000000e+00  \n",
       "25%    9.987810e-01 -4.559755e+00  6.729000e+03  \n",
       "50%    9.999970e-01 -6.020069e-02  1.334500e+04  \n",
       "75%    1.001149e+00  4.409552e+00  1.990700e+04  \n",
       "max    1.077675e+00  4.460704e+02  2.645400e+04  "
      ]
     },
     "execution_count": 13,
     "metadata": {},
     "output_type": "execute_result"
    }
   ],
   "source": [
    "df.describe()"
   ]
  },
  {
   "cell_type": "markdown",
   "metadata": {},
   "source": [
    "收盤前五分鐘除了stock_id=83沒有遺失值外，其餘皆有遺失值；且僅在date_id=25, 33沒有遺失值。"
   ]
  },
  {
   "cell_type": "code",
   "execution_count": 14,
   "metadata": {},
   "outputs": [
    {
     "name": "stdout",
     "output_type": "stream",
     "text": [
      "stock:83\n",
      "date:25\n",
      "date:33\n"
     ]
    }
   ],
   "source": [
    "a = sorted(df[np.isnan(df[\"far_price\"])&(df[\"seconds_in_bucket\"]>=300)][\"stock_id\"].unique())\n",
    "for i in list(range(200)):\n",
    "    if i not in a:\n",
    "        print('stock:'+str(i))\n",
    "\n",
    "b = sorted(df[np.isnan(df[\"far_price\"])&(df[\"seconds_in_bucket\"]>=300)&(df[\"stock_id\"]!=83)][\"date_id\"].unique())\n",
    "for i in list(range(481)):\n",
    "    if i not in b:\n",
    "        print('date:'+str(i))\n"
   ]
  },
  {
   "cell_type": "code",
   "execution_count": 15,
   "metadata": {},
   "outputs": [
    {
     "data": {
      "text/plain": [
       "803189    300\n",
       "803385    310\n",
       "803581    320\n",
       "803777    330\n",
       "803973    340\n",
       "804169    350\n",
       "804365    360\n",
       "804561    370\n",
       "804757    380\n",
       "804953    390\n",
       "805149    400\n",
       "805345    410\n",
       "805541    420\n",
       "805737    430\n",
       "805933    440\n",
       "806129    450\n",
       "806325    460\n",
       "Name: seconds_in_bucket, dtype: int64"
      ]
     },
     "execution_count": 15,
     "metadata": {},
     "output_type": "execute_result"
    }
   ],
   "source": [
    "# df[(df[\"seconds_in_bucket\"]>=300)&(df[\"stock_id\"]==197)&np.isnan(df[\"far_price\"])][\"date_id\"].unique()\n",
    "df[(df[\"seconds_in_bucket\"]>=300)&(df[\"stock_id\"]==197)&np.isnan(df[\"far_price\"])&(df[\"date_id\"]==75)][\"seconds_in_bucket\"]"
   ]
  },
  {
   "cell_type": "markdown",
   "metadata": {},
   "source": [
    "## Data Description"
   ]
  },
  {
   "cell_type": "code",
   "execution_count": 16,
   "metadata": {},
   "outputs": [
    {
     "data": {
      "text/plain": [
       "(0, 199)"
      ]
     },
     "execution_count": 16,
     "metadata": {},
     "output_type": "execute_result"
    }
   ],
   "source": [
    "min(sorted(df['stock_id'].unique())), max(sorted(df['stock_id'].unique()))"
   ]
  },
  {
   "cell_type": "code",
   "execution_count": 17,
   "metadata": {},
   "outputs": [],
   "source": [
    "id = 197 # 選擇不同股票\n",
    "stock_id_df = df[df['stock_id'] == id]"
   ]
  },
  {
   "cell_type": "code",
   "execution_count": 18,
   "metadata": {},
   "outputs": [],
   "source": [
    "random.seed(123)\n",
    "date = random.sample(sorted(stock_id_df[\"date_id\"].unique()), 5)"
   ]
  },
  {
   "cell_type": "code",
   "execution_count": 19,
   "metadata": {},
   "outputs": [
    {
     "data": {
      "text/html": [
       "<div>\n",
       "<style scoped>\n",
       "    .dataframe tbody tr th:only-of-type {\n",
       "        vertical-align: middle;\n",
       "    }\n",
       "\n",
       "    .dataframe tbody tr th {\n",
       "        vertical-align: top;\n",
       "    }\n",
       "\n",
       "    .dataframe thead th {\n",
       "        text-align: right;\n",
       "    }\n",
       "</style>\n",
       "<table border=\"1\" class=\"dataframe\">\n",
       "  <thead>\n",
       "    <tr style=\"text-align: right;\">\n",
       "      <th></th>\n",
       "      <th>stock_id</th>\n",
       "      <th>date_id</th>\n",
       "      <th>seconds_in_bucket</th>\n",
       "      <th>imbalance_size</th>\n",
       "      <th>imbalance_buy_sell_flag</th>\n",
       "      <th>reference_price</th>\n",
       "      <th>matched_size</th>\n",
       "      <th>far_price</th>\n",
       "      <th>near_price</th>\n",
       "      <th>bid_price</th>\n",
       "      <th>bid_size</th>\n",
       "      <th>ask_price</th>\n",
       "      <th>ask_size</th>\n",
       "      <th>wap</th>\n",
       "      <th>target</th>\n",
       "      <th>time_id</th>\n",
       "      <th>row_id</th>\n",
       "    </tr>\n",
       "  </thead>\n",
       "  <tbody>\n",
       "    <tr>\n",
       "      <th>189</th>\n",
       "      <td>197</td>\n",
       "      <td>0</td>\n",
       "      <td>0</td>\n",
       "      <td>42803.43</td>\n",
       "      <td>-1</td>\n",
       "      <td>0.999836</td>\n",
       "      <td>3111327.21</td>\n",
       "      <td>NaN</td>\n",
       "      <td>NaN</td>\n",
       "      <td>0.999625</td>\n",
       "      <td>21535.36</td>\n",
       "      <td>1.000119</td>\n",
       "      <td>6804.00</td>\n",
       "      <td>1.000000</td>\n",
       "      <td>-8.440018</td>\n",
       "      <td>0</td>\n",
       "      <td>0_0_197</td>\n",
       "    </tr>\n",
       "    <tr>\n",
       "      <th>380</th>\n",
       "      <td>197</td>\n",
       "      <td>0</td>\n",
       "      <td>10</td>\n",
       "      <td>40535.70</td>\n",
       "      <td>-1</td>\n",
       "      <td>0.999907</td>\n",
       "      <td>3113594.94</td>\n",
       "      <td>NaN</td>\n",
       "      <td>NaN</td>\n",
       "      <td>0.999907</td>\n",
       "      <td>141.72</td>\n",
       "      <td>1.000330</td>\n",
       "      <td>7089.00</td>\n",
       "      <td>0.999915</td>\n",
       "      <td>-4.410148</td>\n",
       "      <td>1</td>\n",
       "      <td>0_10_197</td>\n",
       "    </tr>\n",
       "    <tr>\n",
       "      <th>571</th>\n",
       "      <td>197</td>\n",
       "      <td>0</td>\n",
       "      <td>20</td>\n",
       "      <td>40535.70</td>\n",
       "      <td>-1</td>\n",
       "      <td>1.000048</td>\n",
       "      <td>3113594.94</td>\n",
       "      <td>NaN</td>\n",
       "      <td>NaN</td>\n",
       "      <td>1.000048</td>\n",
       "      <td>141.74</td>\n",
       "      <td>1.000330</td>\n",
       "      <td>16021.14</td>\n",
       "      <td>1.000050</td>\n",
       "      <td>-6.819964</td>\n",
       "      <td>2</td>\n",
       "      <td>0_20_197</td>\n",
       "    </tr>\n",
       "    <tr>\n",
       "      <th>762</th>\n",
       "      <td>197</td>\n",
       "      <td>0</td>\n",
       "      <td>30</td>\n",
       "      <td>40535.70</td>\n",
       "      <td>-1</td>\n",
       "      <td>1.000048</td>\n",
       "      <td>3113594.94</td>\n",
       "      <td>NaN</td>\n",
       "      <td>NaN</td>\n",
       "      <td>1.000048</td>\n",
       "      <td>141.74</td>\n",
       "      <td>1.000330</td>\n",
       "      <td>30624.48</td>\n",
       "      <td>1.000049</td>\n",
       "      <td>1.690388</td>\n",
       "      <td>3</td>\n",
       "      <td>0_30_197</td>\n",
       "    </tr>\n",
       "    <tr>\n",
       "      <th>953</th>\n",
       "      <td>197</td>\n",
       "      <td>0</td>\n",
       "      <td>40</td>\n",
       "      <td>40535.70</td>\n",
       "      <td>-1</td>\n",
       "      <td>0.999907</td>\n",
       "      <td>3113594.94</td>\n",
       "      <td>NaN</td>\n",
       "      <td>NaN</td>\n",
       "      <td>0.999836</td>\n",
       "      <td>8219.18</td>\n",
       "      <td>1.000260</td>\n",
       "      <td>15594.70</td>\n",
       "      <td>0.999982</td>\n",
       "      <td>-1.929998</td>\n",
       "      <td>4</td>\n",
       "      <td>0_40_197</td>\n",
       "    </tr>\n",
       "    <tr>\n",
       "      <th>...</th>\n",
       "      <td>...</td>\n",
       "      <td>...</td>\n",
       "      <td>...</td>\n",
       "      <td>...</td>\n",
       "      <td>...</td>\n",
       "      <td>...</td>\n",
       "      <td>...</td>\n",
       "      <td>...</td>\n",
       "      <td>...</td>\n",
       "      <td>...</td>\n",
       "      <td>...</td>\n",
       "      <td>...</td>\n",
       "      <td>...</td>\n",
       "      <td>...</td>\n",
       "      <td>...</td>\n",
       "      <td>...</td>\n",
       "      <td>...</td>\n",
       "    </tr>\n",
       "    <tr>\n",
       "      <th>167970</th>\n",
       "      <td>197</td>\n",
       "      <td>15</td>\n",
       "      <td>500</td>\n",
       "      <td>3169585.58</td>\n",
       "      <td>1</td>\n",
       "      <td>0.999514</td>\n",
       "      <td>11416229.77</td>\n",
       "      <td>1.002543</td>\n",
       "      <td>1.000822</td>\n",
       "      <td>0.999445</td>\n",
       "      <td>3338.22</td>\n",
       "      <td>0.999720</td>\n",
       "      <td>37746.80</td>\n",
       "      <td>0.999467</td>\n",
       "      <td>-6.849766</td>\n",
       "      <td>875</td>\n",
       "      <td>15_500_197</td>\n",
       "    </tr>\n",
       "    <tr>\n",
       "      <th>168162</th>\n",
       "      <td>197</td>\n",
       "      <td>15</td>\n",
       "      <td>510</td>\n",
       "      <td>3169585.58</td>\n",
       "      <td>1</td>\n",
       "      <td>0.999514</td>\n",
       "      <td>11416229.77</td>\n",
       "      <td>1.002543</td>\n",
       "      <td>1.000822</td>\n",
       "      <td>0.999307</td>\n",
       "      <td>141346.88</td>\n",
       "      <td>0.999514</td>\n",
       "      <td>17127.70</td>\n",
       "      <td>0.999491</td>\n",
       "      <td>-4.969835</td>\n",
       "      <td>876</td>\n",
       "      <td>15_510_197</td>\n",
       "    </tr>\n",
       "    <tr>\n",
       "      <th>168354</th>\n",
       "      <td>197</td>\n",
       "      <td>15</td>\n",
       "      <td>520</td>\n",
       "      <td>3067931.13</td>\n",
       "      <td>1</td>\n",
       "      <td>0.999514</td>\n",
       "      <td>11517884.22</td>\n",
       "      <td>1.002337</td>\n",
       "      <td>1.000822</td>\n",
       "      <td>0.999307</td>\n",
       "      <td>145.12</td>\n",
       "      <td>0.999582</td>\n",
       "      <td>27580.40</td>\n",
       "      <td>0.999308</td>\n",
       "      <td>1.120567</td>\n",
       "      <td>877</td>\n",
       "      <td>15_520_197</td>\n",
       "    </tr>\n",
       "    <tr>\n",
       "      <th>168546</th>\n",
       "      <td>197</td>\n",
       "      <td>15</td>\n",
       "      <td>530</td>\n",
       "      <td>3018120.46</td>\n",
       "      <td>1</td>\n",
       "      <td>0.999169</td>\n",
       "      <td>11676465.15</td>\n",
       "      <td>1.002337</td>\n",
       "      <td>1.000822</td>\n",
       "      <td>0.999032</td>\n",
       "      <td>5077.80</td>\n",
       "      <td>0.999238</td>\n",
       "      <td>47450.97</td>\n",
       "      <td>0.999052</td>\n",
       "      <td>3.529787</td>\n",
       "      <td>878</td>\n",
       "      <td>15_530_197</td>\n",
       "    </tr>\n",
       "    <tr>\n",
       "      <th>168738</th>\n",
       "      <td>197</td>\n",
       "      <td>15</td>\n",
       "      <td>540</td>\n",
       "      <td>3047164.58</td>\n",
       "      <td>1</td>\n",
       "      <td>0.998963</td>\n",
       "      <td>11676465.15</td>\n",
       "      <td>1.002337</td>\n",
       "      <td>1.000822</td>\n",
       "      <td>0.998894</td>\n",
       "      <td>101542.00</td>\n",
       "      <td>0.999169</td>\n",
       "      <td>333730.00</td>\n",
       "      <td>0.998958</td>\n",
       "      <td>-0.489950</td>\n",
       "      <td>879</td>\n",
       "      <td>15_540_197</td>\n",
       "    </tr>\n",
       "  </tbody>\n",
       "</table>\n",
       "<p>880 rows × 17 columns</p>\n",
       "</div>"
      ],
      "text/plain": [
       "        stock_id  date_id  seconds_in_bucket  imbalance_size  \\\n",
       "189          197        0                  0        42803.43   \n",
       "380          197        0                 10        40535.70   \n",
       "571          197        0                 20        40535.70   \n",
       "762          197        0                 30        40535.70   \n",
       "953          197        0                 40        40535.70   \n",
       "...          ...      ...                ...             ...   \n",
       "167970       197       15                500      3169585.58   \n",
       "168162       197       15                510      3169585.58   \n",
       "168354       197       15                520      3067931.13   \n",
       "168546       197       15                530      3018120.46   \n",
       "168738       197       15                540      3047164.58   \n",
       "\n",
       "        imbalance_buy_sell_flag  reference_price  matched_size  far_price  \\\n",
       "189                          -1         0.999836    3111327.21        NaN   \n",
       "380                          -1         0.999907    3113594.94        NaN   \n",
       "571                          -1         1.000048    3113594.94        NaN   \n",
       "762                          -1         1.000048    3113594.94        NaN   \n",
       "953                          -1         0.999907    3113594.94        NaN   \n",
       "...                         ...              ...           ...        ...   \n",
       "167970                        1         0.999514   11416229.77   1.002543   \n",
       "168162                        1         0.999514   11416229.77   1.002543   \n",
       "168354                        1         0.999514   11517884.22   1.002337   \n",
       "168546                        1         0.999169   11676465.15   1.002337   \n",
       "168738                        1         0.998963   11676465.15   1.002337   \n",
       "\n",
       "        near_price  bid_price   bid_size  ask_price   ask_size       wap  \\\n",
       "189            NaN   0.999625   21535.36   1.000119    6804.00  1.000000   \n",
       "380            NaN   0.999907     141.72   1.000330    7089.00  0.999915   \n",
       "571            NaN   1.000048     141.74   1.000330   16021.14  1.000050   \n",
       "762            NaN   1.000048     141.74   1.000330   30624.48  1.000049   \n",
       "953            NaN   0.999836    8219.18   1.000260   15594.70  0.999982   \n",
       "...            ...        ...        ...        ...        ...       ...   \n",
       "167970    1.000822   0.999445    3338.22   0.999720   37746.80  0.999467   \n",
       "168162    1.000822   0.999307  141346.88   0.999514   17127.70  0.999491   \n",
       "168354    1.000822   0.999307     145.12   0.999582   27580.40  0.999308   \n",
       "168546    1.000822   0.999032    5077.80   0.999238   47450.97  0.999052   \n",
       "168738    1.000822   0.998894  101542.00   0.999169  333730.00  0.998958   \n",
       "\n",
       "          target  time_id      row_id  \n",
       "189    -8.440018        0     0_0_197  \n",
       "380    -4.410148        1    0_10_197  \n",
       "571    -6.819964        2    0_20_197  \n",
       "762     1.690388        3    0_30_197  \n",
       "953    -1.929998        4    0_40_197  \n",
       "...          ...      ...         ...  \n",
       "167970 -6.849766      875  15_500_197  \n",
       "168162 -4.969835      876  15_510_197  \n",
       "168354  1.120567      877  15_520_197  \n",
       "168546  3.529787      878  15_530_197  \n",
       "168738 -0.489950      879  15_540_197  \n",
       "\n",
       "[880 rows x 17 columns]"
      ]
     },
     "execution_count": 19,
     "metadata": {},
     "output_type": "execute_result"
    }
   ],
   "source": [
    "df[(df['stock_id'] == id)&(df[\"date_id\"]<=15)]"
   ]
  },
  {
   "cell_type": "markdown",
   "metadata": {},
   "source": [
    "單一股票Target每日震盪是否有規律（總時間）"
   ]
  },
  {
   "cell_type": "code",
   "execution_count": 20,
   "metadata": {},
   "outputs": [
    {
     "data": {
      "application/vnd.plotly.v1+json": {
       "config": {
        "plotlyServerURL": "https://plot.ly"
       },
       "data": [
        {
         "line": {
          "color": "red"
         },
         "name": "wap(date_id=26)",
         "type": "scatter",
         "x": [
          0,
          10,
          20,
          30,
          40,
          50,
          60,
          70,
          80,
          90,
          100,
          110,
          120,
          130,
          140,
          150,
          160,
          170,
          180,
          190,
          200,
          210,
          220,
          230,
          240,
          250,
          260,
          270,
          280,
          290,
          300,
          310,
          320,
          330,
          340,
          350,
          360,
          370,
          380,
          390,
          400,
          410,
          420,
          430,
          440,
          450,
          460,
          470,
          480,
          490,
          500,
          510,
          520,
          530,
          540
         ],
         "y": [
          1,
          1.00073,
          1.000492,
          1.00079,
          1.000721,
          1.000834,
          1.000423,
          1.000342,
          1.000064,
          1.000294,
          1.000394,
          1.000444,
          1.000207,
          1.000364,
          1.000126,
          1.000004,
          1.000275,
          1.000031,
          1.000113,
          1.000025,
          0.999814,
          1.00001,
          1.000338,
          1.000325,
          1.000358,
          1.000462,
          1.000352,
          1.000364,
          1.000453,
          1.000463,
          1.000416,
          1.000017,
          0.999852,
          0.999722,
          0.999593,
          0.999632,
          0.999663,
          1.000108,
          1.000371,
          1.000129,
          1.000621,
          1.000192,
          1.000231,
          0.999846,
          0.999568,
          0.999732,
          0.999672,
          0.999728,
          0.999733,
          1.000184,
          1.000315,
          1.000167,
          1.000202,
          1.000586,
          1.000493
         ]
        },
        {
         "line": {
          "color": "orange"
         },
         "name": "wap(date_id=44)",
         "type": "scatter",
         "x": [
          0,
          10,
          20,
          30,
          40,
          50,
          60,
          70,
          80,
          90,
          100,
          110,
          120,
          130,
          140,
          150,
          160,
          170,
          180,
          190,
          200,
          210,
          220,
          230,
          240,
          250,
          260,
          270,
          280,
          290,
          300,
          310,
          320,
          330,
          340,
          350,
          360,
          370,
          380,
          390,
          400,
          410,
          420,
          430,
          440,
          450,
          460,
          470,
          480,
          490,
          500,
          510,
          520,
          530,
          540
         ],
         "y": [
          1,
          0.998842,
          0.999334,
          0.999567,
          0.999167,
          0.998603,
          0.998976,
          0.999673,
          0.999388,
          0.999171,
          0.999024,
          0.998741,
          0.998939,
          0.999007,
          0.999015,
          0.998594,
          0.998992,
          0.999355,
          0.999104,
          0.99923,
          0.999344,
          0.999253,
          0.999396,
          0.999389,
          0.999242,
          0.99868,
          0.998958,
          0.998807,
          0.998744,
          0.999153,
          0.999453,
          1.00052,
          1.000465,
          1.001137,
          1.00141,
          1.001503,
          1.001554,
          1.001966,
          1.001614,
          1.001821,
          1.001408,
          1.001417,
          1.001259,
          1.000847,
          1.001441,
          1.001444,
          1.001595,
          1.001543,
          1.001348,
          1.001191,
          1.001403,
          1.001567,
          1.001876,
          1.001749,
          1.002053
         ]
        },
        {
         "line": {
          "color": "lightgreen"
         },
         "name": "wap(date_id=137)",
         "type": "scatter",
         "x": [
          0,
          10,
          20,
          30,
          40,
          50,
          60,
          70,
          80,
          90,
          100,
          110,
          120,
          130,
          140,
          150,
          160,
          170,
          180,
          190,
          200,
          210,
          220,
          230,
          240,
          250,
          260,
          270,
          280,
          290,
          300,
          310,
          320,
          330,
          340,
          350,
          360,
          370,
          380,
          390,
          400,
          410,
          420,
          430,
          440,
          450,
          460,
          470,
          480,
          490,
          500,
          510,
          520,
          530,
          540
         ],
         "y": [
          1,
          0.999615,
          0.999371,
          0.999466,
          0.998747,
          0.997725,
          0.997285,
          0.998618,
          0.998351,
          0.99862,
          0.998558,
          0.998316,
          0.998199,
          0.998933,
          0.998804,
          0.998295,
          0.998963,
          0.998396,
          0.998399,
          0.998192,
          0.998155,
          0.998583,
          0.998389,
          0.998243,
          0.997963,
          0.997747,
          0.998143,
          0.99779,
          0.997626,
          0.997413,
          0.997031,
          0.997056,
          0.997047,
          0.996916,
          0.996435,
          0.997114,
          0.997907,
          0.997521,
          0.997173,
          0.997061,
          0.996918,
          0.997356,
          0.997244,
          0.997343,
          0.996738,
          0.996636,
          0.996629,
          0.996875,
          0.996979,
          0.997091,
          0.997376,
          0.996996,
          0.99768,
          0.997456,
          0.99776
         ]
        },
        {
         "line": {
          "color": "blue"
         },
         "name": "wap(date_id=208)",
         "type": "scatter",
         "x": [
          0,
          10,
          20,
          30,
          40,
          50,
          60,
          70,
          80,
          90,
          100,
          110,
          120,
          130,
          140,
          150,
          160,
          170,
          180,
          190,
          200,
          210,
          220,
          230,
          240,
          250,
          260,
          270,
          280,
          290,
          300,
          310,
          320,
          330,
          340,
          350,
          360,
          370,
          380,
          390,
          400,
          410,
          420,
          430,
          440,
          450,
          460,
          470,
          480,
          490,
          500,
          510,
          520,
          530,
          540
         ],
         "y": [
          1,
          1.001575,
          1.003365,
          1.003973,
          1.002512,
          1.003308,
          1.003044,
          1.002381,
          1.003132,
          1.002707,
          1.001187,
          1.002415,
          1.002824,
          1.002383,
          1.00066,
          1.000818,
          1.000905,
          1.00115,
          1.000342,
          1.000387,
          1.00052,
          1.001224,
          1.001494,
          1.001068,
          1.001598,
          1.001911,
          1.002764,
          1.002883,
          1.003611,
          1.004106,
          1.003352,
          1.002568,
          1.004309,
          1.005306,
          1.004277,
          1.003183,
          1.003539,
          1.003281,
          1.002286,
          1.002513,
          1.002559,
          1.002484,
          1.002374,
          1.00198,
          1.001271,
          1.001487,
          1.000863,
          0.999967,
          1.000202,
          1.000458,
          1.000028,
          0.999959,
          0.999937,
          0.999665,
          0.999851
         ]
        },
        {
         "line": {
          "color": "purple"
         },
         "name": "wap(date_id=393)",
         "type": "scatter",
         "x": [
          0,
          10,
          20,
          30,
          40,
          50,
          60,
          70,
          80,
          90,
          100,
          110,
          120,
          130,
          140,
          150,
          160,
          170,
          180,
          190,
          200,
          210,
          220,
          230,
          240,
          250,
          260,
          270,
          280,
          290,
          300,
          310,
          320,
          330,
          340,
          350,
          360,
          370,
          380,
          390,
          400,
          410,
          420,
          430,
          440,
          450,
          460,
          470,
          480,
          490,
          500,
          510,
          520,
          530,
          540
         ],
         "y": [
          1,
          0.999361,
          0.999553,
          0.999062,
          0.998166,
          0.997926,
          0.998133,
          0.997687,
          0.99793,
          0.997854,
          0.998223,
          0.998003,
          0.997492,
          0.997777,
          0.998345,
          0.998913,
          0.999456,
          0.998923,
          0.998811,
          0.998618,
          0.998524,
          0.9984,
          0.998193,
          0.99803,
          0.997834,
          0.997356,
          0.997352,
          0.998801,
          0.998714,
          0.99837,
          0.997545,
          0.997549,
          0.998566,
          0.99899,
          0.999244,
          0.999043,
          0.998913,
          0.998598,
          0.999128,
          0.999208,
          0.998612,
          0.999009,
          0.998747,
          0.998801,
          0.999128,
          0.999547,
          0.999308,
          0.998931,
          0.999133,
          0.999837,
          0.999708,
          0.999894,
          0.999697,
          0.999258,
          1.000069
         ]
        }
       ],
       "layout": {
        "height": 400,
        "margin": {
         "b": 20,
         "l": 40,
         "r": 40,
         "t": 40
        },
        "showlegend": true,
        "template": {
         "data": {
          "bar": [
           {
            "error_x": {
             "color": "#2a3f5f"
            },
            "error_y": {
             "color": "#2a3f5f"
            },
            "marker": {
             "line": {
              "color": "#E5ECF6",
              "width": 0.5
             },
             "pattern": {
              "fillmode": "overlay",
              "size": 10,
              "solidity": 0.2
             }
            },
            "type": "bar"
           }
          ],
          "barpolar": [
           {
            "marker": {
             "line": {
              "color": "#E5ECF6",
              "width": 0.5
             },
             "pattern": {
              "fillmode": "overlay",
              "size": 10,
              "solidity": 0.2
             }
            },
            "type": "barpolar"
           }
          ],
          "carpet": [
           {
            "aaxis": {
             "endlinecolor": "#2a3f5f",
             "gridcolor": "white",
             "linecolor": "white",
             "minorgridcolor": "white",
             "startlinecolor": "#2a3f5f"
            },
            "baxis": {
             "endlinecolor": "#2a3f5f",
             "gridcolor": "white",
             "linecolor": "white",
             "minorgridcolor": "white",
             "startlinecolor": "#2a3f5f"
            },
            "type": "carpet"
           }
          ],
          "choropleth": [
           {
            "colorbar": {
             "outlinewidth": 0,
             "ticks": ""
            },
            "type": "choropleth"
           }
          ],
          "contour": [
           {
            "colorbar": {
             "outlinewidth": 0,
             "ticks": ""
            },
            "colorscale": [
             [
              0,
              "#0d0887"
             ],
             [
              0.1111111111111111,
              "#46039f"
             ],
             [
              0.2222222222222222,
              "#7201a8"
             ],
             [
              0.3333333333333333,
              "#9c179e"
             ],
             [
              0.4444444444444444,
              "#bd3786"
             ],
             [
              0.5555555555555556,
              "#d8576b"
             ],
             [
              0.6666666666666666,
              "#ed7953"
             ],
             [
              0.7777777777777778,
              "#fb9f3a"
             ],
             [
              0.8888888888888888,
              "#fdca26"
             ],
             [
              1,
              "#f0f921"
             ]
            ],
            "type": "contour"
           }
          ],
          "contourcarpet": [
           {
            "colorbar": {
             "outlinewidth": 0,
             "ticks": ""
            },
            "type": "contourcarpet"
           }
          ],
          "heatmap": [
           {
            "colorbar": {
             "outlinewidth": 0,
             "ticks": ""
            },
            "colorscale": [
             [
              0,
              "#0d0887"
             ],
             [
              0.1111111111111111,
              "#46039f"
             ],
             [
              0.2222222222222222,
              "#7201a8"
             ],
             [
              0.3333333333333333,
              "#9c179e"
             ],
             [
              0.4444444444444444,
              "#bd3786"
             ],
             [
              0.5555555555555556,
              "#d8576b"
             ],
             [
              0.6666666666666666,
              "#ed7953"
             ],
             [
              0.7777777777777778,
              "#fb9f3a"
             ],
             [
              0.8888888888888888,
              "#fdca26"
             ],
             [
              1,
              "#f0f921"
             ]
            ],
            "type": "heatmap"
           }
          ],
          "heatmapgl": [
           {
            "colorbar": {
             "outlinewidth": 0,
             "ticks": ""
            },
            "colorscale": [
             [
              0,
              "#0d0887"
             ],
             [
              0.1111111111111111,
              "#46039f"
             ],
             [
              0.2222222222222222,
              "#7201a8"
             ],
             [
              0.3333333333333333,
              "#9c179e"
             ],
             [
              0.4444444444444444,
              "#bd3786"
             ],
             [
              0.5555555555555556,
              "#d8576b"
             ],
             [
              0.6666666666666666,
              "#ed7953"
             ],
             [
              0.7777777777777778,
              "#fb9f3a"
             ],
             [
              0.8888888888888888,
              "#fdca26"
             ],
             [
              1,
              "#f0f921"
             ]
            ],
            "type": "heatmapgl"
           }
          ],
          "histogram": [
           {
            "marker": {
             "pattern": {
              "fillmode": "overlay",
              "size": 10,
              "solidity": 0.2
             }
            },
            "type": "histogram"
           }
          ],
          "histogram2d": [
           {
            "colorbar": {
             "outlinewidth": 0,
             "ticks": ""
            },
            "colorscale": [
             [
              0,
              "#0d0887"
             ],
             [
              0.1111111111111111,
              "#46039f"
             ],
             [
              0.2222222222222222,
              "#7201a8"
             ],
             [
              0.3333333333333333,
              "#9c179e"
             ],
             [
              0.4444444444444444,
              "#bd3786"
             ],
             [
              0.5555555555555556,
              "#d8576b"
             ],
             [
              0.6666666666666666,
              "#ed7953"
             ],
             [
              0.7777777777777778,
              "#fb9f3a"
             ],
             [
              0.8888888888888888,
              "#fdca26"
             ],
             [
              1,
              "#f0f921"
             ]
            ],
            "type": "histogram2d"
           }
          ],
          "histogram2dcontour": [
           {
            "colorbar": {
             "outlinewidth": 0,
             "ticks": ""
            },
            "colorscale": [
             [
              0,
              "#0d0887"
             ],
             [
              0.1111111111111111,
              "#46039f"
             ],
             [
              0.2222222222222222,
              "#7201a8"
             ],
             [
              0.3333333333333333,
              "#9c179e"
             ],
             [
              0.4444444444444444,
              "#bd3786"
             ],
             [
              0.5555555555555556,
              "#d8576b"
             ],
             [
              0.6666666666666666,
              "#ed7953"
             ],
             [
              0.7777777777777778,
              "#fb9f3a"
             ],
             [
              0.8888888888888888,
              "#fdca26"
             ],
             [
              1,
              "#f0f921"
             ]
            ],
            "type": "histogram2dcontour"
           }
          ],
          "mesh3d": [
           {
            "colorbar": {
             "outlinewidth": 0,
             "ticks": ""
            },
            "type": "mesh3d"
           }
          ],
          "parcoords": [
           {
            "line": {
             "colorbar": {
              "outlinewidth": 0,
              "ticks": ""
             }
            },
            "type": "parcoords"
           }
          ],
          "pie": [
           {
            "automargin": true,
            "type": "pie"
           }
          ],
          "scatter": [
           {
            "fillpattern": {
             "fillmode": "overlay",
             "size": 10,
             "solidity": 0.2
            },
            "type": "scatter"
           }
          ],
          "scatter3d": [
           {
            "line": {
             "colorbar": {
              "outlinewidth": 0,
              "ticks": ""
             }
            },
            "marker": {
             "colorbar": {
              "outlinewidth": 0,
              "ticks": ""
             }
            },
            "type": "scatter3d"
           }
          ],
          "scattercarpet": [
           {
            "marker": {
             "colorbar": {
              "outlinewidth": 0,
              "ticks": ""
             }
            },
            "type": "scattercarpet"
           }
          ],
          "scattergeo": [
           {
            "marker": {
             "colorbar": {
              "outlinewidth": 0,
              "ticks": ""
             }
            },
            "type": "scattergeo"
           }
          ],
          "scattergl": [
           {
            "marker": {
             "colorbar": {
              "outlinewidth": 0,
              "ticks": ""
             }
            },
            "type": "scattergl"
           }
          ],
          "scattermapbox": [
           {
            "marker": {
             "colorbar": {
              "outlinewidth": 0,
              "ticks": ""
             }
            },
            "type": "scattermapbox"
           }
          ],
          "scatterpolar": [
           {
            "marker": {
             "colorbar": {
              "outlinewidth": 0,
              "ticks": ""
             }
            },
            "type": "scatterpolar"
           }
          ],
          "scatterpolargl": [
           {
            "marker": {
             "colorbar": {
              "outlinewidth": 0,
              "ticks": ""
             }
            },
            "type": "scatterpolargl"
           }
          ],
          "scatterternary": [
           {
            "marker": {
             "colorbar": {
              "outlinewidth": 0,
              "ticks": ""
             }
            },
            "type": "scatterternary"
           }
          ],
          "surface": [
           {
            "colorbar": {
             "outlinewidth": 0,
             "ticks": ""
            },
            "colorscale": [
             [
              0,
              "#0d0887"
             ],
             [
              0.1111111111111111,
              "#46039f"
             ],
             [
              0.2222222222222222,
              "#7201a8"
             ],
             [
              0.3333333333333333,
              "#9c179e"
             ],
             [
              0.4444444444444444,
              "#bd3786"
             ],
             [
              0.5555555555555556,
              "#d8576b"
             ],
             [
              0.6666666666666666,
              "#ed7953"
             ],
             [
              0.7777777777777778,
              "#fb9f3a"
             ],
             [
              0.8888888888888888,
              "#fdca26"
             ],
             [
              1,
              "#f0f921"
             ]
            ],
            "type": "surface"
           }
          ],
          "table": [
           {
            "cells": {
             "fill": {
              "color": "#EBF0F8"
             },
             "line": {
              "color": "white"
             }
            },
            "header": {
             "fill": {
              "color": "#C8D4E3"
             },
             "line": {
              "color": "white"
             }
            },
            "type": "table"
           }
          ]
         },
         "layout": {
          "annotationdefaults": {
           "arrowcolor": "#2a3f5f",
           "arrowhead": 0,
           "arrowwidth": 1
          },
          "autotypenumbers": "strict",
          "coloraxis": {
           "colorbar": {
            "outlinewidth": 0,
            "ticks": ""
           }
          },
          "colorscale": {
           "diverging": [
            [
             0,
             "#8e0152"
            ],
            [
             0.1,
             "#c51b7d"
            ],
            [
             0.2,
             "#de77ae"
            ],
            [
             0.3,
             "#f1b6da"
            ],
            [
             0.4,
             "#fde0ef"
            ],
            [
             0.5,
             "#f7f7f7"
            ],
            [
             0.6,
             "#e6f5d0"
            ],
            [
             0.7,
             "#b8e186"
            ],
            [
             0.8,
             "#7fbc41"
            ],
            [
             0.9,
             "#4d9221"
            ],
            [
             1,
             "#276419"
            ]
           ],
           "sequential": [
            [
             0,
             "#0d0887"
            ],
            [
             0.1111111111111111,
             "#46039f"
            ],
            [
             0.2222222222222222,
             "#7201a8"
            ],
            [
             0.3333333333333333,
             "#9c179e"
            ],
            [
             0.4444444444444444,
             "#bd3786"
            ],
            [
             0.5555555555555556,
             "#d8576b"
            ],
            [
             0.6666666666666666,
             "#ed7953"
            ],
            [
             0.7777777777777778,
             "#fb9f3a"
            ],
            [
             0.8888888888888888,
             "#fdca26"
            ],
            [
             1,
             "#f0f921"
            ]
           ],
           "sequentialminus": [
            [
             0,
             "#0d0887"
            ],
            [
             0.1111111111111111,
             "#46039f"
            ],
            [
             0.2222222222222222,
             "#7201a8"
            ],
            [
             0.3333333333333333,
             "#9c179e"
            ],
            [
             0.4444444444444444,
             "#bd3786"
            ],
            [
             0.5555555555555556,
             "#d8576b"
            ],
            [
             0.6666666666666666,
             "#ed7953"
            ],
            [
             0.7777777777777778,
             "#fb9f3a"
            ],
            [
             0.8888888888888888,
             "#fdca26"
            ],
            [
             1,
             "#f0f921"
            ]
           ]
          },
          "colorway": [
           "#636efa",
           "#EF553B",
           "#00cc96",
           "#ab63fa",
           "#FFA15A",
           "#19d3f3",
           "#FF6692",
           "#B6E880",
           "#FF97FF",
           "#FECB52"
          ],
          "font": {
           "color": "#2a3f5f"
          },
          "geo": {
           "bgcolor": "white",
           "lakecolor": "white",
           "landcolor": "#E5ECF6",
           "showlakes": true,
           "showland": true,
           "subunitcolor": "white"
          },
          "hoverlabel": {
           "align": "left"
          },
          "hovermode": "closest",
          "mapbox": {
           "style": "light"
          },
          "paper_bgcolor": "white",
          "plot_bgcolor": "#E5ECF6",
          "polar": {
           "angularaxis": {
            "gridcolor": "white",
            "linecolor": "white",
            "ticks": ""
           },
           "bgcolor": "#E5ECF6",
           "radialaxis": {
            "gridcolor": "white",
            "linecolor": "white",
            "ticks": ""
           }
          },
          "scene": {
           "xaxis": {
            "backgroundcolor": "#E5ECF6",
            "gridcolor": "white",
            "gridwidth": 2,
            "linecolor": "white",
            "showbackground": true,
            "ticks": "",
            "zerolinecolor": "white"
           },
           "yaxis": {
            "backgroundcolor": "#E5ECF6",
            "gridcolor": "white",
            "gridwidth": 2,
            "linecolor": "white",
            "showbackground": true,
            "ticks": "",
            "zerolinecolor": "white"
           },
           "zaxis": {
            "backgroundcolor": "#E5ECF6",
            "gridcolor": "white",
            "gridwidth": 2,
            "linecolor": "white",
            "showbackground": true,
            "ticks": "",
            "zerolinecolor": "white"
           }
          },
          "shapedefaults": {
           "line": {
            "color": "#2a3f5f"
           }
          },
          "ternary": {
           "aaxis": {
            "gridcolor": "white",
            "linecolor": "white",
            "ticks": ""
           },
           "baxis": {
            "gridcolor": "white",
            "linecolor": "white",
            "ticks": ""
           },
           "bgcolor": "#E5ECF6",
           "caxis": {
            "gridcolor": "white",
            "linecolor": "white",
            "ticks": ""
           }
          },
          "title": {
           "x": 0.05
          },
          "xaxis": {
           "automargin": true,
           "gridcolor": "white",
           "linecolor": "white",
           "ticks": "",
           "title": {
            "standoff": 15
           },
           "zerolinecolor": "white",
           "zerolinewidth": 2
          },
          "yaxis": {
           "automargin": true,
           "gridcolor": "white",
           "linecolor": "white",
           "ticks": "",
           "title": {
            "standoff": 15
           },
           "zerolinecolor": "white",
           "zerolinewidth": 2
          }
         }
        },
        "title": {
         "font": {
          "size": 15
         },
         "text": "WAP for stock_id=197"
        },
        "width": 1100
       }
      }
     },
     "metadata": {},
     "output_type": "display_data"
    }
   ],
   "source": [
    "fig = go.Figure()\n",
    "\n",
    "c = 0\n",
    "color = {0:\"red\", 1:\"orange\", 2:\"lightgreen\", 3:\"blue\", 4:\"purple\", 5:\"black\", 6:\"brown\", 7:\"pink\"}\n",
    "for i in sorted(date):\n",
    "    dt = stock_id_df[stock_id_df[\"date_id\"]==i]\n",
    "    # dt[\"target\"] = dt[\"target\"]-dt[\"target\"].mean() # 平移至０\n",
    "    # dt[\"target\"] = (dt[\"target\"]-dt[\"target\"].mean())/dt[\"target\"].std() # 做標準化\n",
    "    fig.add_trace(\n",
    "    go.Scatter(x = dt['seconds_in_bucket'], \n",
    "            y = dt['wap'], \n",
    "            name = 'wap'+'(date_id='+str(i)+')',\n",
    "            line = dict(color = color[c])))\n",
    "    c += 1\n",
    "\n",
    "\n",
    "fig.update_layout(title = \"WAP for stock_id=\"+str(id),\n",
    "                title_font = dict(size = 15),\n",
    "                showlegend = True,\n",
    "                width = 1100,\n",
    "                height = 400,\n",
    "                margin = dict(l = 40, r = 40, t = 40, b = 20))"
   ]
  },
  {
   "cell_type": "markdown",
   "metadata": {},
   "source": [
    "單一股票Target每日震盪是否有規律（後5分鐘）"
   ]
  },
  {
   "cell_type": "code",
   "execution_count": 21,
   "metadata": {},
   "outputs": [
    {
     "name": "stderr",
     "output_type": "stream",
     "text": [
      "/var/folders/cr/hrrcsjsn65z27n63t_8vbtz40000gn/T/ipykernel_30507/2766680487.py:6: UserWarning:\n",
      "\n",
      "Boolean Series key will be reindexed to match DataFrame index.\n",
      "\n",
      "/var/folders/cr/hrrcsjsn65z27n63t_8vbtz40000gn/T/ipykernel_30507/2766680487.py:6: UserWarning:\n",
      "\n",
      "Boolean Series key will be reindexed to match DataFrame index.\n",
      "\n",
      "/var/folders/cr/hrrcsjsn65z27n63t_8vbtz40000gn/T/ipykernel_30507/2766680487.py:6: UserWarning:\n",
      "\n",
      "Boolean Series key will be reindexed to match DataFrame index.\n",
      "\n",
      "/var/folders/cr/hrrcsjsn65z27n63t_8vbtz40000gn/T/ipykernel_30507/2766680487.py:6: UserWarning:\n",
      "\n",
      "Boolean Series key will be reindexed to match DataFrame index.\n",
      "\n",
      "/var/folders/cr/hrrcsjsn65z27n63t_8vbtz40000gn/T/ipykernel_30507/2766680487.py:6: UserWarning:\n",
      "\n",
      "Boolean Series key will be reindexed to match DataFrame index.\n",
      "\n"
     ]
    },
    {
     "data": {
      "application/vnd.plotly.v1+json": {
       "config": {
        "plotlyServerURL": "https://plot.ly"
       },
       "data": [
        {
         "line": {
          "color": "red"
         },
         "name": "Target(date_id=26)",
         "type": "scatter",
         "x": [
          300,
          310,
          320,
          330,
          340,
          350,
          360,
          370,
          380,
          390,
          400,
          410,
          420,
          430,
          440,
          450,
          460,
          470,
          480,
          490,
          500,
          510,
          520,
          530,
          540
         ],
         "y": [
          -7.6800585,
          2.8800964,
          6.7198277,
          5.660057,
          10.199547,
          6.0498714,
          5.220175,
          -2.2697449,
          -7.119775,
          -3.61979,
          -8.460283,
          -3.4600496,
          -3.1399727,
          3.4797192,
          7.289648,
          3.219843,
          4.2295456,
          6.469488,
          5.120039,
          -6.0397387,
          -11.770129,
          -9.760261,
          -6.200075,
          -9.970069,
          -8.170009
         ]
        },
        {
         "line": {
          "color": "orange"
         },
         "name": "Target(date_id=44)",
         "type": "scatter",
         "x": [
          300,
          310,
          320,
          330,
          340,
          350,
          360,
          370,
          380,
          390,
          400,
          410,
          420,
          430,
          440,
          450,
          460,
          470,
          480,
          490,
          500,
          510,
          520,
          530,
          540
         ],
         "y": [
          -1.1199713,
          0.74982643,
          3.2699108,
          -5.3697824,
          -4.4202805,
          -5.069971,
          -4.1401386,
          -6.6798925,
          -4.209876,
          -1.9299984,
          -0.38027763,
          -1.1301041,
          -2.2500753,
          -5.7297945,
          -3.399849,
          -1.5801191,
          -0.34987926,
          -0.99003315,
          4.2295456,
          10.830164,
          8.410215,
          6.6399574,
          9.919405,
          11.34038,
          5.5098534
         ]
        },
        {
         "line": {
          "color": "lightgreen"
         },
         "name": "Target(date_id=137)",
         "type": "scatter",
         "x": [
          300,
          310,
          320,
          330,
          340,
          350,
          360,
          370,
          380,
          390,
          400,
          410,
          420,
          430,
          440,
          450,
          460,
          470,
          480,
          490,
          500,
          510,
          520,
          530,
          540
         ],
         "y": [
          3.130436,
          6.430149,
          -1.4001131,
          0.97990036,
          3.6299229,
          0.9703636,
          -4.2802095,
          -0.069737434,
          -0.18000603,
          -0.25987625,
          0.90003014,
          -0.12993813,
          1.219511,
          0.10967255,
          5.16057,
          1.9299984,
          7.389784,
          1.8894672,
          4.5096874,
          0.12993813,
          -1.3297796,
          6.4003468,
          0,
          4.1103363,
          -0.27000904
         ]
        },
        {
         "line": {
          "color": "blue"
         },
         "name": "Target(date_id=208)",
         "type": "scatter",
         "x": [
          300,
          310,
          320,
          330,
          340,
          350,
          360,
          370,
          380,
          390,
          400,
          410,
          420,
          430,
          440,
          450,
          460,
          470,
          480,
          490,
          500,
          510,
          520,
          530,
          540
         ],
         "y": [
          12.040138,
          13.200045,
          -10.870099,
          -15.069842,
          -3.5899878,
          1.4698505,
          -7.200241,
          -7.6699257,
          -6.16014,
          -7.0500374,
          -17.420053,
          -24.480225,
          -21.29972,
          -15.550256,
          -12.189746,
          -16.220211,
          -10.929704,
          -3.4797192,
          -3.7401915,
          -6.6000223,
          3.0195713,
          5.0997734,
          9.030104,
          10.509491,
          12.520552
         ]
        },
        {
         "line": {
          "color": "purple"
         },
         "name": "Target(date_id=393)",
         "type": "scatter",
         "x": [
          300,
          310,
          320,
          330,
          340,
          350,
          360,
          370,
          380,
          390,
          400,
          410,
          420,
          430,
          440,
          450,
          460,
          470,
          480,
          490,
          500,
          510,
          520,
          530,
          540
         ],
         "y": [
          10.290146,
          10.279417,
          4.8196316,
          0.9894371,
          -5.5497885,
          0.8904934,
          1.4698505,
          1.360178,
          -1.5801191,
          2.6595592,
          6.059408,
          -2.4801493,
          2.720356,
          11.450052,
          8.790493,
          6.159544,
          6.059408,
          3.5095215,
          5.890131,
          -0.5799532,
          0.02026558,
          -4.2301416,
          -2.0498037,
          5.580187,
          -3.2502413
         ]
        }
       ],
       "layout": {
        "height": 400,
        "margin": {
         "b": 20,
         "l": 40,
         "r": 40,
         "t": 40
        },
        "showlegend": true,
        "template": {
         "data": {
          "bar": [
           {
            "error_x": {
             "color": "#2a3f5f"
            },
            "error_y": {
             "color": "#2a3f5f"
            },
            "marker": {
             "line": {
              "color": "#E5ECF6",
              "width": 0.5
             },
             "pattern": {
              "fillmode": "overlay",
              "size": 10,
              "solidity": 0.2
             }
            },
            "type": "bar"
           }
          ],
          "barpolar": [
           {
            "marker": {
             "line": {
              "color": "#E5ECF6",
              "width": 0.5
             },
             "pattern": {
              "fillmode": "overlay",
              "size": 10,
              "solidity": 0.2
             }
            },
            "type": "barpolar"
           }
          ],
          "carpet": [
           {
            "aaxis": {
             "endlinecolor": "#2a3f5f",
             "gridcolor": "white",
             "linecolor": "white",
             "minorgridcolor": "white",
             "startlinecolor": "#2a3f5f"
            },
            "baxis": {
             "endlinecolor": "#2a3f5f",
             "gridcolor": "white",
             "linecolor": "white",
             "minorgridcolor": "white",
             "startlinecolor": "#2a3f5f"
            },
            "type": "carpet"
           }
          ],
          "choropleth": [
           {
            "colorbar": {
             "outlinewidth": 0,
             "ticks": ""
            },
            "type": "choropleth"
           }
          ],
          "contour": [
           {
            "colorbar": {
             "outlinewidth": 0,
             "ticks": ""
            },
            "colorscale": [
             [
              0,
              "#0d0887"
             ],
             [
              0.1111111111111111,
              "#46039f"
             ],
             [
              0.2222222222222222,
              "#7201a8"
             ],
             [
              0.3333333333333333,
              "#9c179e"
             ],
             [
              0.4444444444444444,
              "#bd3786"
             ],
             [
              0.5555555555555556,
              "#d8576b"
             ],
             [
              0.6666666666666666,
              "#ed7953"
             ],
             [
              0.7777777777777778,
              "#fb9f3a"
             ],
             [
              0.8888888888888888,
              "#fdca26"
             ],
             [
              1,
              "#f0f921"
             ]
            ],
            "type": "contour"
           }
          ],
          "contourcarpet": [
           {
            "colorbar": {
             "outlinewidth": 0,
             "ticks": ""
            },
            "type": "contourcarpet"
           }
          ],
          "heatmap": [
           {
            "colorbar": {
             "outlinewidth": 0,
             "ticks": ""
            },
            "colorscale": [
             [
              0,
              "#0d0887"
             ],
             [
              0.1111111111111111,
              "#46039f"
             ],
             [
              0.2222222222222222,
              "#7201a8"
             ],
             [
              0.3333333333333333,
              "#9c179e"
             ],
             [
              0.4444444444444444,
              "#bd3786"
             ],
             [
              0.5555555555555556,
              "#d8576b"
             ],
             [
              0.6666666666666666,
              "#ed7953"
             ],
             [
              0.7777777777777778,
              "#fb9f3a"
             ],
             [
              0.8888888888888888,
              "#fdca26"
             ],
             [
              1,
              "#f0f921"
             ]
            ],
            "type": "heatmap"
           }
          ],
          "heatmapgl": [
           {
            "colorbar": {
             "outlinewidth": 0,
             "ticks": ""
            },
            "colorscale": [
             [
              0,
              "#0d0887"
             ],
             [
              0.1111111111111111,
              "#46039f"
             ],
             [
              0.2222222222222222,
              "#7201a8"
             ],
             [
              0.3333333333333333,
              "#9c179e"
             ],
             [
              0.4444444444444444,
              "#bd3786"
             ],
             [
              0.5555555555555556,
              "#d8576b"
             ],
             [
              0.6666666666666666,
              "#ed7953"
             ],
             [
              0.7777777777777778,
              "#fb9f3a"
             ],
             [
              0.8888888888888888,
              "#fdca26"
             ],
             [
              1,
              "#f0f921"
             ]
            ],
            "type": "heatmapgl"
           }
          ],
          "histogram": [
           {
            "marker": {
             "pattern": {
              "fillmode": "overlay",
              "size": 10,
              "solidity": 0.2
             }
            },
            "type": "histogram"
           }
          ],
          "histogram2d": [
           {
            "colorbar": {
             "outlinewidth": 0,
             "ticks": ""
            },
            "colorscale": [
             [
              0,
              "#0d0887"
             ],
             [
              0.1111111111111111,
              "#46039f"
             ],
             [
              0.2222222222222222,
              "#7201a8"
             ],
             [
              0.3333333333333333,
              "#9c179e"
             ],
             [
              0.4444444444444444,
              "#bd3786"
             ],
             [
              0.5555555555555556,
              "#d8576b"
             ],
             [
              0.6666666666666666,
              "#ed7953"
             ],
             [
              0.7777777777777778,
              "#fb9f3a"
             ],
             [
              0.8888888888888888,
              "#fdca26"
             ],
             [
              1,
              "#f0f921"
             ]
            ],
            "type": "histogram2d"
           }
          ],
          "histogram2dcontour": [
           {
            "colorbar": {
             "outlinewidth": 0,
             "ticks": ""
            },
            "colorscale": [
             [
              0,
              "#0d0887"
             ],
             [
              0.1111111111111111,
              "#46039f"
             ],
             [
              0.2222222222222222,
              "#7201a8"
             ],
             [
              0.3333333333333333,
              "#9c179e"
             ],
             [
              0.4444444444444444,
              "#bd3786"
             ],
             [
              0.5555555555555556,
              "#d8576b"
             ],
             [
              0.6666666666666666,
              "#ed7953"
             ],
             [
              0.7777777777777778,
              "#fb9f3a"
             ],
             [
              0.8888888888888888,
              "#fdca26"
             ],
             [
              1,
              "#f0f921"
             ]
            ],
            "type": "histogram2dcontour"
           }
          ],
          "mesh3d": [
           {
            "colorbar": {
             "outlinewidth": 0,
             "ticks": ""
            },
            "type": "mesh3d"
           }
          ],
          "parcoords": [
           {
            "line": {
             "colorbar": {
              "outlinewidth": 0,
              "ticks": ""
             }
            },
            "type": "parcoords"
           }
          ],
          "pie": [
           {
            "automargin": true,
            "type": "pie"
           }
          ],
          "scatter": [
           {
            "fillpattern": {
             "fillmode": "overlay",
             "size": 10,
             "solidity": 0.2
            },
            "type": "scatter"
           }
          ],
          "scatter3d": [
           {
            "line": {
             "colorbar": {
              "outlinewidth": 0,
              "ticks": ""
             }
            },
            "marker": {
             "colorbar": {
              "outlinewidth": 0,
              "ticks": ""
             }
            },
            "type": "scatter3d"
           }
          ],
          "scattercarpet": [
           {
            "marker": {
             "colorbar": {
              "outlinewidth": 0,
              "ticks": ""
             }
            },
            "type": "scattercarpet"
           }
          ],
          "scattergeo": [
           {
            "marker": {
             "colorbar": {
              "outlinewidth": 0,
              "ticks": ""
             }
            },
            "type": "scattergeo"
           }
          ],
          "scattergl": [
           {
            "marker": {
             "colorbar": {
              "outlinewidth": 0,
              "ticks": ""
             }
            },
            "type": "scattergl"
           }
          ],
          "scattermapbox": [
           {
            "marker": {
             "colorbar": {
              "outlinewidth": 0,
              "ticks": ""
             }
            },
            "type": "scattermapbox"
           }
          ],
          "scatterpolar": [
           {
            "marker": {
             "colorbar": {
              "outlinewidth": 0,
              "ticks": ""
             }
            },
            "type": "scatterpolar"
           }
          ],
          "scatterpolargl": [
           {
            "marker": {
             "colorbar": {
              "outlinewidth": 0,
              "ticks": ""
             }
            },
            "type": "scatterpolargl"
           }
          ],
          "scatterternary": [
           {
            "marker": {
             "colorbar": {
              "outlinewidth": 0,
              "ticks": ""
             }
            },
            "type": "scatterternary"
           }
          ],
          "surface": [
           {
            "colorbar": {
             "outlinewidth": 0,
             "ticks": ""
            },
            "colorscale": [
             [
              0,
              "#0d0887"
             ],
             [
              0.1111111111111111,
              "#46039f"
             ],
             [
              0.2222222222222222,
              "#7201a8"
             ],
             [
              0.3333333333333333,
              "#9c179e"
             ],
             [
              0.4444444444444444,
              "#bd3786"
             ],
             [
              0.5555555555555556,
              "#d8576b"
             ],
             [
              0.6666666666666666,
              "#ed7953"
             ],
             [
              0.7777777777777778,
              "#fb9f3a"
             ],
             [
              0.8888888888888888,
              "#fdca26"
             ],
             [
              1,
              "#f0f921"
             ]
            ],
            "type": "surface"
           }
          ],
          "table": [
           {
            "cells": {
             "fill": {
              "color": "#EBF0F8"
             },
             "line": {
              "color": "white"
             }
            },
            "header": {
             "fill": {
              "color": "#C8D4E3"
             },
             "line": {
              "color": "white"
             }
            },
            "type": "table"
           }
          ]
         },
         "layout": {
          "annotationdefaults": {
           "arrowcolor": "#2a3f5f",
           "arrowhead": 0,
           "arrowwidth": 1
          },
          "autotypenumbers": "strict",
          "coloraxis": {
           "colorbar": {
            "outlinewidth": 0,
            "ticks": ""
           }
          },
          "colorscale": {
           "diverging": [
            [
             0,
             "#8e0152"
            ],
            [
             0.1,
             "#c51b7d"
            ],
            [
             0.2,
             "#de77ae"
            ],
            [
             0.3,
             "#f1b6da"
            ],
            [
             0.4,
             "#fde0ef"
            ],
            [
             0.5,
             "#f7f7f7"
            ],
            [
             0.6,
             "#e6f5d0"
            ],
            [
             0.7,
             "#b8e186"
            ],
            [
             0.8,
             "#7fbc41"
            ],
            [
             0.9,
             "#4d9221"
            ],
            [
             1,
             "#276419"
            ]
           ],
           "sequential": [
            [
             0,
             "#0d0887"
            ],
            [
             0.1111111111111111,
             "#46039f"
            ],
            [
             0.2222222222222222,
             "#7201a8"
            ],
            [
             0.3333333333333333,
             "#9c179e"
            ],
            [
             0.4444444444444444,
             "#bd3786"
            ],
            [
             0.5555555555555556,
             "#d8576b"
            ],
            [
             0.6666666666666666,
             "#ed7953"
            ],
            [
             0.7777777777777778,
             "#fb9f3a"
            ],
            [
             0.8888888888888888,
             "#fdca26"
            ],
            [
             1,
             "#f0f921"
            ]
           ],
           "sequentialminus": [
            [
             0,
             "#0d0887"
            ],
            [
             0.1111111111111111,
             "#46039f"
            ],
            [
             0.2222222222222222,
             "#7201a8"
            ],
            [
             0.3333333333333333,
             "#9c179e"
            ],
            [
             0.4444444444444444,
             "#bd3786"
            ],
            [
             0.5555555555555556,
             "#d8576b"
            ],
            [
             0.6666666666666666,
             "#ed7953"
            ],
            [
             0.7777777777777778,
             "#fb9f3a"
            ],
            [
             0.8888888888888888,
             "#fdca26"
            ],
            [
             1,
             "#f0f921"
            ]
           ]
          },
          "colorway": [
           "#636efa",
           "#EF553B",
           "#00cc96",
           "#ab63fa",
           "#FFA15A",
           "#19d3f3",
           "#FF6692",
           "#B6E880",
           "#FF97FF",
           "#FECB52"
          ],
          "font": {
           "color": "#2a3f5f"
          },
          "geo": {
           "bgcolor": "white",
           "lakecolor": "white",
           "landcolor": "#E5ECF6",
           "showlakes": true,
           "showland": true,
           "subunitcolor": "white"
          },
          "hoverlabel": {
           "align": "left"
          },
          "hovermode": "closest",
          "mapbox": {
           "style": "light"
          },
          "paper_bgcolor": "white",
          "plot_bgcolor": "#E5ECF6",
          "polar": {
           "angularaxis": {
            "gridcolor": "white",
            "linecolor": "white",
            "ticks": ""
           },
           "bgcolor": "#E5ECF6",
           "radialaxis": {
            "gridcolor": "white",
            "linecolor": "white",
            "ticks": ""
           }
          },
          "scene": {
           "xaxis": {
            "backgroundcolor": "#E5ECF6",
            "gridcolor": "white",
            "gridwidth": 2,
            "linecolor": "white",
            "showbackground": true,
            "ticks": "",
            "zerolinecolor": "white"
           },
           "yaxis": {
            "backgroundcolor": "#E5ECF6",
            "gridcolor": "white",
            "gridwidth": 2,
            "linecolor": "white",
            "showbackground": true,
            "ticks": "",
            "zerolinecolor": "white"
           },
           "zaxis": {
            "backgroundcolor": "#E5ECF6",
            "gridcolor": "white",
            "gridwidth": 2,
            "linecolor": "white",
            "showbackground": true,
            "ticks": "",
            "zerolinecolor": "white"
           }
          },
          "shapedefaults": {
           "line": {
            "color": "#2a3f5f"
           }
          },
          "ternary": {
           "aaxis": {
            "gridcolor": "white",
            "linecolor": "white",
            "ticks": ""
           },
           "baxis": {
            "gridcolor": "white",
            "linecolor": "white",
            "ticks": ""
           },
           "bgcolor": "#E5ECF6",
           "caxis": {
            "gridcolor": "white",
            "linecolor": "white",
            "ticks": ""
           }
          },
          "title": {
           "x": 0.05
          },
          "xaxis": {
           "automargin": true,
           "gridcolor": "white",
           "linecolor": "white",
           "ticks": "",
           "title": {
            "standoff": 15
           },
           "zerolinecolor": "white",
           "zerolinewidth": 2
          },
          "yaxis": {
           "automargin": true,
           "gridcolor": "white",
           "linecolor": "white",
           "ticks": "",
           "title": {
            "standoff": 15
           },
           "zerolinecolor": "white",
           "zerolinewidth": 2
          }
         }
        },
        "title": {
         "font": {
          "size": 15
         },
         "text": "Target Variable for stock_id=197"
        },
        "width": 1100
       }
      }
     },
     "metadata": {},
     "output_type": "display_data"
    }
   ],
   "source": [
    "fig = go.Figure()\n",
    "\n",
    "c = 0\n",
    "for i in sorted(date):\n",
    "    day = stock_id_df[stock_id_df['date_id']==i]\n",
    "    dt = day[stock_id_df['seconds_in_bucket']>=300]\n",
    "    # dt[\"target\"] = dt[\"target\"]-dt[\"target\"].mean() # 平移至０\n",
    "    # dt[\"target\"] = (dt[\"target\"]-dt[\"target\"].mean())/dt[\"target\"].std() # 做標準化\n",
    "    fig.add_trace(\n",
    "    go.Scatter(x = dt['seconds_in_bucket'], \n",
    "            y = dt['target'], \n",
    "            name = 'Target'+'(date_id='+str(i)+')',\n",
    "            line = dict(color = color[c])))\n",
    "    c += 1\n",
    "\n",
    "\n",
    "fig.update_layout(title = 'Target Variable for stock_id='+str(id),\n",
    "                title_font = dict(size = 15),\n",
    "                showlegend = True,\n",
    "                width = 1100,\n",
    "                height = 400,\n",
    "                margin = dict(l = 40, r = 40, t = 40, b = 20))"
   ]
  },
  {
   "cell_type": "markdown",
   "metadata": {},
   "source": [
    "同天不同股票的wap比較"
   ]
  },
  {
   "cell_type": "code",
   "execution_count": 22,
   "metadata": {},
   "outputs": [
    {
     "data": {
      "application/vnd.plotly.v1+json": {
       "config": {
        "plotlyServerURL": "https://plot.ly"
       },
       "data": [
        {
         "line": {
          "color": "red"
         },
         "name": "wap(stock_id=9)",
         "type": "scatter",
         "x": [
          0,
          10,
          20,
          30,
          40,
          50,
          60,
          70,
          80,
          90,
          100,
          110,
          120,
          130,
          140,
          150,
          160,
          170,
          180,
          190,
          200,
          210,
          220,
          230,
          240,
          250,
          260,
          270,
          280,
          290,
          300,
          310,
          320,
          330,
          340,
          350,
          360,
          370,
          380,
          390,
          400,
          410,
          420,
          430,
          440,
          450,
          460,
          470,
          480,
          490,
          500,
          510,
          520,
          530,
          540
         ],
         "y": [
          1,
          1.000682,
          1.001164,
          1.00134,
          1.00116,
          1.000942,
          1.000885,
          1.000786,
          1.001184,
          1.001324,
          1.001285,
          1.001342,
          1.0012,
          1.001281,
          1.001387,
          1.001349,
          1.001395,
          1.001306,
          1.001181,
          1.001259,
          1.001425,
          1.001635,
          1.001721,
          1.001848,
          1.001662,
          1.001612,
          1.001585,
          1.001461,
          1.001373,
          1.001103,
          1.001267,
          1.001327,
          1.001419,
          1.001413,
          1.001584,
          1.001544,
          1.001506,
          1.001389,
          1.001407,
          1.001364,
          1.001365,
          1.001091,
          1.001112,
          1.001116,
          1.001102,
          1.001116,
          1.001094,
          1.001102,
          1.001009,
          1.000977,
          1.000959,
          1.000959,
          1.000953,
          1.00097,
          1.000971
         ]
        },
        {
         "line": {
          "color": "orange"
         },
         "name": "wap(stock_id=27)",
         "type": "scatter",
         "x": [
          0,
          10,
          20,
          30,
          40,
          50,
          60,
          70,
          80,
          90,
          100,
          110,
          120,
          130,
          140,
          150,
          160,
          170,
          180,
          190,
          200,
          210,
          220,
          230,
          240,
          250,
          260,
          270,
          280,
          290,
          300,
          310,
          320,
          330,
          340,
          350,
          360,
          370,
          380,
          390,
          400,
          410,
          420,
          430,
          440,
          450,
          460,
          470,
          480,
          490,
          500,
          510,
          520,
          530,
          540
         ],
         "y": [
          1,
          1.002516,
          1.002955,
          1.003152,
          1.003481,
          1.001896,
          1.001569,
          1.001327,
          1.001714,
          1.002201,
          1.002096,
          1.002111,
          1.002175,
          1.002304,
          1.002228,
          1.002721,
          1.002466,
          1.002679,
          1.002503,
          1.003018,
          1.003607,
          1.003316,
          1.003325,
          1.003081,
          1.00258,
          1.002702,
          1.001667,
          1.00135,
          0.99967,
          0.999688,
          0.999501,
          0.99992,
          1.000008,
          0.999944,
          1.00087,
          1.000145,
          0.999919,
          0.999882,
          0.999567,
          0.999664,
          0.99895,
          0.998804,
          0.998727,
          0.998643,
          0.998333,
          0.998219,
          0.998045,
          0.998027,
          0.998406,
          0.998785,
          0.999141,
          0.999128,
          0.999202,
          0.999298,
          0.999063
         ]
        },
        {
         "line": {
          "color": "lightgreen"
         },
         "name": "wap(stock_id=68)",
         "type": "scatter",
         "x": [
          0,
          10,
          20,
          30,
          40,
          50,
          60,
          70,
          80,
          90,
          100,
          110,
          120,
          130,
          140,
          150,
          160,
          170,
          180,
          190,
          200,
          210,
          220,
          230,
          240,
          250,
          260,
          270,
          280,
          290,
          300,
          310,
          320,
          330,
          340,
          350,
          360,
          370,
          380,
          390,
          400,
          410,
          420,
          430,
          440,
          450,
          460,
          470,
          480,
          490,
          500,
          510,
          520,
          530,
          540
         ],
         "y": [
          1,
          1.002048,
          1.002693,
          1.002804,
          1.002495,
          1.002508,
          1.002239,
          1.002008,
          1.001968,
          1.001847,
          1.001824,
          1.002556,
          1.002019,
          1.002375,
          1.002748,
          1.002856,
          1.002545,
          1.00263,
          1.002467,
          1.002418,
          1.0028,
          1.002949,
          1.003335,
          1.003595,
          1.003285,
          1.003536,
          1.003485,
          1.00335,
          1.003542,
          1.004216,
          1.004679,
          1.004952,
          1.004894,
          1.004956,
          1.005114,
          1.004856,
          1.004952,
          1.005099,
          1.004937,
          1.005356,
          1.00517,
          1.005103,
          1.005367,
          1.005288,
          1.004917,
          1.005053,
          1.004902,
          1.0048,
          1.004808,
          1.004604,
          1.00466,
          1.00464,
          1.004631,
          1.00456,
          1.00469
         ]
        },
        {
         "line": {
          "color": "blue"
         },
         "name": "wap(stock_id=97)",
         "type": "scatter",
         "x": [
          0,
          10,
          20,
          30,
          40,
          50,
          60,
          70,
          80,
          90,
          100,
          110,
          120,
          130,
          140,
          150,
          160,
          170,
          180,
          190,
          200,
          210,
          220,
          230,
          240,
          250,
          260,
          270,
          280,
          290,
          300,
          310,
          320,
          330,
          340,
          350,
          360,
          370,
          380,
          390,
          400,
          410,
          420,
          430,
          440,
          450,
          460,
          470,
          480,
          490,
          500,
          510,
          520,
          530,
          540
         ],
         "y": [
          1,
          1.000848,
          1.001299,
          1.001518,
          1.001338,
          1.001361,
          1.001569,
          1.001483,
          1.001551,
          1.00204,
          1.002098,
          1.002248,
          1.002641,
          1.002422,
          1.002408,
          1.002587,
          1.002328,
          1.00215,
          1.002038,
          1.002193,
          1.002294,
          1.002064,
          1.002064,
          1.002064,
          1.001708,
          1.001912,
          1.001428,
          1.001235,
          1.000087,
          0.999229,
          1.000497,
          0.999775,
          0.999379,
          1.001702,
          1.001782,
          1.002134,
          1.002305,
          1.002306,
          1.002345,
          1.003245,
          1.002645,
          1.002561,
          1.002538,
          1.002081,
          1.001071,
          1.001495,
          1.000162,
          1.000206,
          0.999824,
          1.000573,
          1.000824,
          0.999961,
          1.000199,
          0.999818,
          1.000499
         ]
        },
        {
         "line": {
          "color": "purple"
         },
         "name": "wap(stock_id=137)",
         "type": "scatter",
         "x": [
          0,
          10,
          20,
          30,
          40,
          50,
          60,
          70,
          80,
          90,
          100,
          110,
          120,
          130,
          140,
          150,
          160,
          170,
          180,
          190,
          200,
          210,
          220,
          230,
          240,
          250,
          260,
          270,
          280,
          290,
          300,
          310,
          320,
          330,
          340,
          350,
          360,
          370,
          380,
          390,
          400,
          410,
          420,
          430,
          440,
          450,
          460,
          470,
          480,
          490,
          500,
          510,
          520,
          530,
          540
         ],
         "y": [
          1,
          1.000394,
          1.001141,
          1.001707,
          1.001914,
          1.001832,
          1.001935,
          1.001688,
          1.001771,
          1.001633,
          1.001737,
          1.002531,
          1.002373,
          1.002456,
          1.002202,
          1.002353,
          1.002731,
          1.003089,
          1.003135,
          1.003479,
          1.003531,
          1.004047,
          1.004085,
          1.004115,
          1.003977,
          1.003541,
          1.00359,
          1.003695,
          1.003763,
          1.003742,
          1.003319,
          1.004539,
          1.004848,
          1.004826,
          1.005091,
          1.00458,
          1.004309,
          1.004575,
          1.004565,
          1.004892,
          1.004571,
          1.004711,
          1.005071,
          1.005011,
          1.005075,
          1.005206,
          1.005043,
          1.005035,
          1.004888,
          1.004588,
          1.00472,
          1.004762,
          1.004329,
          1.004581,
          1.004546
         ]
        }
       ],
       "layout": {
        "height": 400,
        "margin": {
         "b": 20,
         "l": 40,
         "r": 40,
         "t": 40
        },
        "showlegend": true,
        "template": {
         "data": {
          "bar": [
           {
            "error_x": {
             "color": "#2a3f5f"
            },
            "error_y": {
             "color": "#2a3f5f"
            },
            "marker": {
             "line": {
              "color": "#E5ECF6",
              "width": 0.5
             },
             "pattern": {
              "fillmode": "overlay",
              "size": 10,
              "solidity": 0.2
             }
            },
            "type": "bar"
           }
          ],
          "barpolar": [
           {
            "marker": {
             "line": {
              "color": "#E5ECF6",
              "width": 0.5
             },
             "pattern": {
              "fillmode": "overlay",
              "size": 10,
              "solidity": 0.2
             }
            },
            "type": "barpolar"
           }
          ],
          "carpet": [
           {
            "aaxis": {
             "endlinecolor": "#2a3f5f",
             "gridcolor": "white",
             "linecolor": "white",
             "minorgridcolor": "white",
             "startlinecolor": "#2a3f5f"
            },
            "baxis": {
             "endlinecolor": "#2a3f5f",
             "gridcolor": "white",
             "linecolor": "white",
             "minorgridcolor": "white",
             "startlinecolor": "#2a3f5f"
            },
            "type": "carpet"
           }
          ],
          "choropleth": [
           {
            "colorbar": {
             "outlinewidth": 0,
             "ticks": ""
            },
            "type": "choropleth"
           }
          ],
          "contour": [
           {
            "colorbar": {
             "outlinewidth": 0,
             "ticks": ""
            },
            "colorscale": [
             [
              0,
              "#0d0887"
             ],
             [
              0.1111111111111111,
              "#46039f"
             ],
             [
              0.2222222222222222,
              "#7201a8"
             ],
             [
              0.3333333333333333,
              "#9c179e"
             ],
             [
              0.4444444444444444,
              "#bd3786"
             ],
             [
              0.5555555555555556,
              "#d8576b"
             ],
             [
              0.6666666666666666,
              "#ed7953"
             ],
             [
              0.7777777777777778,
              "#fb9f3a"
             ],
             [
              0.8888888888888888,
              "#fdca26"
             ],
             [
              1,
              "#f0f921"
             ]
            ],
            "type": "contour"
           }
          ],
          "contourcarpet": [
           {
            "colorbar": {
             "outlinewidth": 0,
             "ticks": ""
            },
            "type": "contourcarpet"
           }
          ],
          "heatmap": [
           {
            "colorbar": {
             "outlinewidth": 0,
             "ticks": ""
            },
            "colorscale": [
             [
              0,
              "#0d0887"
             ],
             [
              0.1111111111111111,
              "#46039f"
             ],
             [
              0.2222222222222222,
              "#7201a8"
             ],
             [
              0.3333333333333333,
              "#9c179e"
             ],
             [
              0.4444444444444444,
              "#bd3786"
             ],
             [
              0.5555555555555556,
              "#d8576b"
             ],
             [
              0.6666666666666666,
              "#ed7953"
             ],
             [
              0.7777777777777778,
              "#fb9f3a"
             ],
             [
              0.8888888888888888,
              "#fdca26"
             ],
             [
              1,
              "#f0f921"
             ]
            ],
            "type": "heatmap"
           }
          ],
          "heatmapgl": [
           {
            "colorbar": {
             "outlinewidth": 0,
             "ticks": ""
            },
            "colorscale": [
             [
              0,
              "#0d0887"
             ],
             [
              0.1111111111111111,
              "#46039f"
             ],
             [
              0.2222222222222222,
              "#7201a8"
             ],
             [
              0.3333333333333333,
              "#9c179e"
             ],
             [
              0.4444444444444444,
              "#bd3786"
             ],
             [
              0.5555555555555556,
              "#d8576b"
             ],
             [
              0.6666666666666666,
              "#ed7953"
             ],
             [
              0.7777777777777778,
              "#fb9f3a"
             ],
             [
              0.8888888888888888,
              "#fdca26"
             ],
             [
              1,
              "#f0f921"
             ]
            ],
            "type": "heatmapgl"
           }
          ],
          "histogram": [
           {
            "marker": {
             "pattern": {
              "fillmode": "overlay",
              "size": 10,
              "solidity": 0.2
             }
            },
            "type": "histogram"
           }
          ],
          "histogram2d": [
           {
            "colorbar": {
             "outlinewidth": 0,
             "ticks": ""
            },
            "colorscale": [
             [
              0,
              "#0d0887"
             ],
             [
              0.1111111111111111,
              "#46039f"
             ],
             [
              0.2222222222222222,
              "#7201a8"
             ],
             [
              0.3333333333333333,
              "#9c179e"
             ],
             [
              0.4444444444444444,
              "#bd3786"
             ],
             [
              0.5555555555555556,
              "#d8576b"
             ],
             [
              0.6666666666666666,
              "#ed7953"
             ],
             [
              0.7777777777777778,
              "#fb9f3a"
             ],
             [
              0.8888888888888888,
              "#fdca26"
             ],
             [
              1,
              "#f0f921"
             ]
            ],
            "type": "histogram2d"
           }
          ],
          "histogram2dcontour": [
           {
            "colorbar": {
             "outlinewidth": 0,
             "ticks": ""
            },
            "colorscale": [
             [
              0,
              "#0d0887"
             ],
             [
              0.1111111111111111,
              "#46039f"
             ],
             [
              0.2222222222222222,
              "#7201a8"
             ],
             [
              0.3333333333333333,
              "#9c179e"
             ],
             [
              0.4444444444444444,
              "#bd3786"
             ],
             [
              0.5555555555555556,
              "#d8576b"
             ],
             [
              0.6666666666666666,
              "#ed7953"
             ],
             [
              0.7777777777777778,
              "#fb9f3a"
             ],
             [
              0.8888888888888888,
              "#fdca26"
             ],
             [
              1,
              "#f0f921"
             ]
            ],
            "type": "histogram2dcontour"
           }
          ],
          "mesh3d": [
           {
            "colorbar": {
             "outlinewidth": 0,
             "ticks": ""
            },
            "type": "mesh3d"
           }
          ],
          "parcoords": [
           {
            "line": {
             "colorbar": {
              "outlinewidth": 0,
              "ticks": ""
             }
            },
            "type": "parcoords"
           }
          ],
          "pie": [
           {
            "automargin": true,
            "type": "pie"
           }
          ],
          "scatter": [
           {
            "fillpattern": {
             "fillmode": "overlay",
             "size": 10,
             "solidity": 0.2
            },
            "type": "scatter"
           }
          ],
          "scatter3d": [
           {
            "line": {
             "colorbar": {
              "outlinewidth": 0,
              "ticks": ""
             }
            },
            "marker": {
             "colorbar": {
              "outlinewidth": 0,
              "ticks": ""
             }
            },
            "type": "scatter3d"
           }
          ],
          "scattercarpet": [
           {
            "marker": {
             "colorbar": {
              "outlinewidth": 0,
              "ticks": ""
             }
            },
            "type": "scattercarpet"
           }
          ],
          "scattergeo": [
           {
            "marker": {
             "colorbar": {
              "outlinewidth": 0,
              "ticks": ""
             }
            },
            "type": "scattergeo"
           }
          ],
          "scattergl": [
           {
            "marker": {
             "colorbar": {
              "outlinewidth": 0,
              "ticks": ""
             }
            },
            "type": "scattergl"
           }
          ],
          "scattermapbox": [
           {
            "marker": {
             "colorbar": {
              "outlinewidth": 0,
              "ticks": ""
             }
            },
            "type": "scattermapbox"
           }
          ],
          "scatterpolar": [
           {
            "marker": {
             "colorbar": {
              "outlinewidth": 0,
              "ticks": ""
             }
            },
            "type": "scatterpolar"
           }
          ],
          "scatterpolargl": [
           {
            "marker": {
             "colorbar": {
              "outlinewidth": 0,
              "ticks": ""
             }
            },
            "type": "scatterpolargl"
           }
          ],
          "scatterternary": [
           {
            "marker": {
             "colorbar": {
              "outlinewidth": 0,
              "ticks": ""
             }
            },
            "type": "scatterternary"
           }
          ],
          "surface": [
           {
            "colorbar": {
             "outlinewidth": 0,
             "ticks": ""
            },
            "colorscale": [
             [
              0,
              "#0d0887"
             ],
             [
              0.1111111111111111,
              "#46039f"
             ],
             [
              0.2222222222222222,
              "#7201a8"
             ],
             [
              0.3333333333333333,
              "#9c179e"
             ],
             [
              0.4444444444444444,
              "#bd3786"
             ],
             [
              0.5555555555555556,
              "#d8576b"
             ],
             [
              0.6666666666666666,
              "#ed7953"
             ],
             [
              0.7777777777777778,
              "#fb9f3a"
             ],
             [
              0.8888888888888888,
              "#fdca26"
             ],
             [
              1,
              "#f0f921"
             ]
            ],
            "type": "surface"
           }
          ],
          "table": [
           {
            "cells": {
             "fill": {
              "color": "#EBF0F8"
             },
             "line": {
              "color": "white"
             }
            },
            "header": {
             "fill": {
              "color": "#C8D4E3"
             },
             "line": {
              "color": "white"
             }
            },
            "type": "table"
           }
          ]
         },
         "layout": {
          "annotationdefaults": {
           "arrowcolor": "#2a3f5f",
           "arrowhead": 0,
           "arrowwidth": 1
          },
          "autotypenumbers": "strict",
          "coloraxis": {
           "colorbar": {
            "outlinewidth": 0,
            "ticks": ""
           }
          },
          "colorscale": {
           "diverging": [
            [
             0,
             "#8e0152"
            ],
            [
             0.1,
             "#c51b7d"
            ],
            [
             0.2,
             "#de77ae"
            ],
            [
             0.3,
             "#f1b6da"
            ],
            [
             0.4,
             "#fde0ef"
            ],
            [
             0.5,
             "#f7f7f7"
            ],
            [
             0.6,
             "#e6f5d0"
            ],
            [
             0.7,
             "#b8e186"
            ],
            [
             0.8,
             "#7fbc41"
            ],
            [
             0.9,
             "#4d9221"
            ],
            [
             1,
             "#276419"
            ]
           ],
           "sequential": [
            [
             0,
             "#0d0887"
            ],
            [
             0.1111111111111111,
             "#46039f"
            ],
            [
             0.2222222222222222,
             "#7201a8"
            ],
            [
             0.3333333333333333,
             "#9c179e"
            ],
            [
             0.4444444444444444,
             "#bd3786"
            ],
            [
             0.5555555555555556,
             "#d8576b"
            ],
            [
             0.6666666666666666,
             "#ed7953"
            ],
            [
             0.7777777777777778,
             "#fb9f3a"
            ],
            [
             0.8888888888888888,
             "#fdca26"
            ],
            [
             1,
             "#f0f921"
            ]
           ],
           "sequentialminus": [
            [
             0,
             "#0d0887"
            ],
            [
             0.1111111111111111,
             "#46039f"
            ],
            [
             0.2222222222222222,
             "#7201a8"
            ],
            [
             0.3333333333333333,
             "#9c179e"
            ],
            [
             0.4444444444444444,
             "#bd3786"
            ],
            [
             0.5555555555555556,
             "#d8576b"
            ],
            [
             0.6666666666666666,
             "#ed7953"
            ],
            [
             0.7777777777777778,
             "#fb9f3a"
            ],
            [
             0.8888888888888888,
             "#fdca26"
            ],
            [
             1,
             "#f0f921"
            ]
           ]
          },
          "colorway": [
           "#636efa",
           "#EF553B",
           "#00cc96",
           "#ab63fa",
           "#FFA15A",
           "#19d3f3",
           "#FF6692",
           "#B6E880",
           "#FF97FF",
           "#FECB52"
          ],
          "font": {
           "color": "#2a3f5f"
          },
          "geo": {
           "bgcolor": "white",
           "lakecolor": "white",
           "landcolor": "#E5ECF6",
           "showlakes": true,
           "showland": true,
           "subunitcolor": "white"
          },
          "hoverlabel": {
           "align": "left"
          },
          "hovermode": "closest",
          "mapbox": {
           "style": "light"
          },
          "paper_bgcolor": "white",
          "plot_bgcolor": "#E5ECF6",
          "polar": {
           "angularaxis": {
            "gridcolor": "white",
            "linecolor": "white",
            "ticks": ""
           },
           "bgcolor": "#E5ECF6",
           "radialaxis": {
            "gridcolor": "white",
            "linecolor": "white",
            "ticks": ""
           }
          },
          "scene": {
           "xaxis": {
            "backgroundcolor": "#E5ECF6",
            "gridcolor": "white",
            "gridwidth": 2,
            "linecolor": "white",
            "showbackground": true,
            "ticks": "",
            "zerolinecolor": "white"
           },
           "yaxis": {
            "backgroundcolor": "#E5ECF6",
            "gridcolor": "white",
            "gridwidth": 2,
            "linecolor": "white",
            "showbackground": true,
            "ticks": "",
            "zerolinecolor": "white"
           },
           "zaxis": {
            "backgroundcolor": "#E5ECF6",
            "gridcolor": "white",
            "gridwidth": 2,
            "linecolor": "white",
            "showbackground": true,
            "ticks": "",
            "zerolinecolor": "white"
           }
          },
          "shapedefaults": {
           "line": {
            "color": "#2a3f5f"
           }
          },
          "ternary": {
           "aaxis": {
            "gridcolor": "white",
            "linecolor": "white",
            "ticks": ""
           },
           "baxis": {
            "gridcolor": "white",
            "linecolor": "white",
            "ticks": ""
           },
           "bgcolor": "#E5ECF6",
           "caxis": {
            "gridcolor": "white",
            "linecolor": "white",
            "ticks": ""
           }
          },
          "title": {
           "x": 0.05
          },
          "xaxis": {
           "automargin": true,
           "gridcolor": "white",
           "linecolor": "white",
           "ticks": "",
           "title": {
            "standoff": 15
           },
           "zerolinecolor": "white",
           "zerolinewidth": 2
          },
          "yaxis": {
           "automargin": true,
           "gridcolor": "white",
           "linecolor": "white",
           "ticks": "",
           "title": {
            "standoff": 15
           },
           "zerolinecolor": "white",
           "zerolinewidth": 2
          }
         }
        },
        "title": {
         "font": {
          "size": 15
         },
         "text": "WAP for date_id=170"
        },
        "width": 1100
       }
      }
     },
     "metadata": {},
     "output_type": "display_data"
    }
   ],
   "source": [
    "fig = go.Figure()\n",
    "# random.seed(789)\n",
    "stockID = sorted(random.sample(sorted(df[\"stock_id\"].unique()), 5))\n",
    "dateID = sorted(random.sample(sorted(df[\"date_id\"].unique()), 3))\n",
    "c = 0\n",
    "for i in sorted(stockID):\n",
    "    dt = df[(df[\"stock_id\"]==i)&(df[\"date_id\"]==dateID[0])]\n",
    "    # dt[\"target\"] = dt[\"target\"]-dt[\"target\"].mean() # 平移至０\n",
    "    # dt[\"target\"] = (dt[\"target\"]-dt[\"target\"].mean())/dt[\"target\"].std() # 做標準化\n",
    "    fig.add_trace(\n",
    "    go.Scatter(x = dt['seconds_in_bucket'], \n",
    "            y = dt['wap'], \n",
    "            name = 'wap'+'(stock_id='+str(i)+')',\n",
    "            line = dict(color = color[c])))\n",
    "    c += 1\n",
    "\n",
    "\n",
    "fig.update_layout(title = \"WAP for date_id=\"+str(dateID[0]),\n",
    "                title_font = dict(size = 15),\n",
    "                showlegend = True,\n",
    "                width = 1100,\n",
    "                height = 400,\n",
    "                margin = dict(l = 40, r = 40, t = 40, b = 20))"
   ]
  },
  {
   "cell_type": "code",
   "execution_count": 23,
   "metadata": {},
   "outputs": [
    {
     "data": {
      "application/vnd.plotly.v1+json": {
       "config": {
        "plotlyServerURL": "https://plot.ly"
       },
       "data": [
        {
         "line": {
          "color": "red"
         },
         "name": "wap(stock_id=9)",
         "type": "scatter",
         "x": [
          0,
          10,
          20,
          30,
          40,
          50,
          60,
          70,
          80,
          90,
          100,
          110,
          120,
          130,
          140,
          150,
          160,
          170,
          180,
          190,
          200,
          210,
          220,
          230,
          240,
          250,
          260,
          270,
          280,
          290,
          300,
          310,
          320,
          330,
          340,
          350,
          360,
          370,
          380,
          390,
          400,
          410,
          420,
          430,
          440,
          450,
          460,
          470,
          480,
          490,
          500,
          510,
          520,
          530,
          540
         ],
         "y": [
          1,
          1.000935,
          1.000662,
          1.001094,
          1.000735,
          1.000246,
          1.000173,
          1.000334,
          0.999623,
          0.999604,
          0.999438,
          0.999325,
          0.999324,
          0.999101,
          0.998949,
          0.998867,
          0.998937,
          0.99898,
          0.998939,
          0.998765,
          0.998925,
          0.998807,
          0.998709,
          0.998769,
          0.99876,
          0.998522,
          0.998467,
          0.998296,
          0.997977,
          0.9979,
          0.997954,
          0.997587,
          0.997068,
          0.997372,
          0.997465,
          0.997484,
          0.997817,
          0.997609,
          0.99761,
          0.997746,
          0.997629,
          0.997658,
          0.997656,
          0.997513,
          0.997649,
          0.997622,
          0.997627,
          0.997616,
          0.997513,
          0.997609,
          0.997554,
          0.997504,
          0.997494,
          0.997498,
          0.997229
         ]
        },
        {
         "line": {
          "color": "orange"
         },
         "name": "wap(stock_id=27)",
         "type": "scatter",
         "x": [
          0,
          10,
          20,
          30,
          40,
          50,
          60,
          70,
          80,
          90,
          100,
          110,
          120,
          130,
          140,
          150,
          160,
          170,
          180,
          190,
          200,
          210,
          220,
          230,
          240,
          250,
          260,
          270,
          280,
          290,
          300,
          310,
          320,
          330,
          340,
          350,
          360,
          370,
          380,
          390,
          400,
          410,
          420,
          430,
          440,
          450,
          460,
          470,
          480,
          490,
          500,
          510,
          520,
          530,
          540
         ],
         "y": [
          1,
          1.000898,
          1.000711,
          1.00175,
          1.001667,
          1.000979,
          1.001368,
          1.001582,
          1.000396,
          1.000126,
          1.000923,
          1.00089,
          1.000937,
          1.001294,
          1.00116,
          1.001719,
          1.001515,
          1.001758,
          1.000818,
          1.000983,
          1.002347,
          1.002104,
          1.002073,
          1.002659,
          1.002307,
          1.002958,
          1.002237,
          1.001603,
          1.002265,
          1.001053,
          1.000704,
          1.001205,
          1.000542,
          1.000568,
          1.000585,
          1.000896,
          1.001014,
          1.001003,
          1.000627,
          1.001114,
          1.000987,
          1.002127,
          1.001948,
          1.001158,
          1.000946,
          1.000929,
          1.001114,
          1.000884,
          1.000737,
          1.000974,
          1.001554,
          1.001484,
          1.001406,
          1.001167,
          1.001381
         ]
        },
        {
         "line": {
          "color": "lightgreen"
         },
         "name": "wap(stock_id=68)",
         "type": "scatter",
         "x": [
          0,
          10,
          20,
          30,
          40,
          50,
          60,
          70,
          80,
          90,
          100,
          110,
          120,
          130,
          140,
          150,
          160,
          170,
          180,
          190,
          200,
          210,
          220,
          230,
          240,
          250,
          260,
          270,
          280,
          290,
          300,
          310,
          320,
          330,
          340,
          350,
          360,
          370,
          380,
          390,
          400,
          410,
          420,
          430,
          440,
          450,
          460,
          470,
          480,
          490,
          500,
          510,
          520,
          530,
          540
         ],
         "y": [
          1,
          1.000255,
          1.000222,
          1.000467,
          1.000491,
          0.999927,
          1.000154,
          1.00013,
          0.999751,
          0.999691,
          0.998908,
          0.999099,
          0.999017,
          0.998987,
          0.999155,
          0.999106,
          0.998817,
          0.999256,
          0.999237,
          0.999163,
          0.999401,
          0.999669,
          0.999463,
          0.999458,
          0.999171,
          0.999251,
          0.999043,
          0.999008,
          0.998708,
          0.998519,
          0.998972,
          0.998917,
          0.998769,
          0.998947,
          0.999122,
          0.999057,
          0.998989,
          0.998997,
          0.998956,
          0.999035,
          0.998955,
          0.998973,
          0.99907,
          0.998761,
          0.998835,
          0.998791,
          0.998991,
          0.999131,
          0.999025,
          0.999046,
          0.999071,
          0.999171,
          0.998871,
          0.998926,
          0.998884
         ]
        },
        {
         "line": {
          "color": "blue"
         },
         "name": "wap(stock_id=97)",
         "type": "scatter",
         "x": [
          0,
          10,
          20,
          30,
          40,
          50,
          60,
          70,
          80,
          90,
          100,
          110,
          120,
          130,
          140,
          150,
          160,
          170,
          180,
          190,
          200,
          210,
          220,
          230,
          240,
          250,
          260,
          270,
          280,
          290,
          300,
          310,
          320,
          330,
          340,
          350,
          360,
          370,
          380,
          390,
          400,
          410,
          420,
          430,
          440,
          450,
          460,
          470,
          480,
          490,
          500,
          510,
          520,
          530,
          540
         ],
         "y": [
          1,
          0.998839,
          0.998694,
          0.998961,
          0.99874,
          0.998692,
          0.998632,
          0.999062,
          0.998866,
          0.998832,
          0.998814,
          0.998813,
          0.999369,
          0.999678,
          0.999703,
          0.999286,
          0.999374,
          0.999447,
          0.999366,
          0.999439,
          0.999439,
          1.000748,
          1.00058,
          1.000548,
          1.000337,
          1.000674,
          1.000257,
          1.000291,
          1.000217,
          0.999902,
          0.999949,
          0.999712,
          0.999654,
          0.999642,
          0.999364,
          0.999906,
          0.999943,
          1.000095,
          1.000067,
          1.000874,
          1.000842,
          1.000938,
          1.000604,
          1.00048,
          1,
          1.00036,
          1.000133,
          0.999981,
          0.999917,
          0.99999,
          1.000796,
          1.00056,
          1.000455,
          1.000668,
          1.000459
         ]
        },
        {
         "line": {
          "color": "purple"
         },
         "name": "wap(stock_id=137)",
         "type": "scatter",
         "x": [
          0,
          10,
          20,
          30,
          40,
          50,
          60,
          70,
          80,
          90,
          100,
          110,
          120,
          130,
          140,
          150,
          160,
          170,
          180,
          190,
          200,
          210,
          220,
          230,
          240,
          250,
          260,
          270,
          280,
          290,
          300,
          310,
          320,
          330,
          340,
          350,
          360,
          370,
          380,
          390,
          400,
          410,
          420,
          430,
          440,
          450,
          460,
          470,
          480,
          490,
          500,
          510,
          520,
          530,
          540
         ],
         "y": [
          1,
          1.000318,
          0.999492,
          1.00016,
          1.000037,
          0.999989,
          1.000075,
          1.000764,
          1.000404,
          1.000475,
          1.000614,
          1.000365,
          1.000317,
          1.000353,
          1.000353,
          1.000316,
          1.000408,
          1.000526,
          1.000562,
          1.001046,
          1.000996,
          1.000968,
          1.000646,
          1.000835,
          1.000809,
          1.001323,
          1.001133,
          1.001268,
          1.000667,
          1.00059,
          1.000425,
          1.001016,
          1.00049,
          1.000446,
          1.00049,
          1.000429,
          1.000409,
          1.000481,
          1.000325,
          1.000075,
          1.000055,
          1.000161,
          1.0004,
          1.000395,
          1.000292,
          1.000379,
          1.000452,
          1.0007,
          1.0006,
          1.000685,
          1.00086,
          1.000848,
          1.000929,
          1.000946,
          1.001077
         ]
        }
       ],
       "layout": {
        "height": 400,
        "margin": {
         "b": 20,
         "l": 40,
         "r": 40,
         "t": 40
        },
        "showlegend": true,
        "template": {
         "data": {
          "bar": [
           {
            "error_x": {
             "color": "#2a3f5f"
            },
            "error_y": {
             "color": "#2a3f5f"
            },
            "marker": {
             "line": {
              "color": "#E5ECF6",
              "width": 0.5
             },
             "pattern": {
              "fillmode": "overlay",
              "size": 10,
              "solidity": 0.2
             }
            },
            "type": "bar"
           }
          ],
          "barpolar": [
           {
            "marker": {
             "line": {
              "color": "#E5ECF6",
              "width": 0.5
             },
             "pattern": {
              "fillmode": "overlay",
              "size": 10,
              "solidity": 0.2
             }
            },
            "type": "barpolar"
           }
          ],
          "carpet": [
           {
            "aaxis": {
             "endlinecolor": "#2a3f5f",
             "gridcolor": "white",
             "linecolor": "white",
             "minorgridcolor": "white",
             "startlinecolor": "#2a3f5f"
            },
            "baxis": {
             "endlinecolor": "#2a3f5f",
             "gridcolor": "white",
             "linecolor": "white",
             "minorgridcolor": "white",
             "startlinecolor": "#2a3f5f"
            },
            "type": "carpet"
           }
          ],
          "choropleth": [
           {
            "colorbar": {
             "outlinewidth": 0,
             "ticks": ""
            },
            "type": "choropleth"
           }
          ],
          "contour": [
           {
            "colorbar": {
             "outlinewidth": 0,
             "ticks": ""
            },
            "colorscale": [
             [
              0,
              "#0d0887"
             ],
             [
              0.1111111111111111,
              "#46039f"
             ],
             [
              0.2222222222222222,
              "#7201a8"
             ],
             [
              0.3333333333333333,
              "#9c179e"
             ],
             [
              0.4444444444444444,
              "#bd3786"
             ],
             [
              0.5555555555555556,
              "#d8576b"
             ],
             [
              0.6666666666666666,
              "#ed7953"
             ],
             [
              0.7777777777777778,
              "#fb9f3a"
             ],
             [
              0.8888888888888888,
              "#fdca26"
             ],
             [
              1,
              "#f0f921"
             ]
            ],
            "type": "contour"
           }
          ],
          "contourcarpet": [
           {
            "colorbar": {
             "outlinewidth": 0,
             "ticks": ""
            },
            "type": "contourcarpet"
           }
          ],
          "heatmap": [
           {
            "colorbar": {
             "outlinewidth": 0,
             "ticks": ""
            },
            "colorscale": [
             [
              0,
              "#0d0887"
             ],
             [
              0.1111111111111111,
              "#46039f"
             ],
             [
              0.2222222222222222,
              "#7201a8"
             ],
             [
              0.3333333333333333,
              "#9c179e"
             ],
             [
              0.4444444444444444,
              "#bd3786"
             ],
             [
              0.5555555555555556,
              "#d8576b"
             ],
             [
              0.6666666666666666,
              "#ed7953"
             ],
             [
              0.7777777777777778,
              "#fb9f3a"
             ],
             [
              0.8888888888888888,
              "#fdca26"
             ],
             [
              1,
              "#f0f921"
             ]
            ],
            "type": "heatmap"
           }
          ],
          "heatmapgl": [
           {
            "colorbar": {
             "outlinewidth": 0,
             "ticks": ""
            },
            "colorscale": [
             [
              0,
              "#0d0887"
             ],
             [
              0.1111111111111111,
              "#46039f"
             ],
             [
              0.2222222222222222,
              "#7201a8"
             ],
             [
              0.3333333333333333,
              "#9c179e"
             ],
             [
              0.4444444444444444,
              "#bd3786"
             ],
             [
              0.5555555555555556,
              "#d8576b"
             ],
             [
              0.6666666666666666,
              "#ed7953"
             ],
             [
              0.7777777777777778,
              "#fb9f3a"
             ],
             [
              0.8888888888888888,
              "#fdca26"
             ],
             [
              1,
              "#f0f921"
             ]
            ],
            "type": "heatmapgl"
           }
          ],
          "histogram": [
           {
            "marker": {
             "pattern": {
              "fillmode": "overlay",
              "size": 10,
              "solidity": 0.2
             }
            },
            "type": "histogram"
           }
          ],
          "histogram2d": [
           {
            "colorbar": {
             "outlinewidth": 0,
             "ticks": ""
            },
            "colorscale": [
             [
              0,
              "#0d0887"
             ],
             [
              0.1111111111111111,
              "#46039f"
             ],
             [
              0.2222222222222222,
              "#7201a8"
             ],
             [
              0.3333333333333333,
              "#9c179e"
             ],
             [
              0.4444444444444444,
              "#bd3786"
             ],
             [
              0.5555555555555556,
              "#d8576b"
             ],
             [
              0.6666666666666666,
              "#ed7953"
             ],
             [
              0.7777777777777778,
              "#fb9f3a"
             ],
             [
              0.8888888888888888,
              "#fdca26"
             ],
             [
              1,
              "#f0f921"
             ]
            ],
            "type": "histogram2d"
           }
          ],
          "histogram2dcontour": [
           {
            "colorbar": {
             "outlinewidth": 0,
             "ticks": ""
            },
            "colorscale": [
             [
              0,
              "#0d0887"
             ],
             [
              0.1111111111111111,
              "#46039f"
             ],
             [
              0.2222222222222222,
              "#7201a8"
             ],
             [
              0.3333333333333333,
              "#9c179e"
             ],
             [
              0.4444444444444444,
              "#bd3786"
             ],
             [
              0.5555555555555556,
              "#d8576b"
             ],
             [
              0.6666666666666666,
              "#ed7953"
             ],
             [
              0.7777777777777778,
              "#fb9f3a"
             ],
             [
              0.8888888888888888,
              "#fdca26"
             ],
             [
              1,
              "#f0f921"
             ]
            ],
            "type": "histogram2dcontour"
           }
          ],
          "mesh3d": [
           {
            "colorbar": {
             "outlinewidth": 0,
             "ticks": ""
            },
            "type": "mesh3d"
           }
          ],
          "parcoords": [
           {
            "line": {
             "colorbar": {
              "outlinewidth": 0,
              "ticks": ""
             }
            },
            "type": "parcoords"
           }
          ],
          "pie": [
           {
            "automargin": true,
            "type": "pie"
           }
          ],
          "scatter": [
           {
            "fillpattern": {
             "fillmode": "overlay",
             "size": 10,
             "solidity": 0.2
            },
            "type": "scatter"
           }
          ],
          "scatter3d": [
           {
            "line": {
             "colorbar": {
              "outlinewidth": 0,
              "ticks": ""
             }
            },
            "marker": {
             "colorbar": {
              "outlinewidth": 0,
              "ticks": ""
             }
            },
            "type": "scatter3d"
           }
          ],
          "scattercarpet": [
           {
            "marker": {
             "colorbar": {
              "outlinewidth": 0,
              "ticks": ""
             }
            },
            "type": "scattercarpet"
           }
          ],
          "scattergeo": [
           {
            "marker": {
             "colorbar": {
              "outlinewidth": 0,
              "ticks": ""
             }
            },
            "type": "scattergeo"
           }
          ],
          "scattergl": [
           {
            "marker": {
             "colorbar": {
              "outlinewidth": 0,
              "ticks": ""
             }
            },
            "type": "scattergl"
           }
          ],
          "scattermapbox": [
           {
            "marker": {
             "colorbar": {
              "outlinewidth": 0,
              "ticks": ""
             }
            },
            "type": "scattermapbox"
           }
          ],
          "scatterpolar": [
           {
            "marker": {
             "colorbar": {
              "outlinewidth": 0,
              "ticks": ""
             }
            },
            "type": "scatterpolar"
           }
          ],
          "scatterpolargl": [
           {
            "marker": {
             "colorbar": {
              "outlinewidth": 0,
              "ticks": ""
             }
            },
            "type": "scatterpolargl"
           }
          ],
          "scatterternary": [
           {
            "marker": {
             "colorbar": {
              "outlinewidth": 0,
              "ticks": ""
             }
            },
            "type": "scatterternary"
           }
          ],
          "surface": [
           {
            "colorbar": {
             "outlinewidth": 0,
             "ticks": ""
            },
            "colorscale": [
             [
              0,
              "#0d0887"
             ],
             [
              0.1111111111111111,
              "#46039f"
             ],
             [
              0.2222222222222222,
              "#7201a8"
             ],
             [
              0.3333333333333333,
              "#9c179e"
             ],
             [
              0.4444444444444444,
              "#bd3786"
             ],
             [
              0.5555555555555556,
              "#d8576b"
             ],
             [
              0.6666666666666666,
              "#ed7953"
             ],
             [
              0.7777777777777778,
              "#fb9f3a"
             ],
             [
              0.8888888888888888,
              "#fdca26"
             ],
             [
              1,
              "#f0f921"
             ]
            ],
            "type": "surface"
           }
          ],
          "table": [
           {
            "cells": {
             "fill": {
              "color": "#EBF0F8"
             },
             "line": {
              "color": "white"
             }
            },
            "header": {
             "fill": {
              "color": "#C8D4E3"
             },
             "line": {
              "color": "white"
             }
            },
            "type": "table"
           }
          ]
         },
         "layout": {
          "annotationdefaults": {
           "arrowcolor": "#2a3f5f",
           "arrowhead": 0,
           "arrowwidth": 1
          },
          "autotypenumbers": "strict",
          "coloraxis": {
           "colorbar": {
            "outlinewidth": 0,
            "ticks": ""
           }
          },
          "colorscale": {
           "diverging": [
            [
             0,
             "#8e0152"
            ],
            [
             0.1,
             "#c51b7d"
            ],
            [
             0.2,
             "#de77ae"
            ],
            [
             0.3,
             "#f1b6da"
            ],
            [
             0.4,
             "#fde0ef"
            ],
            [
             0.5,
             "#f7f7f7"
            ],
            [
             0.6,
             "#e6f5d0"
            ],
            [
             0.7,
             "#b8e186"
            ],
            [
             0.8,
             "#7fbc41"
            ],
            [
             0.9,
             "#4d9221"
            ],
            [
             1,
             "#276419"
            ]
           ],
           "sequential": [
            [
             0,
             "#0d0887"
            ],
            [
             0.1111111111111111,
             "#46039f"
            ],
            [
             0.2222222222222222,
             "#7201a8"
            ],
            [
             0.3333333333333333,
             "#9c179e"
            ],
            [
             0.4444444444444444,
             "#bd3786"
            ],
            [
             0.5555555555555556,
             "#d8576b"
            ],
            [
             0.6666666666666666,
             "#ed7953"
            ],
            [
             0.7777777777777778,
             "#fb9f3a"
            ],
            [
             0.8888888888888888,
             "#fdca26"
            ],
            [
             1,
             "#f0f921"
            ]
           ],
           "sequentialminus": [
            [
             0,
             "#0d0887"
            ],
            [
             0.1111111111111111,
             "#46039f"
            ],
            [
             0.2222222222222222,
             "#7201a8"
            ],
            [
             0.3333333333333333,
             "#9c179e"
            ],
            [
             0.4444444444444444,
             "#bd3786"
            ],
            [
             0.5555555555555556,
             "#d8576b"
            ],
            [
             0.6666666666666666,
             "#ed7953"
            ],
            [
             0.7777777777777778,
             "#fb9f3a"
            ],
            [
             0.8888888888888888,
             "#fdca26"
            ],
            [
             1,
             "#f0f921"
            ]
           ]
          },
          "colorway": [
           "#636efa",
           "#EF553B",
           "#00cc96",
           "#ab63fa",
           "#FFA15A",
           "#19d3f3",
           "#FF6692",
           "#B6E880",
           "#FF97FF",
           "#FECB52"
          ],
          "font": {
           "color": "#2a3f5f"
          },
          "geo": {
           "bgcolor": "white",
           "lakecolor": "white",
           "landcolor": "#E5ECF6",
           "showlakes": true,
           "showland": true,
           "subunitcolor": "white"
          },
          "hoverlabel": {
           "align": "left"
          },
          "hovermode": "closest",
          "mapbox": {
           "style": "light"
          },
          "paper_bgcolor": "white",
          "plot_bgcolor": "#E5ECF6",
          "polar": {
           "angularaxis": {
            "gridcolor": "white",
            "linecolor": "white",
            "ticks": ""
           },
           "bgcolor": "#E5ECF6",
           "radialaxis": {
            "gridcolor": "white",
            "linecolor": "white",
            "ticks": ""
           }
          },
          "scene": {
           "xaxis": {
            "backgroundcolor": "#E5ECF6",
            "gridcolor": "white",
            "gridwidth": 2,
            "linecolor": "white",
            "showbackground": true,
            "ticks": "",
            "zerolinecolor": "white"
           },
           "yaxis": {
            "backgroundcolor": "#E5ECF6",
            "gridcolor": "white",
            "gridwidth": 2,
            "linecolor": "white",
            "showbackground": true,
            "ticks": "",
            "zerolinecolor": "white"
           },
           "zaxis": {
            "backgroundcolor": "#E5ECF6",
            "gridcolor": "white",
            "gridwidth": 2,
            "linecolor": "white",
            "showbackground": true,
            "ticks": "",
            "zerolinecolor": "white"
           }
          },
          "shapedefaults": {
           "line": {
            "color": "#2a3f5f"
           }
          },
          "ternary": {
           "aaxis": {
            "gridcolor": "white",
            "linecolor": "white",
            "ticks": ""
           },
           "baxis": {
            "gridcolor": "white",
            "linecolor": "white",
            "ticks": ""
           },
           "bgcolor": "#E5ECF6",
           "caxis": {
            "gridcolor": "white",
            "linecolor": "white",
            "ticks": ""
           }
          },
          "title": {
           "x": 0.05
          },
          "xaxis": {
           "automargin": true,
           "gridcolor": "white",
           "linecolor": "white",
           "ticks": "",
           "title": {
            "standoff": 15
           },
           "zerolinecolor": "white",
           "zerolinewidth": 2
          },
          "yaxis": {
           "automargin": true,
           "gridcolor": "white",
           "linecolor": "white",
           "ticks": "",
           "title": {
            "standoff": 15
           },
           "zerolinecolor": "white",
           "zerolinewidth": 2
          }
         }
        },
        "title": {
         "font": {
          "size": 15
         },
         "text": "WAP for date_id=174"
        },
        "width": 1100
       }
      }
     },
     "metadata": {},
     "output_type": "display_data"
    }
   ],
   "source": [
    "fig = go.Figure()\n",
    "\n",
    "c = 0\n",
    "for i in sorted(stockID):\n",
    "    dt = df[(df[\"stock_id\"]==i)&(df[\"date_id\"]==dateID[1])]\n",
    "    # dt[\"target\"] = dt[\"target\"]-dt[\"target\"].mean() # 平移至０\n",
    "    # dt[\"target\"] = (dt[\"target\"]-dt[\"target\"].mean())/dt[\"target\"].std() # 做標準化\n",
    "    fig.add_trace(\n",
    "    go.Scatter(x = dt['seconds_in_bucket'], \n",
    "            y = dt['wap'], \n",
    "            name = 'wap'+'(stock_id='+str(i)+')',\n",
    "            line = dict(color = color[c])))\n",
    "    c += 1\n",
    "\n",
    "\n",
    "fig.update_layout(title = \"WAP for date_id=\"+str(dateID[1]),\n",
    "                title_font = dict(size = 15),\n",
    "                showlegend = True,\n",
    "                width = 1100,\n",
    "                height = 400,\n",
    "                margin = dict(l = 40, r = 40, t = 40, b = 20))"
   ]
  },
  {
   "cell_type": "code",
   "execution_count": 24,
   "metadata": {},
   "outputs": [
    {
     "data": {
      "application/vnd.plotly.v1+json": {
       "config": {
        "plotlyServerURL": "https://plot.ly"
       },
       "data": [
        {
         "line": {
          "color": "red"
         },
         "name": "wap(stock_id=9)",
         "type": "scatter",
         "x": [
          0,
          10,
          20,
          30,
          40,
          50,
          60,
          70,
          80,
          90,
          100,
          110,
          120,
          130,
          140,
          150,
          160,
          170,
          180,
          190,
          200,
          210,
          220,
          230,
          240,
          250,
          260,
          270,
          280,
          290,
          300,
          310,
          320,
          330,
          340,
          350,
          360,
          370,
          380,
          390,
          400,
          410,
          420,
          430,
          440,
          450,
          460,
          470,
          480,
          490,
          500,
          510,
          520,
          530,
          540
         ],
         "y": [
          1,
          1.000905,
          1.000064,
          0.999561,
          0.999512,
          0.999586,
          0.998982,
          0.99869,
          0.998107,
          0.998242,
          0.998173,
          0.997539,
          0.997309,
          0.997803,
          0.997454,
          0.997658,
          0.997587,
          0.99736,
          0.997493,
          0.997181,
          0.997089,
          0.996986,
          0.996765,
          0.996739,
          0.996158,
          0.995878,
          0.995718,
          0.995599,
          0.995088,
          0.996078,
          0.996023,
          0.995619,
          0.994833,
          0.994666,
          0.994396,
          0.99439,
          0.99405,
          0.994382,
          0.99424,
          0.994162,
          0.994575,
          0.994658,
          0.994471,
          0.99486,
          0.994985,
          0.994274,
          0.994169,
          0.994162,
          0.994082,
          0.993935,
          0.993905,
          0.993688,
          0.99356,
          0.993161,
          0.993039
         ]
        },
        {
         "line": {
          "color": "orange"
         },
         "name": "wap(stock_id=27)",
         "type": "scatter",
         "x": [
          0,
          10,
          20,
          30,
          40,
          50,
          60,
          70,
          80,
          90,
          100,
          110,
          120,
          130,
          140,
          150,
          160,
          170,
          180,
          190,
          200,
          210,
          220,
          230,
          240,
          250,
          260,
          270,
          280,
          290,
          300,
          310,
          320,
          330,
          340,
          350,
          360,
          370,
          380,
          390,
          400,
          410,
          420,
          430,
          440,
          450,
          460,
          470,
          480,
          490,
          500,
          510,
          520,
          530,
          540
         ],
         "y": [
          1,
          0.999537,
          0.997525,
          0.997979,
          0.997641,
          0.997232,
          0.996759,
          0.996105,
          0.995628,
          0.996006,
          0.996075,
          0.995463,
          0.995942,
          0.995906,
          0.995306,
          0.995446,
          0.995875,
          0.99565,
          0.995938,
          0.995766,
          0.995899,
          0.995765,
          0.995632,
          0.99598,
          0.995251,
          0.995353,
          0.995361,
          0.995345,
          0.994576,
          0.995391,
          0.995125,
          0.994925,
          0.993679,
          0.993422,
          0.99299,
          0.993456,
          0.993174,
          0.993349,
          0.993397,
          0.992991,
          0.993417,
          0.993958,
          0.993342,
          0.994114,
          0.994186,
          0.993609,
          0.993402,
          0.994158,
          0.993972,
          0.994128,
          0.994322,
          0.994426,
          0.994613,
          0.994557,
          0.994711
         ]
        },
        {
         "line": {
          "color": "lightgreen"
         },
         "name": "wap(stock_id=68)",
         "type": "scatter",
         "x": [
          0,
          10,
          20,
          30,
          40,
          50,
          60,
          70,
          80,
          90,
          100,
          110,
          120,
          130,
          140,
          150,
          160,
          170,
          180,
          190,
          200,
          210,
          220,
          230,
          240,
          250,
          260,
          270,
          280,
          290,
          300,
          310,
          320,
          330,
          340,
          350,
          360,
          370,
          380,
          390,
          400,
          410,
          420,
          430,
          440,
          450,
          460,
          470,
          480,
          490,
          500,
          510,
          520,
          530,
          540
         ],
         "y": [
          1,
          1.001013,
          1.000092,
          0.999286,
          0.999092,
          0.999,
          0.998736,
          0.998202,
          0.997636,
          0.998008,
          0.997772,
          0.997292,
          0.997194,
          0.997318,
          0.997059,
          0.997239,
          0.997165,
          0.996896,
          0.99687,
          0.996635,
          0.996512,
          0.996053,
          0.996345,
          0.996614,
          0.996538,
          0.996228,
          0.995723,
          0.996001,
          0.99569,
          0.995421,
          0.995125,
          0.994588,
          0.994124,
          0.993928,
          0.993685,
          0.993008,
          0.992847,
          0.993471,
          0.993312,
          0.993289,
          0.993255,
          0.993313,
          0.993484,
          0.994192,
          0.994135,
          0.99373,
          0.993793,
          0.994044,
          0.993981,
          0.993765,
          0.994149,
          0.993943,
          0.994006,
          0.994029,
          0.993871
         ]
        },
        {
         "line": {
          "color": "blue"
         },
         "name": "wap(stock_id=97)",
         "type": "scatter",
         "x": [
          0,
          10,
          20,
          30,
          40,
          50,
          60,
          70,
          80,
          90,
          100,
          110,
          120,
          130,
          140,
          150,
          160,
          170,
          180,
          190,
          200,
          210,
          220,
          230,
          240,
          250,
          260,
          270,
          280,
          290,
          300,
          310,
          320,
          330,
          340,
          350,
          360,
          370,
          380,
          390,
          400,
          410,
          420,
          430,
          440,
          450,
          460,
          470,
          480,
          490,
          500,
          510,
          520,
          530,
          540
         ],
         "y": [
          1,
          1.000254,
          0.99975,
          0.999627,
          0.999765,
          0.998786,
          0.998738,
          0.999188,
          0.998518,
          0.998214,
          0.998129,
          0.998011,
          0.997483,
          0.997718,
          0.997802,
          0.997979,
          0.99797,
          0.997414,
          0.997454,
          0.997566,
          0.997181,
          0.996887,
          0.996889,
          0.996875,
          0.997171,
          0.996964,
          0.996993,
          0.996884,
          0.996045,
          0.995966,
          0.994611,
          0.994543,
          0.993639,
          0.993898,
          0.993013,
          0.993007,
          0.993322,
          0.99329,
          0.993246,
          0.993278,
          0.9935,
          0.992964,
          0.99352,
          0.995122,
          0.994358,
          0.99392,
          0.993877,
          0.994486,
          0.994506,
          0.994176,
          0.993887,
          0.993864,
          0.993821,
          0.993362,
          0.993466
         ]
        },
        {
         "line": {
          "color": "purple"
         },
         "name": "wap(stock_id=137)",
         "type": "scatter",
         "x": [
          0,
          10,
          20,
          30,
          40,
          50,
          60,
          70,
          80,
          90,
          100,
          110,
          120,
          130,
          140,
          150,
          160,
          170,
          180,
          190,
          200,
          210,
          220,
          230,
          240,
          250,
          260,
          270,
          280,
          290,
          300,
          310,
          320,
          330,
          340,
          350,
          360,
          370,
          380,
          390,
          400,
          410,
          420,
          430,
          440,
          450,
          460,
          470,
          480,
          490,
          500,
          510,
          520,
          530,
          540
         ],
         "y": [
          1,
          0.999892,
          0.998817,
          0.998234,
          0.998503,
          0.997851,
          0.997563,
          0.997382,
          0.997041,
          0.997284,
          0.997422,
          0.997169,
          0.997028,
          0.997396,
          0.997256,
          0.997606,
          0.99719,
          0.997175,
          0.997007,
          0.99709,
          0.997003,
          0.996724,
          0.996668,
          0.996715,
          0.996314,
          0.99668,
          0.996564,
          0.996486,
          0.996682,
          0.996987,
          0.996232,
          0.99535,
          0.994546,
          0.994824,
          0.994294,
          0.994173,
          0.993663,
          0.994204,
          0.993805,
          0.993684,
          0.993534,
          0.993301,
          0.993301,
          0.993807,
          0.993447,
          0.993364,
          0.992972,
          0.993245,
          0.993379,
          0.993142,
          0.993241,
          0.993284,
          0.993113,
          0.992971,
          0.992946
         ]
        }
       ],
       "layout": {
        "height": 400,
        "margin": {
         "b": 20,
         "l": 40,
         "r": 40,
         "t": 40
        },
        "showlegend": true,
        "template": {
         "data": {
          "bar": [
           {
            "error_x": {
             "color": "#2a3f5f"
            },
            "error_y": {
             "color": "#2a3f5f"
            },
            "marker": {
             "line": {
              "color": "#E5ECF6",
              "width": 0.5
             },
             "pattern": {
              "fillmode": "overlay",
              "size": 10,
              "solidity": 0.2
             }
            },
            "type": "bar"
           }
          ],
          "barpolar": [
           {
            "marker": {
             "line": {
              "color": "#E5ECF6",
              "width": 0.5
             },
             "pattern": {
              "fillmode": "overlay",
              "size": 10,
              "solidity": 0.2
             }
            },
            "type": "barpolar"
           }
          ],
          "carpet": [
           {
            "aaxis": {
             "endlinecolor": "#2a3f5f",
             "gridcolor": "white",
             "linecolor": "white",
             "minorgridcolor": "white",
             "startlinecolor": "#2a3f5f"
            },
            "baxis": {
             "endlinecolor": "#2a3f5f",
             "gridcolor": "white",
             "linecolor": "white",
             "minorgridcolor": "white",
             "startlinecolor": "#2a3f5f"
            },
            "type": "carpet"
           }
          ],
          "choropleth": [
           {
            "colorbar": {
             "outlinewidth": 0,
             "ticks": ""
            },
            "type": "choropleth"
           }
          ],
          "contour": [
           {
            "colorbar": {
             "outlinewidth": 0,
             "ticks": ""
            },
            "colorscale": [
             [
              0,
              "#0d0887"
             ],
             [
              0.1111111111111111,
              "#46039f"
             ],
             [
              0.2222222222222222,
              "#7201a8"
             ],
             [
              0.3333333333333333,
              "#9c179e"
             ],
             [
              0.4444444444444444,
              "#bd3786"
             ],
             [
              0.5555555555555556,
              "#d8576b"
             ],
             [
              0.6666666666666666,
              "#ed7953"
             ],
             [
              0.7777777777777778,
              "#fb9f3a"
             ],
             [
              0.8888888888888888,
              "#fdca26"
             ],
             [
              1,
              "#f0f921"
             ]
            ],
            "type": "contour"
           }
          ],
          "contourcarpet": [
           {
            "colorbar": {
             "outlinewidth": 0,
             "ticks": ""
            },
            "type": "contourcarpet"
           }
          ],
          "heatmap": [
           {
            "colorbar": {
             "outlinewidth": 0,
             "ticks": ""
            },
            "colorscale": [
             [
              0,
              "#0d0887"
             ],
             [
              0.1111111111111111,
              "#46039f"
             ],
             [
              0.2222222222222222,
              "#7201a8"
             ],
             [
              0.3333333333333333,
              "#9c179e"
             ],
             [
              0.4444444444444444,
              "#bd3786"
             ],
             [
              0.5555555555555556,
              "#d8576b"
             ],
             [
              0.6666666666666666,
              "#ed7953"
             ],
             [
              0.7777777777777778,
              "#fb9f3a"
             ],
             [
              0.8888888888888888,
              "#fdca26"
             ],
             [
              1,
              "#f0f921"
             ]
            ],
            "type": "heatmap"
           }
          ],
          "heatmapgl": [
           {
            "colorbar": {
             "outlinewidth": 0,
             "ticks": ""
            },
            "colorscale": [
             [
              0,
              "#0d0887"
             ],
             [
              0.1111111111111111,
              "#46039f"
             ],
             [
              0.2222222222222222,
              "#7201a8"
             ],
             [
              0.3333333333333333,
              "#9c179e"
             ],
             [
              0.4444444444444444,
              "#bd3786"
             ],
             [
              0.5555555555555556,
              "#d8576b"
             ],
             [
              0.6666666666666666,
              "#ed7953"
             ],
             [
              0.7777777777777778,
              "#fb9f3a"
             ],
             [
              0.8888888888888888,
              "#fdca26"
             ],
             [
              1,
              "#f0f921"
             ]
            ],
            "type": "heatmapgl"
           }
          ],
          "histogram": [
           {
            "marker": {
             "pattern": {
              "fillmode": "overlay",
              "size": 10,
              "solidity": 0.2
             }
            },
            "type": "histogram"
           }
          ],
          "histogram2d": [
           {
            "colorbar": {
             "outlinewidth": 0,
             "ticks": ""
            },
            "colorscale": [
             [
              0,
              "#0d0887"
             ],
             [
              0.1111111111111111,
              "#46039f"
             ],
             [
              0.2222222222222222,
              "#7201a8"
             ],
             [
              0.3333333333333333,
              "#9c179e"
             ],
             [
              0.4444444444444444,
              "#bd3786"
             ],
             [
              0.5555555555555556,
              "#d8576b"
             ],
             [
              0.6666666666666666,
              "#ed7953"
             ],
             [
              0.7777777777777778,
              "#fb9f3a"
             ],
             [
              0.8888888888888888,
              "#fdca26"
             ],
             [
              1,
              "#f0f921"
             ]
            ],
            "type": "histogram2d"
           }
          ],
          "histogram2dcontour": [
           {
            "colorbar": {
             "outlinewidth": 0,
             "ticks": ""
            },
            "colorscale": [
             [
              0,
              "#0d0887"
             ],
             [
              0.1111111111111111,
              "#46039f"
             ],
             [
              0.2222222222222222,
              "#7201a8"
             ],
             [
              0.3333333333333333,
              "#9c179e"
             ],
             [
              0.4444444444444444,
              "#bd3786"
             ],
             [
              0.5555555555555556,
              "#d8576b"
             ],
             [
              0.6666666666666666,
              "#ed7953"
             ],
             [
              0.7777777777777778,
              "#fb9f3a"
             ],
             [
              0.8888888888888888,
              "#fdca26"
             ],
             [
              1,
              "#f0f921"
             ]
            ],
            "type": "histogram2dcontour"
           }
          ],
          "mesh3d": [
           {
            "colorbar": {
             "outlinewidth": 0,
             "ticks": ""
            },
            "type": "mesh3d"
           }
          ],
          "parcoords": [
           {
            "line": {
             "colorbar": {
              "outlinewidth": 0,
              "ticks": ""
             }
            },
            "type": "parcoords"
           }
          ],
          "pie": [
           {
            "automargin": true,
            "type": "pie"
           }
          ],
          "scatter": [
           {
            "fillpattern": {
             "fillmode": "overlay",
             "size": 10,
             "solidity": 0.2
            },
            "type": "scatter"
           }
          ],
          "scatter3d": [
           {
            "line": {
             "colorbar": {
              "outlinewidth": 0,
              "ticks": ""
             }
            },
            "marker": {
             "colorbar": {
              "outlinewidth": 0,
              "ticks": ""
             }
            },
            "type": "scatter3d"
           }
          ],
          "scattercarpet": [
           {
            "marker": {
             "colorbar": {
              "outlinewidth": 0,
              "ticks": ""
             }
            },
            "type": "scattercarpet"
           }
          ],
          "scattergeo": [
           {
            "marker": {
             "colorbar": {
              "outlinewidth": 0,
              "ticks": ""
             }
            },
            "type": "scattergeo"
           }
          ],
          "scattergl": [
           {
            "marker": {
             "colorbar": {
              "outlinewidth": 0,
              "ticks": ""
             }
            },
            "type": "scattergl"
           }
          ],
          "scattermapbox": [
           {
            "marker": {
             "colorbar": {
              "outlinewidth": 0,
              "ticks": ""
             }
            },
            "type": "scattermapbox"
           }
          ],
          "scatterpolar": [
           {
            "marker": {
             "colorbar": {
              "outlinewidth": 0,
              "ticks": ""
             }
            },
            "type": "scatterpolar"
           }
          ],
          "scatterpolargl": [
           {
            "marker": {
             "colorbar": {
              "outlinewidth": 0,
              "ticks": ""
             }
            },
            "type": "scatterpolargl"
           }
          ],
          "scatterternary": [
           {
            "marker": {
             "colorbar": {
              "outlinewidth": 0,
              "ticks": ""
             }
            },
            "type": "scatterternary"
           }
          ],
          "surface": [
           {
            "colorbar": {
             "outlinewidth": 0,
             "ticks": ""
            },
            "colorscale": [
             [
              0,
              "#0d0887"
             ],
             [
              0.1111111111111111,
              "#46039f"
             ],
             [
              0.2222222222222222,
              "#7201a8"
             ],
             [
              0.3333333333333333,
              "#9c179e"
             ],
             [
              0.4444444444444444,
              "#bd3786"
             ],
             [
              0.5555555555555556,
              "#d8576b"
             ],
             [
              0.6666666666666666,
              "#ed7953"
             ],
             [
              0.7777777777777778,
              "#fb9f3a"
             ],
             [
              0.8888888888888888,
              "#fdca26"
             ],
             [
              1,
              "#f0f921"
             ]
            ],
            "type": "surface"
           }
          ],
          "table": [
           {
            "cells": {
             "fill": {
              "color": "#EBF0F8"
             },
             "line": {
              "color": "white"
             }
            },
            "header": {
             "fill": {
              "color": "#C8D4E3"
             },
             "line": {
              "color": "white"
             }
            },
            "type": "table"
           }
          ]
         },
         "layout": {
          "annotationdefaults": {
           "arrowcolor": "#2a3f5f",
           "arrowhead": 0,
           "arrowwidth": 1
          },
          "autotypenumbers": "strict",
          "coloraxis": {
           "colorbar": {
            "outlinewidth": 0,
            "ticks": ""
           }
          },
          "colorscale": {
           "diverging": [
            [
             0,
             "#8e0152"
            ],
            [
             0.1,
             "#c51b7d"
            ],
            [
             0.2,
             "#de77ae"
            ],
            [
             0.3,
             "#f1b6da"
            ],
            [
             0.4,
             "#fde0ef"
            ],
            [
             0.5,
             "#f7f7f7"
            ],
            [
             0.6,
             "#e6f5d0"
            ],
            [
             0.7,
             "#b8e186"
            ],
            [
             0.8,
             "#7fbc41"
            ],
            [
             0.9,
             "#4d9221"
            ],
            [
             1,
             "#276419"
            ]
           ],
           "sequential": [
            [
             0,
             "#0d0887"
            ],
            [
             0.1111111111111111,
             "#46039f"
            ],
            [
             0.2222222222222222,
             "#7201a8"
            ],
            [
             0.3333333333333333,
             "#9c179e"
            ],
            [
             0.4444444444444444,
             "#bd3786"
            ],
            [
             0.5555555555555556,
             "#d8576b"
            ],
            [
             0.6666666666666666,
             "#ed7953"
            ],
            [
             0.7777777777777778,
             "#fb9f3a"
            ],
            [
             0.8888888888888888,
             "#fdca26"
            ],
            [
             1,
             "#f0f921"
            ]
           ],
           "sequentialminus": [
            [
             0,
             "#0d0887"
            ],
            [
             0.1111111111111111,
             "#46039f"
            ],
            [
             0.2222222222222222,
             "#7201a8"
            ],
            [
             0.3333333333333333,
             "#9c179e"
            ],
            [
             0.4444444444444444,
             "#bd3786"
            ],
            [
             0.5555555555555556,
             "#d8576b"
            ],
            [
             0.6666666666666666,
             "#ed7953"
            ],
            [
             0.7777777777777778,
             "#fb9f3a"
            ],
            [
             0.8888888888888888,
             "#fdca26"
            ],
            [
             1,
             "#f0f921"
            ]
           ]
          },
          "colorway": [
           "#636efa",
           "#EF553B",
           "#00cc96",
           "#ab63fa",
           "#FFA15A",
           "#19d3f3",
           "#FF6692",
           "#B6E880",
           "#FF97FF",
           "#FECB52"
          ],
          "font": {
           "color": "#2a3f5f"
          },
          "geo": {
           "bgcolor": "white",
           "lakecolor": "white",
           "landcolor": "#E5ECF6",
           "showlakes": true,
           "showland": true,
           "subunitcolor": "white"
          },
          "hoverlabel": {
           "align": "left"
          },
          "hovermode": "closest",
          "mapbox": {
           "style": "light"
          },
          "paper_bgcolor": "white",
          "plot_bgcolor": "#E5ECF6",
          "polar": {
           "angularaxis": {
            "gridcolor": "white",
            "linecolor": "white",
            "ticks": ""
           },
           "bgcolor": "#E5ECF6",
           "radialaxis": {
            "gridcolor": "white",
            "linecolor": "white",
            "ticks": ""
           }
          },
          "scene": {
           "xaxis": {
            "backgroundcolor": "#E5ECF6",
            "gridcolor": "white",
            "gridwidth": 2,
            "linecolor": "white",
            "showbackground": true,
            "ticks": "",
            "zerolinecolor": "white"
           },
           "yaxis": {
            "backgroundcolor": "#E5ECF6",
            "gridcolor": "white",
            "gridwidth": 2,
            "linecolor": "white",
            "showbackground": true,
            "ticks": "",
            "zerolinecolor": "white"
           },
           "zaxis": {
            "backgroundcolor": "#E5ECF6",
            "gridcolor": "white",
            "gridwidth": 2,
            "linecolor": "white",
            "showbackground": true,
            "ticks": "",
            "zerolinecolor": "white"
           }
          },
          "shapedefaults": {
           "line": {
            "color": "#2a3f5f"
           }
          },
          "ternary": {
           "aaxis": {
            "gridcolor": "white",
            "linecolor": "white",
            "ticks": ""
           },
           "baxis": {
            "gridcolor": "white",
            "linecolor": "white",
            "ticks": ""
           },
           "bgcolor": "#E5ECF6",
           "caxis": {
            "gridcolor": "white",
            "linecolor": "white",
            "ticks": ""
           }
          },
          "title": {
           "x": 0.05
          },
          "xaxis": {
           "automargin": true,
           "gridcolor": "white",
           "linecolor": "white",
           "ticks": "",
           "title": {
            "standoff": 15
           },
           "zerolinecolor": "white",
           "zerolinewidth": 2
          },
          "yaxis": {
           "automargin": true,
           "gridcolor": "white",
           "linecolor": "white",
           "ticks": "",
           "title": {
            "standoff": 15
           },
           "zerolinecolor": "white",
           "zerolinewidth": 2
          }
         }
        },
        "title": {
         "font": {
          "size": 15
         },
         "text": "WAP for date_id=287"
        },
        "width": 1100
       }
      }
     },
     "metadata": {},
     "output_type": "display_data"
    }
   ],
   "source": [
    "fig = go.Figure()\n",
    "\n",
    "c = 0\n",
    "for i in sorted(stockID):\n",
    "    dt = df[(df[\"stock_id\"]==i)&(df[\"date_id\"]==dateID[2])]\n",
    "    # dt[\"target\"] = dt[\"target\"]-dt[\"target\"].mean() # 平移至０\n",
    "    # dt[\"target\"] = (dt[\"target\"]-dt[\"target\"].mean())/dt[\"target\"].std() # 做標準化\n",
    "    fig.add_trace(\n",
    "    go.Scatter(x = dt['seconds_in_bucket'], \n",
    "            y = dt['wap'], \n",
    "            name = 'wap'+'(stock_id='+str(i)+')',\n",
    "            line = dict(color = color[c])))\n",
    "    c += 1\n",
    "\n",
    "\n",
    "fig.update_layout(title = \"WAP for date_id=\"+str(dateID[2]),\n",
    "                title_font = dict(size = 15),\n",
    "                showlegend = True,\n",
    "                width = 1100,\n",
    "                height = 400,\n",
    "                margin = dict(l = 40, r = 40, t = 40, b = 20))"
   ]
  },
  {
   "cell_type": "code",
   "execution_count": 25,
   "metadata": {},
   "outputs": [],
   "source": [
    "# fig = go.Figure()\n",
    "\n",
    "# stockID = [9, 27, 68, 97, 137]\n",
    "# c = 0\n",
    "# for i in sorted(stockID):\n",
    "#     dt = df[(df[\"stock_id\"]==i)].iloc[2000:3000]\n",
    "#     # dt[\"target\"] = dt[\"target\"]-dt[\"target\"].mean() # 平移至０\n",
    "#     # dt[\"target\"] = (dt[\"target\"]-dt[\"target\"].mean())/dt[\"target\"].std() # 做標準化\n",
    "#     fig.add_trace(\n",
    "#     go.Scatter(x = dt['time_id'], \n",
    "#             y = dt['wap'], \n",
    "#             name = 'wap'+'(stock_id='+str(i)+')',\n",
    "#             line = dict(color = color[c])))\n",
    "#     c += 1\n",
    "\n",
    "\n",
    "# fig.update_layout(title = \"WAP for different Stock\",\n",
    "#                 title_font = dict(size = 15),\n",
    "#                 showlegend = True,\n",
    "#                 width = 1500,\n",
    "#                 height = 400,\n",
    "#                 margin = dict(l = 40, r = 40, t = 40, b = 20))"
   ]
  },
  {
   "cell_type": "markdown",
   "metadata": {},
   "source": [
    "該股票的單日far price與near price波動情況"
   ]
  },
  {
   "cell_type": "code",
   "execution_count": 26,
   "metadata": {},
   "outputs": [
    {
     "data": {
      "application/vnd.plotly.v1+json": {
       "config": {
        "plotlyServerURL": "https://plot.ly"
       },
       "data": [
        {
         "line": {
          "color": "red"
         },
         "name": "far price",
         "type": "scatter",
         "x": [
          0,
          10,
          20,
          30,
          40,
          50,
          60,
          70,
          80,
          90,
          100,
          110,
          120,
          130,
          140,
          150,
          160,
          170,
          180,
          190,
          200,
          210,
          220,
          230,
          240,
          250,
          260,
          270,
          280,
          290,
          300,
          310,
          320,
          330,
          340,
          350,
          360,
          370,
          380,
          390,
          400,
          410,
          420,
          430,
          440,
          450,
          460,
          470,
          480,
          490,
          500,
          510,
          520,
          530,
          540
         ],
         "y": [
          null,
          null,
          null,
          null,
          null,
          null,
          null,
          null,
          null,
          null,
          null,
          null,
          null,
          null,
          null,
          null,
          null,
          null,
          null,
          null,
          null,
          null,
          null,
          null,
          null,
          null,
          null,
          null,
          null,
          null,
          null,
          0.977541,
          0.978228,
          0.978228,
          0.978228,
          0.978228,
          0.978228,
          0.978228,
          0.978228,
          0.979717,
          0.979832,
          0.979832,
          0.979832,
          0.979832,
          0.980061,
          0.995867,
          0.997928,
          0.998272,
          0.998615,
          0.998844,
          0.998844,
          0.998844,
          0.99873,
          0.998844,
          0.998501
         ]
        },
        {
         "line": {
          "color": "black"
         },
         "name": "near price",
         "type": "scatter",
         "x": [
          0,
          10,
          20,
          30,
          40,
          50,
          60,
          70,
          80,
          90,
          100,
          110,
          120,
          130,
          140,
          150,
          160,
          170,
          180,
          190,
          200,
          210,
          220,
          230,
          240,
          250,
          260,
          270,
          280,
          290,
          300,
          310,
          320,
          330,
          340,
          350,
          360,
          370,
          380,
          390,
          400,
          410,
          420,
          430,
          440,
          450,
          460,
          470,
          480,
          490,
          500,
          510,
          520,
          530,
          540
         ],
         "y": [
          null,
          null,
          null,
          null,
          null,
          null,
          null,
          null,
          null,
          null,
          null,
          null,
          null,
          null,
          null,
          null,
          null,
          null,
          null,
          null,
          null,
          null,
          null,
          null,
          null,
          null,
          null,
          null,
          null,
          null,
          0.944556,
          0.993347,
          0.994492,
          0.993805,
          0.993576,
          0.992889,
          0.993347,
          0.994492,
          0.995408,
          0.995867,
          0.995867,
          0.995867,
          0.995867,
          0.995867,
          0.995867,
          0.997126,
          0.998501,
          0.998272,
          0.998615,
          0.998844,
          0.998844,
          0.998959,
          0.99873,
          0.998844,
          0.998501
         ]
        }
       ],
       "layout": {
        "height": 400,
        "margin": {
         "b": 20,
         "l": 40,
         "r": 40,
         "t": 40
        },
        "showlegend": true,
        "template": {
         "data": {
          "bar": [
           {
            "error_x": {
             "color": "#2a3f5f"
            },
            "error_y": {
             "color": "#2a3f5f"
            },
            "marker": {
             "line": {
              "color": "#E5ECF6",
              "width": 0.5
             },
             "pattern": {
              "fillmode": "overlay",
              "size": 10,
              "solidity": 0.2
             }
            },
            "type": "bar"
           }
          ],
          "barpolar": [
           {
            "marker": {
             "line": {
              "color": "#E5ECF6",
              "width": 0.5
             },
             "pattern": {
              "fillmode": "overlay",
              "size": 10,
              "solidity": 0.2
             }
            },
            "type": "barpolar"
           }
          ],
          "carpet": [
           {
            "aaxis": {
             "endlinecolor": "#2a3f5f",
             "gridcolor": "white",
             "linecolor": "white",
             "minorgridcolor": "white",
             "startlinecolor": "#2a3f5f"
            },
            "baxis": {
             "endlinecolor": "#2a3f5f",
             "gridcolor": "white",
             "linecolor": "white",
             "minorgridcolor": "white",
             "startlinecolor": "#2a3f5f"
            },
            "type": "carpet"
           }
          ],
          "choropleth": [
           {
            "colorbar": {
             "outlinewidth": 0,
             "ticks": ""
            },
            "type": "choropleth"
           }
          ],
          "contour": [
           {
            "colorbar": {
             "outlinewidth": 0,
             "ticks": ""
            },
            "colorscale": [
             [
              0,
              "#0d0887"
             ],
             [
              0.1111111111111111,
              "#46039f"
             ],
             [
              0.2222222222222222,
              "#7201a8"
             ],
             [
              0.3333333333333333,
              "#9c179e"
             ],
             [
              0.4444444444444444,
              "#bd3786"
             ],
             [
              0.5555555555555556,
              "#d8576b"
             ],
             [
              0.6666666666666666,
              "#ed7953"
             ],
             [
              0.7777777777777778,
              "#fb9f3a"
             ],
             [
              0.8888888888888888,
              "#fdca26"
             ],
             [
              1,
              "#f0f921"
             ]
            ],
            "type": "contour"
           }
          ],
          "contourcarpet": [
           {
            "colorbar": {
             "outlinewidth": 0,
             "ticks": ""
            },
            "type": "contourcarpet"
           }
          ],
          "heatmap": [
           {
            "colorbar": {
             "outlinewidth": 0,
             "ticks": ""
            },
            "colorscale": [
             [
              0,
              "#0d0887"
             ],
             [
              0.1111111111111111,
              "#46039f"
             ],
             [
              0.2222222222222222,
              "#7201a8"
             ],
             [
              0.3333333333333333,
              "#9c179e"
             ],
             [
              0.4444444444444444,
              "#bd3786"
             ],
             [
              0.5555555555555556,
              "#d8576b"
             ],
             [
              0.6666666666666666,
              "#ed7953"
             ],
             [
              0.7777777777777778,
              "#fb9f3a"
             ],
             [
              0.8888888888888888,
              "#fdca26"
             ],
             [
              1,
              "#f0f921"
             ]
            ],
            "type": "heatmap"
           }
          ],
          "heatmapgl": [
           {
            "colorbar": {
             "outlinewidth": 0,
             "ticks": ""
            },
            "colorscale": [
             [
              0,
              "#0d0887"
             ],
             [
              0.1111111111111111,
              "#46039f"
             ],
             [
              0.2222222222222222,
              "#7201a8"
             ],
             [
              0.3333333333333333,
              "#9c179e"
             ],
             [
              0.4444444444444444,
              "#bd3786"
             ],
             [
              0.5555555555555556,
              "#d8576b"
             ],
             [
              0.6666666666666666,
              "#ed7953"
             ],
             [
              0.7777777777777778,
              "#fb9f3a"
             ],
             [
              0.8888888888888888,
              "#fdca26"
             ],
             [
              1,
              "#f0f921"
             ]
            ],
            "type": "heatmapgl"
           }
          ],
          "histogram": [
           {
            "marker": {
             "pattern": {
              "fillmode": "overlay",
              "size": 10,
              "solidity": 0.2
             }
            },
            "type": "histogram"
           }
          ],
          "histogram2d": [
           {
            "colorbar": {
             "outlinewidth": 0,
             "ticks": ""
            },
            "colorscale": [
             [
              0,
              "#0d0887"
             ],
             [
              0.1111111111111111,
              "#46039f"
             ],
             [
              0.2222222222222222,
              "#7201a8"
             ],
             [
              0.3333333333333333,
              "#9c179e"
             ],
             [
              0.4444444444444444,
              "#bd3786"
             ],
             [
              0.5555555555555556,
              "#d8576b"
             ],
             [
              0.6666666666666666,
              "#ed7953"
             ],
             [
              0.7777777777777778,
              "#fb9f3a"
             ],
             [
              0.8888888888888888,
              "#fdca26"
             ],
             [
              1,
              "#f0f921"
             ]
            ],
            "type": "histogram2d"
           }
          ],
          "histogram2dcontour": [
           {
            "colorbar": {
             "outlinewidth": 0,
             "ticks": ""
            },
            "colorscale": [
             [
              0,
              "#0d0887"
             ],
             [
              0.1111111111111111,
              "#46039f"
             ],
             [
              0.2222222222222222,
              "#7201a8"
             ],
             [
              0.3333333333333333,
              "#9c179e"
             ],
             [
              0.4444444444444444,
              "#bd3786"
             ],
             [
              0.5555555555555556,
              "#d8576b"
             ],
             [
              0.6666666666666666,
              "#ed7953"
             ],
             [
              0.7777777777777778,
              "#fb9f3a"
             ],
             [
              0.8888888888888888,
              "#fdca26"
             ],
             [
              1,
              "#f0f921"
             ]
            ],
            "type": "histogram2dcontour"
           }
          ],
          "mesh3d": [
           {
            "colorbar": {
             "outlinewidth": 0,
             "ticks": ""
            },
            "type": "mesh3d"
           }
          ],
          "parcoords": [
           {
            "line": {
             "colorbar": {
              "outlinewidth": 0,
              "ticks": ""
             }
            },
            "type": "parcoords"
           }
          ],
          "pie": [
           {
            "automargin": true,
            "type": "pie"
           }
          ],
          "scatter": [
           {
            "fillpattern": {
             "fillmode": "overlay",
             "size": 10,
             "solidity": 0.2
            },
            "type": "scatter"
           }
          ],
          "scatter3d": [
           {
            "line": {
             "colorbar": {
              "outlinewidth": 0,
              "ticks": ""
             }
            },
            "marker": {
             "colorbar": {
              "outlinewidth": 0,
              "ticks": ""
             }
            },
            "type": "scatter3d"
           }
          ],
          "scattercarpet": [
           {
            "marker": {
             "colorbar": {
              "outlinewidth": 0,
              "ticks": ""
             }
            },
            "type": "scattercarpet"
           }
          ],
          "scattergeo": [
           {
            "marker": {
             "colorbar": {
              "outlinewidth": 0,
              "ticks": ""
             }
            },
            "type": "scattergeo"
           }
          ],
          "scattergl": [
           {
            "marker": {
             "colorbar": {
              "outlinewidth": 0,
              "ticks": ""
             }
            },
            "type": "scattergl"
           }
          ],
          "scattermapbox": [
           {
            "marker": {
             "colorbar": {
              "outlinewidth": 0,
              "ticks": ""
             }
            },
            "type": "scattermapbox"
           }
          ],
          "scatterpolar": [
           {
            "marker": {
             "colorbar": {
              "outlinewidth": 0,
              "ticks": ""
             }
            },
            "type": "scatterpolar"
           }
          ],
          "scatterpolargl": [
           {
            "marker": {
             "colorbar": {
              "outlinewidth": 0,
              "ticks": ""
             }
            },
            "type": "scatterpolargl"
           }
          ],
          "scatterternary": [
           {
            "marker": {
             "colorbar": {
              "outlinewidth": 0,
              "ticks": ""
             }
            },
            "type": "scatterternary"
           }
          ],
          "surface": [
           {
            "colorbar": {
             "outlinewidth": 0,
             "ticks": ""
            },
            "colorscale": [
             [
              0,
              "#0d0887"
             ],
             [
              0.1111111111111111,
              "#46039f"
             ],
             [
              0.2222222222222222,
              "#7201a8"
             ],
             [
              0.3333333333333333,
              "#9c179e"
             ],
             [
              0.4444444444444444,
              "#bd3786"
             ],
             [
              0.5555555555555556,
              "#d8576b"
             ],
             [
              0.6666666666666666,
              "#ed7953"
             ],
             [
              0.7777777777777778,
              "#fb9f3a"
             ],
             [
              0.8888888888888888,
              "#fdca26"
             ],
             [
              1,
              "#f0f921"
             ]
            ],
            "type": "surface"
           }
          ],
          "table": [
           {
            "cells": {
             "fill": {
              "color": "#EBF0F8"
             },
             "line": {
              "color": "white"
             }
            },
            "header": {
             "fill": {
              "color": "#C8D4E3"
             },
             "line": {
              "color": "white"
             }
            },
            "type": "table"
           }
          ]
         },
         "layout": {
          "annotationdefaults": {
           "arrowcolor": "#2a3f5f",
           "arrowhead": 0,
           "arrowwidth": 1
          },
          "autotypenumbers": "strict",
          "coloraxis": {
           "colorbar": {
            "outlinewidth": 0,
            "ticks": ""
           }
          },
          "colorscale": {
           "diverging": [
            [
             0,
             "#8e0152"
            ],
            [
             0.1,
             "#c51b7d"
            ],
            [
             0.2,
             "#de77ae"
            ],
            [
             0.3,
             "#f1b6da"
            ],
            [
             0.4,
             "#fde0ef"
            ],
            [
             0.5,
             "#f7f7f7"
            ],
            [
             0.6,
             "#e6f5d0"
            ],
            [
             0.7,
             "#b8e186"
            ],
            [
             0.8,
             "#7fbc41"
            ],
            [
             0.9,
             "#4d9221"
            ],
            [
             1,
             "#276419"
            ]
           ],
           "sequential": [
            [
             0,
             "#0d0887"
            ],
            [
             0.1111111111111111,
             "#46039f"
            ],
            [
             0.2222222222222222,
             "#7201a8"
            ],
            [
             0.3333333333333333,
             "#9c179e"
            ],
            [
             0.4444444444444444,
             "#bd3786"
            ],
            [
             0.5555555555555556,
             "#d8576b"
            ],
            [
             0.6666666666666666,
             "#ed7953"
            ],
            [
             0.7777777777777778,
             "#fb9f3a"
            ],
            [
             0.8888888888888888,
             "#fdca26"
            ],
            [
             1,
             "#f0f921"
            ]
           ],
           "sequentialminus": [
            [
             0,
             "#0d0887"
            ],
            [
             0.1111111111111111,
             "#46039f"
            ],
            [
             0.2222222222222222,
             "#7201a8"
            ],
            [
             0.3333333333333333,
             "#9c179e"
            ],
            [
             0.4444444444444444,
             "#bd3786"
            ],
            [
             0.5555555555555556,
             "#d8576b"
            ],
            [
             0.6666666666666666,
             "#ed7953"
            ],
            [
             0.7777777777777778,
             "#fb9f3a"
            ],
            [
             0.8888888888888888,
             "#fdca26"
            ],
            [
             1,
             "#f0f921"
            ]
           ]
          },
          "colorway": [
           "#636efa",
           "#EF553B",
           "#00cc96",
           "#ab63fa",
           "#FFA15A",
           "#19d3f3",
           "#FF6692",
           "#B6E880",
           "#FF97FF",
           "#FECB52"
          ],
          "font": {
           "color": "#2a3f5f"
          },
          "geo": {
           "bgcolor": "white",
           "lakecolor": "white",
           "landcolor": "#E5ECF6",
           "showlakes": true,
           "showland": true,
           "subunitcolor": "white"
          },
          "hoverlabel": {
           "align": "left"
          },
          "hovermode": "closest",
          "mapbox": {
           "style": "light"
          },
          "paper_bgcolor": "white",
          "plot_bgcolor": "#E5ECF6",
          "polar": {
           "angularaxis": {
            "gridcolor": "white",
            "linecolor": "white",
            "ticks": ""
           },
           "bgcolor": "#E5ECF6",
           "radialaxis": {
            "gridcolor": "white",
            "linecolor": "white",
            "ticks": ""
           }
          },
          "scene": {
           "xaxis": {
            "backgroundcolor": "#E5ECF6",
            "gridcolor": "white",
            "gridwidth": 2,
            "linecolor": "white",
            "showbackground": true,
            "ticks": "",
            "zerolinecolor": "white"
           },
           "yaxis": {
            "backgroundcolor": "#E5ECF6",
            "gridcolor": "white",
            "gridwidth": 2,
            "linecolor": "white",
            "showbackground": true,
            "ticks": "",
            "zerolinecolor": "white"
           },
           "zaxis": {
            "backgroundcolor": "#E5ECF6",
            "gridcolor": "white",
            "gridwidth": 2,
            "linecolor": "white",
            "showbackground": true,
            "ticks": "",
            "zerolinecolor": "white"
           }
          },
          "shapedefaults": {
           "line": {
            "color": "#2a3f5f"
           }
          },
          "ternary": {
           "aaxis": {
            "gridcolor": "white",
            "linecolor": "white",
            "ticks": ""
           },
           "baxis": {
            "gridcolor": "white",
            "linecolor": "white",
            "ticks": ""
           },
           "bgcolor": "#E5ECF6",
           "caxis": {
            "gridcolor": "white",
            "linecolor": "white",
            "ticks": ""
           }
          },
          "title": {
           "x": 0.05
          },
          "xaxis": {
           "automargin": true,
           "gridcolor": "white",
           "linecolor": "white",
           "ticks": "",
           "title": {
            "standoff": 15
           },
           "zerolinecolor": "white",
           "zerolinewidth": 2
          },
          "yaxis": {
           "automargin": true,
           "gridcolor": "white",
           "linecolor": "white",
           "ticks": "",
           "title": {
            "standoff": 15
           },
           "zerolinecolor": "white",
           "zerolinewidth": 2
          }
         }
        },
        "title": {
         "font": {
          "size": 15
         },
         "text": "stock id = 197 & date id = 274"
        },
        "width": 1200
       }
      }
     },
     "metadata": {},
     "output_type": "display_data"
    }
   ],
   "source": [
    "fig = go.Figure()\n",
    "dt = stock_id_df[stock_id_df['date_id']==274]\n",
    "\n",
    "fig.add_trace(\n",
    "    go.Scatter(x = dt['seconds_in_bucket'], \n",
    "            y = dt['far_price'], \n",
    "            name = 'far price',\n",
    "            line = dict(color = 'red')))\n",
    "\n",
    "fig.add_trace(\n",
    "    go.Scatter(x = dt['seconds_in_bucket'], \n",
    "            y = dt['near_price'], \n",
    "            name = 'near price',\n",
    "            line = dict(color = 'black')))\n",
    "\n",
    "fig.update_layout(title = \"stock id = \"+str(id)+\" & date id = 274\",\n",
    "                title_font = dict(size = 15),\n",
    "                showlegend = True,\n",
    "                width = 1200,\n",
    "                height = 400,\n",
    "                margin = dict(l = 40, r = 40, t = 40, b = 20))"
   ]
  },
  {
   "cell_type": "markdown",
   "metadata": {},
   "source": [
    "該股票的不同日far price與near price波動情況"
   ]
  },
  {
   "cell_type": "code",
   "execution_count": 27,
   "metadata": {},
   "outputs": [],
   "source": [
    "# fig = go.Figure()\n",
    "# dt = stock_id_df[stock_id_df['date_id']==0]\n",
    "\n",
    "# fig.add_trace(\n",
    "#     go.Scatter(x = dt['seconds_in_bucket'], \n",
    "#             y = dt['far_price'], \n",
    "#             name = 'far price',\n",
    "#             line = dict(color = 'red')))\n",
    "\n",
    "# fig.add_trace(\n",
    "#     go.Scatter(x = dt['seconds_in_bucket'], \n",
    "#             y = dt['near_price'], \n",
    "#             name = 'near price',\n",
    "#             line = dict(color = 'black')))\n",
    "\n",
    "# fig.update_layout(title = \"\",\n",
    "#                 title_font = dict(size = 15),\n",
    "#                 showlegend = True,\n",
    "#                 width = 1200,\n",
    "#                 height = 400,\n",
    "#                 margin = dict(l = 40, r = 40, t = 40, b = 20))"
   ]
  },
  {
   "cell_type": "markdown",
   "metadata": {},
   "source": [
    "股票之間是否相關（看target）"
   ]
  },
  {
   "cell_type": "code",
   "execution_count": 28,
   "metadata": {},
   "outputs": [],
   "source": [
    "# fig = go.Figure()\n",
    "# random.seed(456)\n",
    "# stockID = sorted(random.sample(sorted(df[\"stock_id\"].unique()), 3))\n",
    "# r = {stockID[0]:0, stockID[1]:3, stockID[2]:4}\n",
    "# for i in stockID:\n",
    "#     stock_dt = df[(df[\"stock_id\"]==i)&(df[\"date_id\"]<=5)]\n",
    "#     fig.add_trace(\n",
    "#         go.Scatter(x = stock_dt['time_id'], \n",
    "#                 y = stock_dt['target'], \n",
    "#                 name = 'Target(stock_id='+str(i)+')',\n",
    "#                 line = dict(color = color[r[i]])))\n",
    "\n",
    "\n",
    "# fig.update_layout(title = 'Target Variable(date_id=0~10)',\n",
    "#                 title_font = dict(size = 15),\n",
    "#                 showlegend = True,\n",
    "#                 width = 1100,\n",
    "#                 height = 400,\n",
    "#                 margin = dict(l = 40, r = 40, t = 40, b = 20))"
   ]
  },
  {
   "cell_type": "markdown",
   "metadata": {},
   "source": [
    "##### 平均交易量（200支股票日均）"
   ]
  },
  {
   "cell_type": "code",
   "execution_count": 29,
   "metadata": {},
   "outputs": [],
   "source": [
    "# date_size = []\n",
    "# for i in tqdm(sorted(df[\"date_id\"].unique())):\n",
    "#     size = []\n",
    "#     for j in sorted(df[\"stock_id\"].unique()):\n",
    "#         size.append(df[(df[\"date_id\"]==i) & (df[\"stock_id\"]==j)][\"matched_size\"].sum())\n",
    "#     date_size.append(np.mean(size))\n",
    "\n",
    "# volumes = pd.DataFrame(sorted(df[\"date_id\"].unique()))\n",
    "# volumes[\"matched_size\"] = date_size\n",
    "# volumes.columns = [\"date_id\", \"matched_size\"]\n",
    "# volumes.head(5)"
   ]
  },
  {
   "cell_type": "code",
   "execution_count": 30,
   "metadata": {},
   "outputs": [],
   "source": [
    "# volumes[\"matched_size\"] = (volumes[\"matched_size\"]-volumes[\"matched_size\"].mean())/volumes[\"matched_size\"].std() # 標準化"
   ]
  },
  {
   "cell_type": "code",
   "execution_count": 31,
   "metadata": {},
   "outputs": [],
   "source": [
    "# fig = go.Figure()\n",
    "\n",
    "# fig.add_trace(\n",
    "#     go.Scatter(x = volumes['date_id'], \n",
    "#             y = volumes['matched_size'], \n",
    "#             name = 'matched_size',\n",
    "#             line = dict(color = 'red')))\n",
    "\n",
    "# fig.update_layout(title = \"Matched Size for different date\",\n",
    "#                 title_font = dict(size = 15),\n",
    "#                 showlegend = True,\n",
    "#                 width = 1200,\n",
    "#                 height = 400,\n",
    "#                 margin = dict(l = 40, r = 40, t = 40, b = 20))"
   ]
  },
  {
   "cell_type": "code",
   "execution_count": 32,
   "metadata": {},
   "outputs": [],
   "source": [
    "# fig = go.Figure()\n",
    "\n",
    "# fig.add_trace(\n",
    "#     go.Scatter(x = stock_id_df['time_id'].iloc[10000:11000], \n",
    "#             y = stock_id_df['ask_price'].iloc[10000:11000], \n",
    "#             name = 'ask price',\n",
    "#             line = dict(color = 'blue')))\n",
    "\n",
    "# fig.add_trace(\n",
    "#     go.Scatter(x = stock_id_df['time_id'].iloc[10000:11000], \n",
    "#             y = stock_id_df['bid_price'].iloc[10000:11000], \n",
    "#             name = 'bid price',\n",
    "#             line = dict(color = 'green')))\n",
    "\n",
    "\n",
    "# fig.update_layout(title = \"Overview for Ask Price and Bid Price\",\n",
    "#                 title_font = dict(size = 15),\n",
    "#                 showlegend = True,\n",
    "#                 width = 1400,\n",
    "#                 height = 400,\n",
    "#                 margin = dict(l = 40, r = 40, t = 40, b = 20))"
   ]
  },
  {
   "cell_type": "code",
   "execution_count": 33,
   "metadata": {},
   "outputs": [],
   "source": [
    "# fig = go.Figure()\n",
    "\n",
    "# fig.add_trace(\n",
    "#     go.Scatter(x = stock_id_df['time_id'].iloc[10000:11000], \n",
    "#             y = stock_id_df['target'].iloc[10000:11000], \n",
    "#             name = 'Target variable',\n",
    "#             line = dict(color = 'red'),\n",
    "#             yaxis = \"y2\"))\n",
    "\n",
    "# fig.add_trace(\n",
    "#     go.Scatter(x = stock_id_df['time_id'].iloc[10000:11000], \n",
    "#             y = stock_id_df['wap'].iloc[10000:11000], \n",
    "#             name = 'WAP',\n",
    "#             line = dict(color = 'black')))\n",
    "\n",
    "# fig.update_layout(title = \"Overview for WAP and Target Variable\",\n",
    "#                 title_font = dict(size = 15),\n",
    "#                 showlegend = True,\n",
    "#                 width = 1400,\n",
    "#                 height = 400,\n",
    "#                 margin = dict(l = 40, r = 40, t = 40, b = 20),\n",
    "#                 yaxis2 = dict(title = \"Target Variable\", overlaying = \"y\", side = \"right\"),)"
   ]
  },
  {
   "cell_type": "markdown",
   "metadata": {},
   "source": [
    "## 資料處理"
   ]
  },
  {
   "cell_type": "code",
   "execution_count": 34,
   "metadata": {},
   "outputs": [],
   "source": [
    "# sec = sorted(df[\"seconds_in_bucket\"].unique())[:5]\n",
    "# dic = {}\n",
    "# for i in sec:\n",
    "#     dic[\"name\"+str(i)]=df[df[\"date_id\"]==i]\n",
    "# name = \"name\"+str(10)\n",
    "# # name\n",
    "# dic[name] = dic[\"name\"+str(0)]\n",
    "# dic[\"name\"+str(0)]"
   ]
  },
  {
   "cell_type": "code",
   "execution_count": 35,
   "metadata": {},
   "outputs": [],
   "source": [
    "deal_col = list(df.columns[[3, 5, 6, 7, 8, 9, 10, 11, 12, 13]])\n",
    "seconds = sorted(df[\"seconds_in_bucket\"].unique(), reverse=True)\n",
    "df[\"imbalance_size\"] += 1\n",
    "# sorted(df[\"date_id\"].unique())"
   ]
  },
  {
   "cell_type": "code",
   "execution_count": 36,
   "metadata": {},
   "outputs": [],
   "source": [
    "# from datatransform import datatransform\n",
    "# dtm = datatransform()\n",
    "# cpus_num = cpu_count()\n",
    "# print(cpus_num)\n",
    "# df_list = [df[df[\"date_id\"]==date] for date in sorted(df[\"date_id\"].unique())]\n",
    "# len(df_list)"
   ]
  },
  {
   "cell_type": "code",
   "execution_count": 37,
   "metadata": {},
   "outputs": [],
   "source": [
    "# func = partial(dtm.calculate_Volatility, deal_columns=deal_col)\n",
    "# with Pool(processes = 6) as pool:\n",
    "#     result = list(tqdm(pool.imap(func, df_list), total = len(df_list)))"
   ]
  },
  {
   "cell_type": "code",
   "execution_count": 38,
   "metadata": {},
   "outputs": [],
   "source": [
    "# new_df_deal = pd.concat(result, axis=0, ignore_index=True)\n",
    "# new_df_deal.shape, df.shape"
   ]
  },
  {
   "cell_type": "code",
   "execution_count": 39,
   "metadata": {},
   "outputs": [
    {
     "name": "stderr",
     "output_type": "stream",
     "text": [
      "  0%|          | 0/481 [00:00<?, ?it/s]"
     ]
    },
    {
     "name": "stderr",
     "output_type": "stream",
     "text": [
      " 49%|████▉     | 238/481 [01:05<01:06,  3.65it/s]\n"
     ]
    },
    {
     "ename": "KeyboardInterrupt",
     "evalue": "",
     "output_type": "error",
     "traceback": [
      "\u001b[0;31m---------------------------------------------------------------------------\u001b[0m",
      "\u001b[0;31mKeyboardInterrupt\u001b[0m                         Traceback (most recent call last)",
      "Cell \u001b[0;32mIn[39], line 4\u001b[0m\n\u001b[1;32m      2\u001b[0m \u001b[38;5;28;01mfor\u001b[39;00m date \u001b[38;5;129;01min\u001b[39;00m tqdm(\u001b[38;5;28msorted\u001b[39m(df[\u001b[38;5;124m\"\u001b[39m\u001b[38;5;124mdate_id\u001b[39m\u001b[38;5;124m\"\u001b[39m]\u001b[38;5;241m.\u001b[39munique())):\n\u001b[1;32m      3\u001b[0m     \u001b[38;5;28;01mfor\u001b[39;00m sec \u001b[38;5;129;01min\u001b[39;00m \u001b[38;5;28msorted\u001b[39m(df[\u001b[38;5;124m\"\u001b[39m\u001b[38;5;124mseconds_in_bucket\u001b[39m\u001b[38;5;124m\"\u001b[39m]\u001b[38;5;241m.\u001b[39munique()):\n\u001b[0;32m----> 4\u001b[0m         df_list\u001b[38;5;241m.\u001b[39mappend(df[(df[\u001b[38;5;124m\"\u001b[39m\u001b[38;5;124mdate_id\u001b[39m\u001b[38;5;124m\"\u001b[39m]\u001b[38;5;241m==\u001b[39mdate)\u001b[38;5;241m&\u001b[39m(\u001b[43mdf\u001b[49m\u001b[43m[\u001b[49m\u001b[38;5;124;43m\"\u001b[39;49m\u001b[38;5;124;43mseconds_in_bucket\u001b[39;49m\u001b[38;5;124;43m\"\u001b[39;49m\u001b[43m]\u001b[49m\u001b[38;5;241;43m==\u001b[39;49m\u001b[43msec\u001b[49m)])\n",
      "File \u001b[0;32m/Library/Frameworks/Python.framework/Versions/3.11/lib/python3.11/site-packages/pandas/core/ops/common.py:76\u001b[0m, in \u001b[0;36m_unpack_zerodim_and_defer.<locals>.new_method\u001b[0;34m(self, other)\u001b[0m\n\u001b[1;32m     72\u001b[0m             \u001b[38;5;28;01mreturn\u001b[39;00m \u001b[38;5;28mNotImplemented\u001b[39m\n\u001b[1;32m     74\u001b[0m other \u001b[38;5;241m=\u001b[39m item_from_zerodim(other)\n\u001b[0;32m---> 76\u001b[0m \u001b[38;5;28;01mreturn\u001b[39;00m \u001b[43mmethod\u001b[49m\u001b[43m(\u001b[49m\u001b[38;5;28;43mself\u001b[39;49m\u001b[43m,\u001b[49m\u001b[43m \u001b[49m\u001b[43mother\u001b[49m\u001b[43m)\u001b[49m\n",
      "File \u001b[0;32m/Library/Frameworks/Python.framework/Versions/3.11/lib/python3.11/site-packages/pandas/core/arraylike.py:40\u001b[0m, in \u001b[0;36mOpsMixin.__eq__\u001b[0;34m(self, other)\u001b[0m\n\u001b[1;32m     38\u001b[0m \u001b[38;5;129m@unpack_zerodim_and_defer\u001b[39m(\u001b[38;5;124m\"\u001b[39m\u001b[38;5;124m__eq__\u001b[39m\u001b[38;5;124m\"\u001b[39m)\n\u001b[1;32m     39\u001b[0m \u001b[38;5;28;01mdef\u001b[39;00m \u001b[38;5;21m__eq__\u001b[39m(\u001b[38;5;28mself\u001b[39m, other):\n\u001b[0;32m---> 40\u001b[0m     \u001b[38;5;28;01mreturn\u001b[39;00m \u001b[38;5;28;43mself\u001b[39;49m\u001b[38;5;241;43m.\u001b[39;49m\u001b[43m_cmp_method\u001b[49m\u001b[43m(\u001b[49m\u001b[43mother\u001b[49m\u001b[43m,\u001b[49m\u001b[43m \u001b[49m\u001b[43moperator\u001b[49m\u001b[38;5;241;43m.\u001b[39;49m\u001b[43meq\u001b[49m\u001b[43m)\u001b[49m\n",
      "File \u001b[0;32m/Library/Frameworks/Python.framework/Versions/3.11/lib/python3.11/site-packages/pandas/core/series.py:5804\u001b[0m, in \u001b[0;36mSeries._cmp_method\u001b[0;34m(self, other, op)\u001b[0m\n\u001b[1;32m   5801\u001b[0m lvalues \u001b[38;5;241m=\u001b[39m \u001b[38;5;28mself\u001b[39m\u001b[38;5;241m.\u001b[39m_values\n\u001b[1;32m   5802\u001b[0m rvalues \u001b[38;5;241m=\u001b[39m extract_array(other, extract_numpy\u001b[38;5;241m=\u001b[39m\u001b[38;5;28;01mTrue\u001b[39;00m, extract_range\u001b[38;5;241m=\u001b[39m\u001b[38;5;28;01mTrue\u001b[39;00m)\n\u001b[0;32m-> 5804\u001b[0m res_values \u001b[38;5;241m=\u001b[39m \u001b[43mops\u001b[49m\u001b[38;5;241;43m.\u001b[39;49m\u001b[43mcomparison_op\u001b[49m\u001b[43m(\u001b[49m\u001b[43mlvalues\u001b[49m\u001b[43m,\u001b[49m\u001b[43m \u001b[49m\u001b[43mrvalues\u001b[49m\u001b[43m,\u001b[49m\u001b[43m \u001b[49m\u001b[43mop\u001b[49m\u001b[43m)\u001b[49m\n\u001b[1;32m   5806\u001b[0m \u001b[38;5;28;01mreturn\u001b[39;00m \u001b[38;5;28mself\u001b[39m\u001b[38;5;241m.\u001b[39m_construct_result(res_values, name\u001b[38;5;241m=\u001b[39mres_name)\n",
      "File \u001b[0;32m/Library/Frameworks/Python.framework/Versions/3.11/lib/python3.11/site-packages/pandas/core/ops/array_ops.py:349\u001b[0m, in \u001b[0;36mcomparison_op\u001b[0;34m(left, right, op)\u001b[0m\n\u001b[1;32m    346\u001b[0m     res_values \u001b[38;5;241m=\u001b[39m comp_method_OBJECT_ARRAY(op, lvalues, rvalues)\n\u001b[1;32m    348\u001b[0m \u001b[38;5;28;01melse\u001b[39;00m:\n\u001b[0;32m--> 349\u001b[0m     res_values \u001b[38;5;241m=\u001b[39m \u001b[43m_na_arithmetic_op\u001b[49m\u001b[43m(\u001b[49m\u001b[43mlvalues\u001b[49m\u001b[43m,\u001b[49m\u001b[43m \u001b[49m\u001b[43mrvalues\u001b[49m\u001b[43m,\u001b[49m\u001b[43m \u001b[49m\u001b[43mop\u001b[49m\u001b[43m,\u001b[49m\u001b[43m \u001b[49m\u001b[43mis_cmp\u001b[49m\u001b[38;5;241;43m=\u001b[39;49m\u001b[38;5;28;43;01mTrue\u001b[39;49;00m\u001b[43m)\u001b[49m\n\u001b[1;32m    351\u001b[0m \u001b[38;5;28;01mreturn\u001b[39;00m res_values\n",
      "File \u001b[0;32m/Library/Frameworks/Python.framework/Versions/3.11/lib/python3.11/site-packages/pandas/core/ops/array_ops.py:220\u001b[0m, in \u001b[0;36m_na_arithmetic_op\u001b[0;34m(left, right, op, is_cmp)\u001b[0m\n\u001b[1;32m    217\u001b[0m     func \u001b[38;5;241m=\u001b[39m partial(expressions\u001b[38;5;241m.\u001b[39mevaluate, op)\n\u001b[1;32m    219\u001b[0m \u001b[38;5;28;01mtry\u001b[39;00m:\n\u001b[0;32m--> 220\u001b[0m     result \u001b[38;5;241m=\u001b[39m \u001b[43mfunc\u001b[49m\u001b[43m(\u001b[49m\u001b[43mleft\u001b[49m\u001b[43m,\u001b[49m\u001b[43m \u001b[49m\u001b[43mright\u001b[49m\u001b[43m)\u001b[49m\n\u001b[1;32m    221\u001b[0m \u001b[38;5;28;01mexcept\u001b[39;00m \u001b[38;5;167;01mTypeError\u001b[39;00m:\n\u001b[1;32m    222\u001b[0m     \u001b[38;5;28;01mif\u001b[39;00m \u001b[38;5;129;01mnot\u001b[39;00m is_cmp \u001b[38;5;129;01mand\u001b[39;00m (\n\u001b[1;32m    223\u001b[0m         left\u001b[38;5;241m.\u001b[39mdtype \u001b[38;5;241m==\u001b[39m \u001b[38;5;28mobject\u001b[39m \u001b[38;5;129;01mor\u001b[39;00m \u001b[38;5;28mgetattr\u001b[39m(right, \u001b[38;5;124m\"\u001b[39m\u001b[38;5;124mdtype\u001b[39m\u001b[38;5;124m\"\u001b[39m, \u001b[38;5;28;01mNone\u001b[39;00m) \u001b[38;5;241m==\u001b[39m \u001b[38;5;28mobject\u001b[39m\n\u001b[1;32m    224\u001b[0m     ):\n\u001b[0;32m   (...)\u001b[0m\n\u001b[1;32m    227\u001b[0m         \u001b[38;5;66;03m# Don't do this for comparisons, as that will handle complex numbers\u001b[39;00m\n\u001b[1;32m    228\u001b[0m         \u001b[38;5;66;03m#  incorrectly, see GH#32047\u001b[39;00m\n",
      "File \u001b[0;32m/Library/Frameworks/Python.framework/Versions/3.11/lib/python3.11/site-packages/pandas/core/computation/expressions.py:242\u001b[0m, in \u001b[0;36mevaluate\u001b[0;34m(op, a, b, use_numexpr)\u001b[0m\n\u001b[1;32m    239\u001b[0m \u001b[38;5;28;01mif\u001b[39;00m op_str \u001b[38;5;129;01mis\u001b[39;00m \u001b[38;5;129;01mnot\u001b[39;00m \u001b[38;5;28;01mNone\u001b[39;00m:\n\u001b[1;32m    240\u001b[0m     \u001b[38;5;28;01mif\u001b[39;00m use_numexpr:\n\u001b[1;32m    241\u001b[0m         \u001b[38;5;66;03m# error: \"None\" not callable\u001b[39;00m\n\u001b[0;32m--> 242\u001b[0m         \u001b[38;5;28;01mreturn\u001b[39;00m \u001b[43m_evaluate\u001b[49m\u001b[43m(\u001b[49m\u001b[43mop\u001b[49m\u001b[43m,\u001b[49m\u001b[43m \u001b[49m\u001b[43mop_str\u001b[49m\u001b[43m,\u001b[49m\u001b[43m \u001b[49m\u001b[43ma\u001b[49m\u001b[43m,\u001b[49m\u001b[43m \u001b[49m\u001b[43mb\u001b[49m\u001b[43m)\u001b[49m  \u001b[38;5;66;03m# type: ignore[misc]\u001b[39;00m\n\u001b[1;32m    243\u001b[0m \u001b[38;5;28;01mreturn\u001b[39;00m _evaluate_standard(op, op_str, a, b)\n",
      "File \u001b[0;32m/Library/Frameworks/Python.framework/Versions/3.11/lib/python3.11/site-packages/pandas/core/computation/expressions.py:73\u001b[0m, in \u001b[0;36m_evaluate_standard\u001b[0;34m(op, op_str, a, b)\u001b[0m\n\u001b[1;32m     71\u001b[0m \u001b[38;5;28;01mif\u001b[39;00m _TEST_MODE:\n\u001b[1;32m     72\u001b[0m     _store_test_result(\u001b[38;5;28;01mFalse\u001b[39;00m)\n\u001b[0;32m---> 73\u001b[0m \u001b[38;5;28;01mreturn\u001b[39;00m op(a, b)\n",
      "\u001b[0;31mKeyboardInterrupt\u001b[0m: "
     ]
    }
   ],
   "source": [
    "df_list = []\n",
    "for date in tqdm(sorted(df[\"date_id\"].unique())):\n",
    "    for sec in sorted(df[\"seconds_in_bucket\"].unique()):\n",
    "        df_list.append(df[(df[\"date_id\"]==date)&(df[\"seconds_in_bucket\"]==sec)])"
   ]
  },
  {
   "cell_type": "code",
   "execution_count": null,
   "metadata": {},
   "outputs": [
    {
     "data": {
      "text/plain": [
       "[50, 40, 30, 20, 10]"
      ]
     },
     "execution_count": 128,
     "metadata": {},
     "output_type": "execute_result"
    }
   ],
   "source": [
    "sorted(range(0, 60, 10), reverse=True)[:-1]"
   ]
  },
  {
   "cell_type": "code",
   "execution_count": null,
   "metadata": {},
   "outputs": [],
   "source": [
    "def seconds_0_calculate_Volatility(dataframe, deal_columns, column_number):\n",
    "    deal_columns_new = [\"new_\"+col+str(column_number) for col in deal_columns]\n",
    "    new_dataframe = dataframe.copy()\n",
    "    new_dataframe[deal_columns_new] = np.nan\n",
    "    return new_dataframe\n",
    "\n",
    "def seconds_not0_calculate_Volatility(dataframe_new, dataframe_last, deal_columns, column_number):\n",
    "    deal_columns_new = [\"new_\"+col+str(column_number) for col in deal_columns]\n",
    "    new_dataframe = dataframe_new.copy()\n",
    "    p = dataframe_last\n",
    "    n = dataframe_new\n",
    "    p.index = n.index\n",
    "    new_dataframe[deal_columns_new] = n[deal_columns]/p[deal_columns]\n",
    "    return new_dataframe"
   ]
  },
  {
   "cell_type": "code",
   "execution_count": null,
   "metadata": {},
   "outputs": [
    {
     "name": "stderr",
     "output_type": "stream",
     "text": [
      "100%|██████████| 3/3 [00:00<00:00, 684.34it/s]"
     ]
    },
    {
     "name": "stdout",
     "output_type": "stream",
     "text": [
      "0\n",
      "10\n",
      "20\n"
     ]
    },
    {
     "name": "stderr",
     "output_type": "stream",
     "text": [
      "\n"
     ]
    },
    {
     "data": {
      "text/plain": [
       "3"
      ]
     },
     "execution_count": 130,
     "metadata": {},
     "output_type": "execute_result"
    }
   ],
   "source": [
    "save_dt = {}\n",
    "for test in tqdm(df_list[:3]):\n",
    "    check_sec = test[\"seconds_in_bucket\"].unique()[0]\n",
    "    print(check_sec)\n",
    "    # seconds_diff = 20\n",
    "    cache = test\n",
    "    seconds_diff = 60\n",
    "    if check_sec>=seconds_diff:\n",
    "        cache = seconds_not0_calculate_Volatility(cache, save_dt[0], deal_col, seconds_diff)\n",
    "        for past_sec in sorted(range(0, seconds_diff, 10), resverse=True)[:-1]:\n",
    "            save_dt[past_sec-10] = save_dt[past_sec]\n",
    "        save_dt[seconds_diff-10] = test\n",
    "    else:\n",
    "        cache  = seconds_0_calculate_Volatility(cache, deal_col, seconds_diff)\n",
    "        # print(\"test_past\"+str(check_sec))\n",
    "        save_dt[check_sec] = test.copy()\n",
    "        # print(test)\n",
    "len(save_dt)"
   ]
  },
  {
   "cell_type": "code",
   "execution_count": null,
   "metadata": {},
   "outputs": [],
   "source": [
    "# new_df = df.copy()\n",
    "# for sec in seconds[:-1]:\n",
    "#     p = df[df[\"seconds_in_bucket\"]==sec-10]\n",
    "#     n = df[df[\"seconds_in_bucket\"]==sec]\n",
    "#     p.index = n.index\n",
    "#     new_df.loc[n.index, deal_col] = n[deal_col]/p[deal_col]"
   ]
  },
  {
   "cell_type": "code",
   "execution_count": null,
   "metadata": {},
   "outputs": [],
   "source": [
    "# sec_o_new_df_index = new_df[new_df[\"seconds_in_bucket\"]==0].index\n",
    "# new_df.loc[sec_o_new_df_index, deal_col] = np.nan\n",
    "# new_df"
   ]
  },
  {
   "cell_type": "code",
   "execution_count": null,
   "metadata": {},
   "outputs": [],
   "source": [
    "# def calculate_Volatility(dataframe, deal_columns):\n",
    "#     deal_columns_new = [\"new_\"+col for col in deal_columns]\n",
    "#     new_dataframe = dataframe.copy()\n",
    "#     new_dataframe[deal_columns_new] = new_dataframe[deal_columns]\n",
    "#     dateID = new_dataframe[\"date_id\"].unique()\n",
    "#     for date in tqdm(dateID):\n",
    "#         seconds = sorted(dataframe[dataframe[\"date_id\"]==date][\"seconds_in_bucket\"].unique(), reverse=True)\n",
    "#         for sec in seconds:\n",
    "#             if sec >= 10:\n",
    "#                 p = new_dataframe[(dataframe[\"date_id\"]==date)&(new_dataframe[\"seconds_in_bucket\"]==sec-10)]\n",
    "#                 n = new_dataframe[(dataframe[\"date_id\"]==date)&(new_dataframe[\"seconds_in_bucket\"]==sec)]\n",
    "#                 p.index = n.index\n",
    "#                 new_dataframe.loc[n.index, deal_columns_new] = n[deal_columns_new]/p[deal_columns_new]\n",
    "                \n",
    "#             else:\n",
    "#                 sec_0_index = new_dataframe[(new_dataframe[\"date_id\"]==date)&(new_dataframe[\"seconds_in_bucket\"]==sec)].index\n",
    "#                 new_dataframe.loc[sec_0_index, deal_columns_new] = np.nan\n",
    "            \n",
    "#     return new_dataframe"
   ]
  },
  {
   "cell_type": "code",
   "execution_count": null,
   "metadata": {},
   "outputs": [],
   "source": [
    "# new_df = calculate_Volatility(dataframe=df, deal_columns=deal_col)\n",
    "# new_df[\"seconds_in_bucket\"].value_counts().sort_index()"
   ]
  },
  {
   "cell_type": "code",
   "execution_count": null,
   "metadata": {},
   "outputs": [
    {
     "data": {
      "text/html": [
       "<div>\n",
       "<style scoped>\n",
       "    .dataframe tbody tr th:only-of-type {\n",
       "        vertical-align: middle;\n",
       "    }\n",
       "\n",
       "    .dataframe tbody tr th {\n",
       "        vertical-align: top;\n",
       "    }\n",
       "\n",
       "    .dataframe thead th {\n",
       "        text-align: right;\n",
       "    }\n",
       "</style>\n",
       "<table border=\"1\" class=\"dataframe\">\n",
       "  <thead>\n",
       "    <tr style=\"text-align: right;\">\n",
       "      <th></th>\n",
       "      <th>stock_id</th>\n",
       "      <th>date_id</th>\n",
       "      <th>seconds_in_bucket</th>\n",
       "      <th>imbalance_size</th>\n",
       "      <th>imbalance_buy_sell_flag</th>\n",
       "      <th>reference_price</th>\n",
       "      <th>matched_size</th>\n",
       "      <th>far_price</th>\n",
       "      <th>near_price</th>\n",
       "      <th>bid_price</th>\n",
       "      <th>bid_size</th>\n",
       "      <th>ask_price</th>\n",
       "      <th>ask_size</th>\n",
       "      <th>wap</th>\n",
       "      <th>target</th>\n",
       "      <th>time_id</th>\n",
       "      <th>row_id</th>\n",
       "    </tr>\n",
       "  </thead>\n",
       "  <tbody>\n",
       "    <tr>\n",
       "      <th>0</th>\n",
       "      <td>0</td>\n",
       "      <td>0</td>\n",
       "      <td>0</td>\n",
       "      <td>3180603.69</td>\n",
       "      <td>1</td>\n",
       "      <td>0.999812</td>\n",
       "      <td>13380276.64</td>\n",
       "      <td>NaN</td>\n",
       "      <td>NaN</td>\n",
       "      <td>0.999812</td>\n",
       "      <td>60651.50</td>\n",
       "      <td>1.000026</td>\n",
       "      <td>8493.03</td>\n",
       "      <td>1.000000</td>\n",
       "      <td>-3.029704</td>\n",
       "      <td>0</td>\n",
       "      <td>0_0_0</td>\n",
       "    </tr>\n",
       "    <tr>\n",
       "      <th>1</th>\n",
       "      <td>1</td>\n",
       "      <td>0</td>\n",
       "      <td>0</td>\n",
       "      <td>166604.91</td>\n",
       "      <td>-1</td>\n",
       "      <td>0.999896</td>\n",
       "      <td>1642214.25</td>\n",
       "      <td>NaN</td>\n",
       "      <td>NaN</td>\n",
       "      <td>0.999896</td>\n",
       "      <td>3233.04</td>\n",
       "      <td>1.000660</td>\n",
       "      <td>20605.09</td>\n",
       "      <td>1.000000</td>\n",
       "      <td>-5.519986</td>\n",
       "      <td>0</td>\n",
       "      <td>0_0_1</td>\n",
       "    </tr>\n",
       "    <tr>\n",
       "      <th>2</th>\n",
       "      <td>2</td>\n",
       "      <td>0</td>\n",
       "      <td>0</td>\n",
       "      <td>302880.87</td>\n",
       "      <td>-1</td>\n",
       "      <td>0.999561</td>\n",
       "      <td>1819368.03</td>\n",
       "      <td>NaN</td>\n",
       "      <td>NaN</td>\n",
       "      <td>0.999403</td>\n",
       "      <td>37956.00</td>\n",
       "      <td>1.000298</td>\n",
       "      <td>18995.00</td>\n",
       "      <td>1.000000</td>\n",
       "      <td>-8.389950</td>\n",
       "      <td>0</td>\n",
       "      <td>0_0_2</td>\n",
       "    </tr>\n",
       "    <tr>\n",
       "      <th>3</th>\n",
       "      <td>3</td>\n",
       "      <td>0</td>\n",
       "      <td>0</td>\n",
       "      <td>11917683.27</td>\n",
       "      <td>-1</td>\n",
       "      <td>1.000171</td>\n",
       "      <td>18389745.62</td>\n",
       "      <td>NaN</td>\n",
       "      <td>NaN</td>\n",
       "      <td>0.999999</td>\n",
       "      <td>2324.90</td>\n",
       "      <td>1.000214</td>\n",
       "      <td>479032.40</td>\n",
       "      <td>1.000000</td>\n",
       "      <td>-4.010200</td>\n",
       "      <td>0</td>\n",
       "      <td>0_0_3</td>\n",
       "    </tr>\n",
       "    <tr>\n",
       "      <th>4</th>\n",
       "      <td>4</td>\n",
       "      <td>0</td>\n",
       "      <td>0</td>\n",
       "      <td>447550.96</td>\n",
       "      <td>-1</td>\n",
       "      <td>0.999532</td>\n",
       "      <td>17860614.95</td>\n",
       "      <td>NaN</td>\n",
       "      <td>NaN</td>\n",
       "      <td>0.999394</td>\n",
       "      <td>16485.54</td>\n",
       "      <td>1.000016</td>\n",
       "      <td>434.10</td>\n",
       "      <td>1.000000</td>\n",
       "      <td>-7.349849</td>\n",
       "      <td>0</td>\n",
       "      <td>0_0_4</td>\n",
       "    </tr>\n",
       "    <tr>\n",
       "      <th>...</th>\n",
       "      <td>...</td>\n",
       "      <td>...</td>\n",
       "      <td>...</td>\n",
       "      <td>...</td>\n",
       "      <td>...</td>\n",
       "      <td>...</td>\n",
       "      <td>...</td>\n",
       "      <td>...</td>\n",
       "      <td>...</td>\n",
       "      <td>...</td>\n",
       "      <td>...</td>\n",
       "      <td>...</td>\n",
       "      <td>...</td>\n",
       "      <td>...</td>\n",
       "      <td>...</td>\n",
       "      <td>...</td>\n",
       "      <td>...</td>\n",
       "    </tr>\n",
       "    <tr>\n",
       "      <th>5237975</th>\n",
       "      <td>195</td>\n",
       "      <td>480</td>\n",
       "      <td>540</td>\n",
       "      <td>2440723.89</td>\n",
       "      <td>-1</td>\n",
       "      <td>1.000317</td>\n",
       "      <td>28280361.74</td>\n",
       "      <td>0.999734</td>\n",
       "      <td>0.999734</td>\n",
       "      <td>1.000317</td>\n",
       "      <td>32257.04</td>\n",
       "      <td>1.000434</td>\n",
       "      <td>319862.40</td>\n",
       "      <td>1.000328</td>\n",
       "      <td>2.310276</td>\n",
       "      <td>26454</td>\n",
       "      <td>480_540_195</td>\n",
       "    </tr>\n",
       "    <tr>\n",
       "      <th>5237976</th>\n",
       "      <td>196</td>\n",
       "      <td>480</td>\n",
       "      <td>540</td>\n",
       "      <td>349511.47</td>\n",
       "      <td>-1</td>\n",
       "      <td>1.000643</td>\n",
       "      <td>9187699.11</td>\n",
       "      <td>1.000129</td>\n",
       "      <td>1.000386</td>\n",
       "      <td>1.000643</td>\n",
       "      <td>205108.40</td>\n",
       "      <td>1.000900</td>\n",
       "      <td>93393.07</td>\n",
       "      <td>1.000819</td>\n",
       "      <td>-8.220077</td>\n",
       "      <td>26454</td>\n",
       "      <td>480_540_196</td>\n",
       "    </tr>\n",
       "    <tr>\n",
       "      <th>5237977</th>\n",
       "      <td>197</td>\n",
       "      <td>480</td>\n",
       "      <td>540</td>\n",
       "      <td>1.00</td>\n",
       "      <td>0</td>\n",
       "      <td>0.995789</td>\n",
       "      <td>12725436.10</td>\n",
       "      <td>0.995789</td>\n",
       "      <td>0.995789</td>\n",
       "      <td>0.995789</td>\n",
       "      <td>16790.66</td>\n",
       "      <td>0.995883</td>\n",
       "      <td>180038.32</td>\n",
       "      <td>0.995797</td>\n",
       "      <td>1.169443</td>\n",
       "      <td>26454</td>\n",
       "      <td>480_540_197</td>\n",
       "    </tr>\n",
       "    <tr>\n",
       "      <th>5237978</th>\n",
       "      <td>198</td>\n",
       "      <td>480</td>\n",
       "      <td>540</td>\n",
       "      <td>1000899.84</td>\n",
       "      <td>1</td>\n",
       "      <td>0.999210</td>\n",
       "      <td>94773271.05</td>\n",
       "      <td>0.999210</td>\n",
       "      <td>0.999210</td>\n",
       "      <td>0.998970</td>\n",
       "      <td>125631.72</td>\n",
       "      <td>0.999210</td>\n",
       "      <td>669893.00</td>\n",
       "      <td>0.999008</td>\n",
       "      <td>-1.540184</td>\n",
       "      <td>26454</td>\n",
       "      <td>480_540_198</td>\n",
       "    </tr>\n",
       "    <tr>\n",
       "      <th>5237979</th>\n",
       "      <td>199</td>\n",
       "      <td>480</td>\n",
       "      <td>540</td>\n",
       "      <td>1884286.71</td>\n",
       "      <td>-1</td>\n",
       "      <td>1.002129</td>\n",
       "      <td>24073677.32</td>\n",
       "      <td>1.000859</td>\n",
       "      <td>1.001494</td>\n",
       "      <td>1.002129</td>\n",
       "      <td>250081.44</td>\n",
       "      <td>1.002447</td>\n",
       "      <td>300167.56</td>\n",
       "      <td>1.002274</td>\n",
       "      <td>-6.530285</td>\n",
       "      <td>26454</td>\n",
       "      <td>480_540_199</td>\n",
       "    </tr>\n",
       "  </tbody>\n",
       "</table>\n",
       "<p>5237760 rows × 17 columns</p>\n",
       "</div>"
      ],
      "text/plain": [
       "         stock_id  date_id  seconds_in_bucket  imbalance_size  \\\n",
       "0               0        0                  0      3180603.69   \n",
       "1               1        0                  0       166604.91   \n",
       "2               2        0                  0       302880.87   \n",
       "3               3        0                  0     11917683.27   \n",
       "4               4        0                  0       447550.96   \n",
       "...           ...      ...                ...             ...   \n",
       "5237975       195      480                540      2440723.89   \n",
       "5237976       196      480                540       349511.47   \n",
       "5237977       197      480                540            1.00   \n",
       "5237978       198      480                540      1000899.84   \n",
       "5237979       199      480                540      1884286.71   \n",
       "\n",
       "         imbalance_buy_sell_flag  reference_price  matched_size  far_price  \\\n",
       "0                              1         0.999812   13380276.64        NaN   \n",
       "1                             -1         0.999896    1642214.25        NaN   \n",
       "2                             -1         0.999561    1819368.03        NaN   \n",
       "3                             -1         1.000171   18389745.62        NaN   \n",
       "4                             -1         0.999532   17860614.95        NaN   \n",
       "...                          ...              ...           ...        ...   \n",
       "5237975                       -1         1.000317   28280361.74   0.999734   \n",
       "5237976                       -1         1.000643    9187699.11   1.000129   \n",
       "5237977                        0         0.995789   12725436.10   0.995789   \n",
       "5237978                        1         0.999210   94773271.05   0.999210   \n",
       "5237979                       -1         1.002129   24073677.32   1.000859   \n",
       "\n",
       "         near_price  bid_price   bid_size  ask_price   ask_size       wap  \\\n",
       "0               NaN   0.999812   60651.50   1.000026    8493.03  1.000000   \n",
       "1               NaN   0.999896    3233.04   1.000660   20605.09  1.000000   \n",
       "2               NaN   0.999403   37956.00   1.000298   18995.00  1.000000   \n",
       "3               NaN   0.999999    2324.90   1.000214  479032.40  1.000000   \n",
       "4               NaN   0.999394   16485.54   1.000016     434.10  1.000000   \n",
       "...             ...        ...        ...        ...        ...       ...   \n",
       "5237975    0.999734   1.000317   32257.04   1.000434  319862.40  1.000328   \n",
       "5237976    1.000386   1.000643  205108.40   1.000900   93393.07  1.000819   \n",
       "5237977    0.995789   0.995789   16790.66   0.995883  180038.32  0.995797   \n",
       "5237978    0.999210   0.998970  125631.72   0.999210  669893.00  0.999008   \n",
       "5237979    1.001494   1.002129  250081.44   1.002447  300167.56  1.002274   \n",
       "\n",
       "           target  time_id       row_id  \n",
       "0       -3.029704        0        0_0_0  \n",
       "1       -5.519986        0        0_0_1  \n",
       "2       -8.389950        0        0_0_2  \n",
       "3       -4.010200        0        0_0_3  \n",
       "4       -7.349849        0        0_0_4  \n",
       "...           ...      ...          ...  \n",
       "5237975  2.310276    26454  480_540_195  \n",
       "5237976 -8.220077    26454  480_540_196  \n",
       "5237977  1.169443    26454  480_540_197  \n",
       "5237978 -1.540184    26454  480_540_198  \n",
       "5237979 -6.530285    26454  480_540_199  \n",
       "\n",
       "[5237760 rows x 17 columns]"
      ]
     },
     "execution_count": 135,
     "metadata": {},
     "output_type": "execute_result"
    }
   ],
   "source": [
    "df"
   ]
  },
  {
   "cell_type": "markdown",
   "metadata": {},
   "source": [
    "## Training"
   ]
  },
  {
   "cell_type": "code",
   "execution_count": 35,
   "metadata": {},
   "outputs": [],
   "source": [
    "import numpy as np\n",
    "import matplotlib.pyplot as plt\n",
    "from sklearn.cluster import KMeans\n",
    "from sklearn.datasets import make_blobs"
   ]
  },
  {
   "cell_type": "code",
   "execution_count": 36,
   "metadata": {},
   "outputs": [
    {
     "data": {
      "text/html": [
       "<div>\n",
       "<style scoped>\n",
       "    .dataframe tbody tr th:only-of-type {\n",
       "        vertical-align: middle;\n",
       "    }\n",
       "\n",
       "    .dataframe tbody tr th {\n",
       "        vertical-align: top;\n",
       "    }\n",
       "\n",
       "    .dataframe thead th {\n",
       "        text-align: right;\n",
       "    }\n",
       "</style>\n",
       "<table border=\"1\" class=\"dataframe\">\n",
       "  <thead>\n",
       "    <tr style=\"text-align: right;\">\n",
       "      <th></th>\n",
       "      <th>stock_id</th>\n",
       "      <th>date_id</th>\n",
       "      <th>seconds_in_bucket</th>\n",
       "      <th>imbalance_size</th>\n",
       "      <th>imbalance_buy_sell_flag</th>\n",
       "      <th>reference_price</th>\n",
       "      <th>matched_size</th>\n",
       "      <th>far_price</th>\n",
       "      <th>near_price</th>\n",
       "      <th>bid_price</th>\n",
       "      <th>bid_size</th>\n",
       "      <th>ask_price</th>\n",
       "      <th>ask_size</th>\n",
       "      <th>wap</th>\n",
       "      <th>target</th>\n",
       "      <th>time_id</th>\n",
       "      <th>row_id</th>\n",
       "    </tr>\n",
       "  </thead>\n",
       "  <tbody>\n",
       "    <tr>\n",
       "      <th>0</th>\n",
       "      <td>0</td>\n",
       "      <td>0</td>\n",
       "      <td>0</td>\n",
       "      <td>3180602.69</td>\n",
       "      <td>1</td>\n",
       "      <td>0.999812</td>\n",
       "      <td>13380276.64</td>\n",
       "      <td>NaN</td>\n",
       "      <td>NaN</td>\n",
       "      <td>0.999812</td>\n",
       "      <td>60651.50</td>\n",
       "      <td>1.000026</td>\n",
       "      <td>8493.03</td>\n",
       "      <td>1.000000</td>\n",
       "      <td>-3.029704</td>\n",
       "      <td>0</td>\n",
       "      <td>0_0_0</td>\n",
       "    </tr>\n",
       "    <tr>\n",
       "      <th>1</th>\n",
       "      <td>1</td>\n",
       "      <td>0</td>\n",
       "      <td>0</td>\n",
       "      <td>166603.91</td>\n",
       "      <td>-1</td>\n",
       "      <td>0.999896</td>\n",
       "      <td>1642214.25</td>\n",
       "      <td>NaN</td>\n",
       "      <td>NaN</td>\n",
       "      <td>0.999896</td>\n",
       "      <td>3233.04</td>\n",
       "      <td>1.000660</td>\n",
       "      <td>20605.09</td>\n",
       "      <td>1.000000</td>\n",
       "      <td>-5.519986</td>\n",
       "      <td>0</td>\n",
       "      <td>0_0_1</td>\n",
       "    </tr>\n",
       "    <tr>\n",
       "      <th>2</th>\n",
       "      <td>2</td>\n",
       "      <td>0</td>\n",
       "      <td>0</td>\n",
       "      <td>302879.87</td>\n",
       "      <td>-1</td>\n",
       "      <td>0.999561</td>\n",
       "      <td>1819368.03</td>\n",
       "      <td>NaN</td>\n",
       "      <td>NaN</td>\n",
       "      <td>0.999403</td>\n",
       "      <td>37956.00</td>\n",
       "      <td>1.000298</td>\n",
       "      <td>18995.00</td>\n",
       "      <td>1.000000</td>\n",
       "      <td>-8.389950</td>\n",
       "      <td>0</td>\n",
       "      <td>0_0_2</td>\n",
       "    </tr>\n",
       "    <tr>\n",
       "      <th>3</th>\n",
       "      <td>3</td>\n",
       "      <td>0</td>\n",
       "      <td>0</td>\n",
       "      <td>11917682.27</td>\n",
       "      <td>-1</td>\n",
       "      <td>1.000171</td>\n",
       "      <td>18389745.62</td>\n",
       "      <td>NaN</td>\n",
       "      <td>NaN</td>\n",
       "      <td>0.999999</td>\n",
       "      <td>2324.90</td>\n",
       "      <td>1.000214</td>\n",
       "      <td>479032.40</td>\n",
       "      <td>1.000000</td>\n",
       "      <td>-4.010200</td>\n",
       "      <td>0</td>\n",
       "      <td>0_0_3</td>\n",
       "    </tr>\n",
       "    <tr>\n",
       "      <th>4</th>\n",
       "      <td>4</td>\n",
       "      <td>0</td>\n",
       "      <td>0</td>\n",
       "      <td>447549.96</td>\n",
       "      <td>-1</td>\n",
       "      <td>0.999532</td>\n",
       "      <td>17860614.95</td>\n",
       "      <td>NaN</td>\n",
       "      <td>NaN</td>\n",
       "      <td>0.999394</td>\n",
       "      <td>16485.54</td>\n",
       "      <td>1.000016</td>\n",
       "      <td>434.10</td>\n",
       "      <td>1.000000</td>\n",
       "      <td>-7.349849</td>\n",
       "      <td>0</td>\n",
       "      <td>0_0_4</td>\n",
       "    </tr>\n",
       "    <tr>\n",
       "      <th>...</th>\n",
       "      <td>...</td>\n",
       "      <td>...</td>\n",
       "      <td>...</td>\n",
       "      <td>...</td>\n",
       "      <td>...</td>\n",
       "      <td>...</td>\n",
       "      <td>...</td>\n",
       "      <td>...</td>\n",
       "      <td>...</td>\n",
       "      <td>...</td>\n",
       "      <td>...</td>\n",
       "      <td>...</td>\n",
       "      <td>...</td>\n",
       "      <td>...</td>\n",
       "      <td>...</td>\n",
       "      <td>...</td>\n",
       "      <td>...</td>\n",
       "    </tr>\n",
       "    <tr>\n",
       "      <th>5237975</th>\n",
       "      <td>195</td>\n",
       "      <td>480</td>\n",
       "      <td>540</td>\n",
       "      <td>2440722.89</td>\n",
       "      <td>-1</td>\n",
       "      <td>1.000317</td>\n",
       "      <td>28280361.74</td>\n",
       "      <td>0.999734</td>\n",
       "      <td>0.999734</td>\n",
       "      <td>1.000317</td>\n",
       "      <td>32257.04</td>\n",
       "      <td>1.000434</td>\n",
       "      <td>319862.40</td>\n",
       "      <td>1.000328</td>\n",
       "      <td>2.310276</td>\n",
       "      <td>26454</td>\n",
       "      <td>480_540_195</td>\n",
       "    </tr>\n",
       "    <tr>\n",
       "      <th>5237976</th>\n",
       "      <td>196</td>\n",
       "      <td>480</td>\n",
       "      <td>540</td>\n",
       "      <td>349510.47</td>\n",
       "      <td>-1</td>\n",
       "      <td>1.000643</td>\n",
       "      <td>9187699.11</td>\n",
       "      <td>1.000129</td>\n",
       "      <td>1.000386</td>\n",
       "      <td>1.000643</td>\n",
       "      <td>205108.40</td>\n",
       "      <td>1.000900</td>\n",
       "      <td>93393.07</td>\n",
       "      <td>1.000819</td>\n",
       "      <td>-8.220077</td>\n",
       "      <td>26454</td>\n",
       "      <td>480_540_196</td>\n",
       "    </tr>\n",
       "    <tr>\n",
       "      <th>5237977</th>\n",
       "      <td>197</td>\n",
       "      <td>480</td>\n",
       "      <td>540</td>\n",
       "      <td>0.00</td>\n",
       "      <td>0</td>\n",
       "      <td>0.995789</td>\n",
       "      <td>12725436.10</td>\n",
       "      <td>0.995789</td>\n",
       "      <td>0.995789</td>\n",
       "      <td>0.995789</td>\n",
       "      <td>16790.66</td>\n",
       "      <td>0.995883</td>\n",
       "      <td>180038.32</td>\n",
       "      <td>0.995797</td>\n",
       "      <td>1.169443</td>\n",
       "      <td>26454</td>\n",
       "      <td>480_540_197</td>\n",
       "    </tr>\n",
       "    <tr>\n",
       "      <th>5237978</th>\n",
       "      <td>198</td>\n",
       "      <td>480</td>\n",
       "      <td>540</td>\n",
       "      <td>1000898.84</td>\n",
       "      <td>1</td>\n",
       "      <td>0.999210</td>\n",
       "      <td>94773271.05</td>\n",
       "      <td>0.999210</td>\n",
       "      <td>0.999210</td>\n",
       "      <td>0.998970</td>\n",
       "      <td>125631.72</td>\n",
       "      <td>0.999210</td>\n",
       "      <td>669893.00</td>\n",
       "      <td>0.999008</td>\n",
       "      <td>-1.540184</td>\n",
       "      <td>26454</td>\n",
       "      <td>480_540_198</td>\n",
       "    </tr>\n",
       "    <tr>\n",
       "      <th>5237979</th>\n",
       "      <td>199</td>\n",
       "      <td>480</td>\n",
       "      <td>540</td>\n",
       "      <td>1884285.71</td>\n",
       "      <td>-1</td>\n",
       "      <td>1.002129</td>\n",
       "      <td>24073677.32</td>\n",
       "      <td>1.000859</td>\n",
       "      <td>1.001494</td>\n",
       "      <td>1.002129</td>\n",
       "      <td>250081.44</td>\n",
       "      <td>1.002447</td>\n",
       "      <td>300167.56</td>\n",
       "      <td>1.002274</td>\n",
       "      <td>-6.530285</td>\n",
       "      <td>26454</td>\n",
       "      <td>480_540_199</td>\n",
       "    </tr>\n",
       "  </tbody>\n",
       "</table>\n",
       "<p>5237760 rows × 17 columns</p>\n",
       "</div>"
      ],
      "text/plain": [
       "         stock_id  date_id  seconds_in_bucket  imbalance_size  \\\n",
       "0               0        0                  0      3180602.69   \n",
       "1               1        0                  0       166603.91   \n",
       "2               2        0                  0       302879.87   \n",
       "3               3        0                  0     11917682.27   \n",
       "4               4        0                  0       447549.96   \n",
       "...           ...      ...                ...             ...   \n",
       "5237975       195      480                540      2440722.89   \n",
       "5237976       196      480                540       349510.47   \n",
       "5237977       197      480                540            0.00   \n",
       "5237978       198      480                540      1000898.84   \n",
       "5237979       199      480                540      1884285.71   \n",
       "\n",
       "         imbalance_buy_sell_flag  reference_price  matched_size  far_price  \\\n",
       "0                              1         0.999812   13380276.64        NaN   \n",
       "1                             -1         0.999896    1642214.25        NaN   \n",
       "2                             -1         0.999561    1819368.03        NaN   \n",
       "3                             -1         1.000171   18389745.62        NaN   \n",
       "4                             -1         0.999532   17860614.95        NaN   \n",
       "...                          ...              ...           ...        ...   \n",
       "5237975                       -1         1.000317   28280361.74   0.999734   \n",
       "5237976                       -1         1.000643    9187699.11   1.000129   \n",
       "5237977                        0         0.995789   12725436.10   0.995789   \n",
       "5237978                        1         0.999210   94773271.05   0.999210   \n",
       "5237979                       -1         1.002129   24073677.32   1.000859   \n",
       "\n",
       "         near_price  bid_price   bid_size  ask_price   ask_size       wap  \\\n",
       "0               NaN   0.999812   60651.50   1.000026    8493.03  1.000000   \n",
       "1               NaN   0.999896    3233.04   1.000660   20605.09  1.000000   \n",
       "2               NaN   0.999403   37956.00   1.000298   18995.00  1.000000   \n",
       "3               NaN   0.999999    2324.90   1.000214  479032.40  1.000000   \n",
       "4               NaN   0.999394   16485.54   1.000016     434.10  1.000000   \n",
       "...             ...        ...        ...        ...        ...       ...   \n",
       "5237975    0.999734   1.000317   32257.04   1.000434  319862.40  1.000328   \n",
       "5237976    1.000386   1.000643  205108.40   1.000900   93393.07  1.000819   \n",
       "5237977    0.995789   0.995789   16790.66   0.995883  180038.32  0.995797   \n",
       "5237978    0.999210   0.998970  125631.72   0.999210  669893.00  0.999008   \n",
       "5237979    1.001494   1.002129  250081.44   1.002447  300167.56  1.002274   \n",
       "\n",
       "           target  time_id       row_id  \n",
       "0       -3.029704        0        0_0_0  \n",
       "1       -5.519986        0        0_0_1  \n",
       "2       -8.389950        0        0_0_2  \n",
       "3       -4.010200        0        0_0_3  \n",
       "4       -7.349849        0        0_0_4  \n",
       "...           ...      ...          ...  \n",
       "5237975  2.310276    26454  480_540_195  \n",
       "5237976 -8.220077    26454  480_540_196  \n",
       "5237977  1.169443    26454  480_540_197  \n",
       "5237978 -1.540184    26454  480_540_198  \n",
       "5237979 -6.530285    26454  480_540_199  \n",
       "\n",
       "[5237760 rows x 17 columns]"
      ]
     },
     "execution_count": 36,
     "metadata": {},
     "output_type": "execute_result"
    }
   ],
   "source": [
    "df"
   ]
  },
  {
   "cell_type": "code",
   "execution_count": 37,
   "metadata": {},
   "outputs": [],
   "source": [
    "# def trainX(df0):\n",
    "    \n",
    "#     y = df0['target']\n",
    "#     df1 = df0[y.isna() == 0]\n",
    "#     y = y[y.isna() == 0]\n",
    "#     X = df1[['imbalance_size', 'imbalance_buy_sell_flag', 'reference_price', 'matched_size', 'far_price', 'near_price', 'bid_price', 'bid_size', 'ask_price', 'ask_size']]\n",
    "#     seconds_in_bucket = list(df1['seconds_in_bucket'].unique())\n",
    "    \n",
    "#     StockBind_all2 = [None] * len(seconds_in_bucket)\n",
    "#     i = 0\n",
    "#     for sec in seconds_in_bucket: \n",
    "#         #print('seconds_in_bucket: ', sec)\n",
    "#         df2 = df1[df1['seconds_in_bucket'] == sec]\n",
    "#         group_target = df2.pivot_table(index='date_id', columns='stock_id', values='target', aggfunc='sum')\n",
    "#         newdf = pd.DataFrame(np.repeat(group_target.values, len(group_target.columns), axis=0))\n",
    "\n",
    "#         for x in range(len(group_target.columns)):\n",
    "#             x_series = list(range(x, 480 * 200 + 1 + x, 200))\n",
    "#             newdf.loc[x_series, x] = np.NaN\n",
    "\n",
    "#         # Rename the columns\n",
    "#         new_column_names = [f'stockid_{i}' for i in range(200)]\n",
    "#         newdf.columns = new_column_names\n",
    "#         #delete row which doesn't exist\n",
    "#         indexID = ~group_target.isna().transpose()\n",
    "#         melted_indexID_df = pd.melt(indexID, value_vars=indexID.columns).rename(columns={'value': 'Ind'})\n",
    "\n",
    "#         #combine data\n",
    "#         StockBind = newdf[melted_indexID_df['Ind']]\n",
    "#         StockBind_all2[i] = StockBind\n",
    "#         i += 1\n",
    "#         #print(StockBind.shape)\n",
    "#     StockBind_all0 = pd.concat(StockBind_all2, axis=0, ignore_index=True)\n",
    "#     # Reset the index for both DataFrames\n",
    "#     X.reset_index(drop=True, inplace=True)\n",
    "#     StockBind_all0.reset_index(drop=True, inplace=True)\n",
    "\n",
    "#     XX = pd.concat([X, StockBind_all0], axis=1)\n",
    "#     XX.head()\n",
    "\n",
    "#     #split data\n",
    "#     y_train0 = y\n",
    "#     df1.reset_index(drop=True, inplace=True)\n",
    "#     X_train0 = XX\n",
    "\n",
    "    \n",
    "#     return X_train0, y_train0"
   ]
  },
  {
   "cell_type": "code",
   "execution_count": 38,
   "metadata": {},
   "outputs": [],
   "source": [
    "# dt = trainX(df)"
   ]
  },
  {
   "cell_type": "code",
   "execution_count": 39,
   "metadata": {},
   "outputs": [],
   "source": [
    "# stock_id = sorted(df[\"stock_id\"].unique())\n",
    "# data = pd.DataFrame(columns=range(26455), index = range(200))\n",
    "# data"
   ]
  },
  {
   "cell_type": "code",
   "execution_count": 40,
   "metadata": {},
   "outputs": [],
   "source": [
    "# for date in sorted(df[\"date_id\"].unique())[:1]:\n",
    "#     for seconds in sorted(df[\"seconds_in_bucket\"].unique())[:1]:\n",
    "#         x = df[(df[\"date_id\"]==date)&(df[\"seconds_in_bucket\"]==seconds)]\n",
    "        \n",
    "#         data[\"target\"] = list(x[\"target\"])\n",
    "# data"
   ]
  },
  {
   "cell_type": "code",
   "execution_count": 41,
   "metadata": {},
   "outputs": [],
   "source": [
    "# col = dt[0].columns[10:210]\n",
    "# stock_dt = dt[0][col]\n",
    "df[\"target_time\"] = np.nan\n",
    "# for i in tqdm(df.index):\n",
    "#     time = df.loc[i, [\"date_id\", \"seconds_in_bucket\"]]\n",
    "#     df.loc[i, \"target_time\"] = str(time.iloc[0])+\"_\"+str(time.iloc[1])"
   ]
  },
  {
   "cell_type": "code",
   "execution_count": 42,
   "metadata": {},
   "outputs": [
    {
     "name": "stderr",
     "output_type": "stream",
     "text": [
      "  0%|          | 0/55 [00:00<?, ?it/s]"
     ]
    },
    {
     "name": "stderr",
     "output_type": "stream",
     "text": [
      "/var/folders/cr/hrrcsjsn65z27n63t_8vbtz40000gn/T/ipykernel_30507/1335719958.py:6: FutureWarning:\n",
      "\n",
      "Setting an item of incompatible dtype is deprecated and will raise in a future error of pandas. Value '['0_0' '0_0' '0_0' ... '480_0' '480_0' '480_0']' has dtype incompatible with float64, please explicitly cast to a compatible dtype first.\n",
      "\n",
      "100%|██████████| 55/55 [00:01<00:00, 29.41it/s]\n"
     ]
    }
   ],
   "source": [
    "df[\"target_time\"] = np.nan\n",
    "for sec in tqdm(sorted(df[\"seconds_in_bucket\"].unique())):\n",
    "    X = df[df[\"seconds_in_bucket\"]==sec]\n",
    "    index_X = X.index\n",
    "    str_series = X[\"date_id\"].apply(lambda x: str(x)+\"_\"+str(sec))\n",
    "    df.loc[index_X, \"target_time\"] = str_series"
   ]
  },
  {
   "cell_type": "code",
   "execution_count": null,
   "metadata": {},
   "outputs": [],
   "source": []
  },
  {
   "cell_type": "code",
   "execution_count": 43,
   "metadata": {},
   "outputs": [
    {
     "data": {
      "text/plain": [
       "Index(['wap_0_0', 'wap_0_10', 'wap_0_100', 'wap_0_110', 'wap_0_120',\n",
       "       'wap_0_130', 'wap_0_140', 'wap_0_150', 'wap_0_160', 'wap_0_170',\n",
       "       ...\n",
       "       'wap_9_50', 'wap_9_500', 'wap_9_510', 'wap_9_520', 'wap_9_530',\n",
       "       'wap_9_540', 'wap_9_60', 'wap_9_70', 'wap_9_80', 'wap_9_90'],\n",
       "      dtype='object', length=26455)"
      ]
     },
     "execution_count": 43,
     "metadata": {},
     "output_type": "execute_result"
    }
   ],
   "source": [
    "data = df.pivot_table(index='stock_id', columns='target_time', values='target')\n",
    "data.columns = [\"target_\"+col for col in data.columns]\n",
    "data.columns\n",
    "data_2 = df.pivot_table(index='stock_id', columns='target_time', values='wap')\n",
    "data_2.columns = [\"wap_\"+col for col in data_2.columns]\n",
    "data_2.columns"
   ]
  },
  {
   "cell_type": "code",
   "execution_count": 44,
   "metadata": {},
   "outputs": [],
   "source": [
    "merged_df = pd.merge(data, data_2, on=\"stock_id\", how='inner')"
   ]
  },
  {
   "cell_type": "code",
   "execution_count": 45,
   "metadata": {},
   "outputs": [
    {
     "data": {
      "text/html": [
       "<div>\n",
       "<style scoped>\n",
       "    .dataframe tbody tr th:only-of-type {\n",
       "        vertical-align: middle;\n",
       "    }\n",
       "\n",
       "    .dataframe tbody tr th {\n",
       "        vertical-align: top;\n",
       "    }\n",
       "\n",
       "    .dataframe thead th {\n",
       "        text-align: right;\n",
       "    }\n",
       "</style>\n",
       "<table border=\"1\" class=\"dataframe\">\n",
       "  <thead>\n",
       "    <tr style=\"text-align: right;\">\n",
       "      <th></th>\n",
       "      <th>target_0_0</th>\n",
       "      <th>target_0_10</th>\n",
       "      <th>target_0_100</th>\n",
       "      <th>target_0_110</th>\n",
       "      <th>target_0_120</th>\n",
       "      <th>target_0_130</th>\n",
       "      <th>target_0_140</th>\n",
       "      <th>target_0_150</th>\n",
       "      <th>target_0_160</th>\n",
       "      <th>target_0_170</th>\n",
       "      <th>...</th>\n",
       "      <th>wap_9_50</th>\n",
       "      <th>wap_9_500</th>\n",
       "      <th>wap_9_510</th>\n",
       "      <th>wap_9_520</th>\n",
       "      <th>wap_9_530</th>\n",
       "      <th>wap_9_540</th>\n",
       "      <th>wap_9_60</th>\n",
       "      <th>wap_9_70</th>\n",
       "      <th>wap_9_80</th>\n",
       "      <th>wap_9_90</th>\n",
       "    </tr>\n",
       "    <tr>\n",
       "      <th>stock_id</th>\n",
       "      <th></th>\n",
       "      <th></th>\n",
       "      <th></th>\n",
       "      <th></th>\n",
       "      <th></th>\n",
       "      <th></th>\n",
       "      <th></th>\n",
       "      <th></th>\n",
       "      <th></th>\n",
       "      <th></th>\n",
       "      <th></th>\n",
       "      <th></th>\n",
       "      <th></th>\n",
       "      <th></th>\n",
       "      <th></th>\n",
       "      <th></th>\n",
       "      <th></th>\n",
       "      <th></th>\n",
       "      <th></th>\n",
       "      <th></th>\n",
       "      <th></th>\n",
       "    </tr>\n",
       "  </thead>\n",
       "  <tbody>\n",
       "    <tr>\n",
       "      <th>0</th>\n",
       "      <td>-3.029704</td>\n",
       "      <td>0.389814</td>\n",
       "      <td>-2.049804</td>\n",
       "      <td>0.020266</td>\n",
       "      <td>2.290011</td>\n",
       "      <td>1.000166</td>\n",
       "      <td>-1.699925</td>\n",
       "      <td>-1.680255</td>\n",
       "      <td>-4.119873</td>\n",
       "      <td>-4.490018</td>\n",
       "      <td>...</td>\n",
       "      <td>0.999611</td>\n",
       "      <td>0.998854</td>\n",
       "      <td>0.998917</td>\n",
       "      <td>0.998920</td>\n",
       "      <td>0.998907</td>\n",
       "      <td>0.998992</td>\n",
       "      <td>0.999533</td>\n",
       "      <td>0.999325</td>\n",
       "      <td>0.999143</td>\n",
       "      <td>0.999153</td>\n",
       "    </tr>\n",
       "    <tr>\n",
       "      <th>1</th>\n",
       "      <td>-5.519986</td>\n",
       "      <td>-1.620054</td>\n",
       "      <td>-5.980134</td>\n",
       "      <td>-10.449886</td>\n",
       "      <td>-6.549954</td>\n",
       "      <td>5.120039</td>\n",
       "      <td>10.709763</td>\n",
       "      <td>8.100271</td>\n",
       "      <td>18.160343</td>\n",
       "      <td>25.310516</td>\n",
       "      <td>...</td>\n",
       "      <td>0.999131</td>\n",
       "      <td>0.997309</td>\n",
       "      <td>0.997388</td>\n",
       "      <td>0.998329</td>\n",
       "      <td>0.997993</td>\n",
       "      <td>0.998178</td>\n",
       "      <td>0.999131</td>\n",
       "      <td>0.999548</td>\n",
       "      <td>0.999441</td>\n",
       "      <td>0.999453</td>\n",
       "    </tr>\n",
       "    <tr>\n",
       "      <th>2</th>\n",
       "      <td>-8.389950</td>\n",
       "      <td>-7.460117</td>\n",
       "      <td>11.340380</td>\n",
       "      <td>20.220280</td>\n",
       "      <td>2.950430</td>\n",
       "      <td>-3.179908</td>\n",
       "      <td>-0.969768</td>\n",
       "      <td>-4.159808</td>\n",
       "      <td>-4.510283</td>\n",
       "      <td>-11.249781</td>\n",
       "      <td>...</td>\n",
       "      <td>1.000100</td>\n",
       "      <td>1.000921</td>\n",
       "      <td>1.001355</td>\n",
       "      <td>1.001506</td>\n",
       "      <td>1.001285</td>\n",
       "      <td>1.000637</td>\n",
       "      <td>1.000100</td>\n",
       "      <td>1.000074</td>\n",
       "      <td>0.998695</td>\n",
       "      <td>1.000184</td>\n",
       "    </tr>\n",
       "    <tr>\n",
       "      <th>3</th>\n",
       "      <td>-4.010200</td>\n",
       "      <td>-1.040101</td>\n",
       "      <td>-1.450181</td>\n",
       "      <td>-1.080036</td>\n",
       "      <td>1.000166</td>\n",
       "      <td>-2.049804</td>\n",
       "      <td>0.189543</td>\n",
       "      <td>3.550053</td>\n",
       "      <td>0.040531</td>\n",
       "      <td>-0.090003</td>\n",
       "      <td>...</td>\n",
       "      <td>0.999651</td>\n",
       "      <td>0.998406</td>\n",
       "      <td>0.998431</td>\n",
       "      <td>0.998450</td>\n",
       "      <td>0.998428</td>\n",
       "      <td>0.998586</td>\n",
       "      <td>0.999591</td>\n",
       "      <td>0.999414</td>\n",
       "      <td>0.999328</td>\n",
       "      <td>0.999240</td>\n",
       "    </tr>\n",
       "    <tr>\n",
       "      <th>4</th>\n",
       "      <td>-7.349849</td>\n",
       "      <td>-6.719828</td>\n",
       "      <td>-3.070235</td>\n",
       "      <td>-5.609989</td>\n",
       "      <td>4.899502</td>\n",
       "      <td>3.290176</td>\n",
       "      <td>2.980232</td>\n",
       "      <td>0.599623</td>\n",
       "      <td>-5.980134</td>\n",
       "      <td>-2.440214</td>\n",
       "      <td>...</td>\n",
       "      <td>0.999649</td>\n",
       "      <td>1.000042</td>\n",
       "      <td>1.000068</td>\n",
       "      <td>1.000074</td>\n",
       "      <td>1.000323</td>\n",
       "      <td>1.000335</td>\n",
       "      <td>0.999780</td>\n",
       "      <td>0.999420</td>\n",
       "      <td>0.999214</td>\n",
       "      <td>0.999180</td>\n",
       "    </tr>\n",
       "    <tr>\n",
       "      <th>...</th>\n",
       "      <td>...</td>\n",
       "      <td>...</td>\n",
       "      <td>...</td>\n",
       "      <td>...</td>\n",
       "      <td>...</td>\n",
       "      <td>...</td>\n",
       "      <td>...</td>\n",
       "      <td>...</td>\n",
       "      <td>...</td>\n",
       "      <td>...</td>\n",
       "      <td>...</td>\n",
       "      <td>...</td>\n",
       "      <td>...</td>\n",
       "      <td>...</td>\n",
       "      <td>...</td>\n",
       "      <td>...</td>\n",
       "      <td>...</td>\n",
       "      <td>...</td>\n",
       "      <td>...</td>\n",
       "      <td>...</td>\n",
       "      <td>...</td>\n",
       "    </tr>\n",
       "    <tr>\n",
       "      <th>195</th>\n",
       "      <td>-0.690222</td>\n",
       "      <td>-1.320243</td>\n",
       "      <td>4.769564</td>\n",
       "      <td>5.569458</td>\n",
       "      <td>-2.940297</td>\n",
       "      <td>-11.079907</td>\n",
       "      <td>-3.399849</td>\n",
       "      <td>-3.780127</td>\n",
       "      <td>-8.659959</td>\n",
       "      <td>-8.329749</td>\n",
       "      <td>...</td>\n",
       "      <td>1.000005</td>\n",
       "      <td>0.998786</td>\n",
       "      <td>0.998794</td>\n",
       "      <td>0.999014</td>\n",
       "      <td>0.998857</td>\n",
       "      <td>0.998741</td>\n",
       "      <td>1.000148</td>\n",
       "      <td>1.000130</td>\n",
       "      <td>1.000003</td>\n",
       "      <td>1.000087</td>\n",
       "    </tr>\n",
       "    <tr>\n",
       "      <th>196</th>\n",
       "      <td>-0.810027</td>\n",
       "      <td>-3.259778</td>\n",
       "      <td>2.180338</td>\n",
       "      <td>-0.600219</td>\n",
       "      <td>1.569986</td>\n",
       "      <td>0.009537</td>\n",
       "      <td>-0.270009</td>\n",
       "      <td>0.100136</td>\n",
       "      <td>-2.869964</td>\n",
       "      <td>-4.079938</td>\n",
       "      <td>...</td>\n",
       "      <td>0.999503</td>\n",
       "      <td>0.997982</td>\n",
       "      <td>0.998025</td>\n",
       "      <td>0.998334</td>\n",
       "      <td>0.998802</td>\n",
       "      <td>0.998838</td>\n",
       "      <td>0.999485</td>\n",
       "      <td>0.999270</td>\n",
       "      <td>0.999151</td>\n",
       "      <td>0.998917</td>\n",
       "    </tr>\n",
       "    <tr>\n",
       "      <th>197</th>\n",
       "      <td>-8.440018</td>\n",
       "      <td>-4.410148</td>\n",
       "      <td>7.740259</td>\n",
       "      <td>3.060103</td>\n",
       "      <td>6.840229</td>\n",
       "      <td>2.230406</td>\n",
       "      <td>1.269579</td>\n",
       "      <td>0.790358</td>\n",
       "      <td>-1.429915</td>\n",
       "      <td>0.209808</td>\n",
       "      <td>...</td>\n",
       "      <td>0.998516</td>\n",
       "      <td>0.998722</td>\n",
       "      <td>0.998801</td>\n",
       "      <td>0.998844</td>\n",
       "      <td>0.998749</td>\n",
       "      <td>0.998833</td>\n",
       "      <td>0.998873</td>\n",
       "      <td>0.999252</td>\n",
       "      <td>0.999254</td>\n",
       "      <td>0.998956</td>\n",
       "    </tr>\n",
       "    <tr>\n",
       "      <th>198</th>\n",
       "      <td>-0.510216</td>\n",
       "      <td>-1.419783</td>\n",
       "      <td>4.309416</td>\n",
       "      <td>5.149841</td>\n",
       "      <td>7.810593</td>\n",
       "      <td>3.180504</td>\n",
       "      <td>0.159740</td>\n",
       "      <td>-1.310110</td>\n",
       "      <td>-5.519986</td>\n",
       "      <td>-5.369782</td>\n",
       "      <td>...</td>\n",
       "      <td>0.999647</td>\n",
       "      <td>0.997808</td>\n",
       "      <td>0.997787</td>\n",
       "      <td>0.997799</td>\n",
       "      <td>0.997835</td>\n",
       "      <td>0.998200</td>\n",
       "      <td>0.999530</td>\n",
       "      <td>0.999103</td>\n",
       "      <td>0.998754</td>\n",
       "      <td>0.998793</td>\n",
       "    </tr>\n",
       "    <tr>\n",
       "      <th>199</th>\n",
       "      <td>NaN</td>\n",
       "      <td>NaN</td>\n",
       "      <td>NaN</td>\n",
       "      <td>NaN</td>\n",
       "      <td>NaN</td>\n",
       "      <td>NaN</td>\n",
       "      <td>NaN</td>\n",
       "      <td>NaN</td>\n",
       "      <td>NaN</td>\n",
       "      <td>NaN</td>\n",
       "      <td>...</td>\n",
       "      <td>NaN</td>\n",
       "      <td>NaN</td>\n",
       "      <td>NaN</td>\n",
       "      <td>NaN</td>\n",
       "      <td>NaN</td>\n",
       "      <td>NaN</td>\n",
       "      <td>NaN</td>\n",
       "      <td>NaN</td>\n",
       "      <td>NaN</td>\n",
       "      <td>NaN</td>\n",
       "    </tr>\n",
       "  </tbody>\n",
       "</table>\n",
       "<p>200 rows × 52910 columns</p>\n",
       "</div>"
      ],
      "text/plain": [
       "          target_0_0  target_0_10  target_0_100  target_0_110  target_0_120  \\\n",
       "stock_id                                                                      \n",
       "0          -3.029704     0.389814     -2.049804      0.020266      2.290011   \n",
       "1          -5.519986    -1.620054     -5.980134    -10.449886     -6.549954   \n",
       "2          -8.389950    -7.460117     11.340380     20.220280      2.950430   \n",
       "3          -4.010200    -1.040101     -1.450181     -1.080036      1.000166   \n",
       "4          -7.349849    -6.719828     -3.070235     -5.609989      4.899502   \n",
       "...              ...          ...           ...           ...           ...   \n",
       "195        -0.690222    -1.320243      4.769564      5.569458     -2.940297   \n",
       "196        -0.810027    -3.259778      2.180338     -0.600219      1.569986   \n",
       "197        -8.440018    -4.410148      7.740259      3.060103      6.840229   \n",
       "198        -0.510216    -1.419783      4.309416      5.149841      7.810593   \n",
       "199              NaN          NaN           NaN           NaN           NaN   \n",
       "\n",
       "          target_0_130  target_0_140  target_0_150  target_0_160  \\\n",
       "stock_id                                                           \n",
       "0             1.000166     -1.699925     -1.680255     -4.119873   \n",
       "1             5.120039     10.709763      8.100271     18.160343   \n",
       "2            -3.179908     -0.969768     -4.159808     -4.510283   \n",
       "3            -2.049804      0.189543      3.550053      0.040531   \n",
       "4             3.290176      2.980232      0.599623     -5.980134   \n",
       "...                ...           ...           ...           ...   \n",
       "195         -11.079907     -3.399849     -3.780127     -8.659959   \n",
       "196           0.009537     -0.270009      0.100136     -2.869964   \n",
       "197           2.230406      1.269579      0.790358     -1.429915   \n",
       "198           3.180504      0.159740     -1.310110     -5.519986   \n",
       "199                NaN           NaN           NaN           NaN   \n",
       "\n",
       "          target_0_170  ...  wap_9_50  wap_9_500  wap_9_510  wap_9_520  \\\n",
       "stock_id                ...                                              \n",
       "0            -4.490018  ...  0.999611   0.998854   0.998917   0.998920   \n",
       "1            25.310516  ...  0.999131   0.997309   0.997388   0.998329   \n",
       "2           -11.249781  ...  1.000100   1.000921   1.001355   1.001506   \n",
       "3            -0.090003  ...  0.999651   0.998406   0.998431   0.998450   \n",
       "4            -2.440214  ...  0.999649   1.000042   1.000068   1.000074   \n",
       "...                ...  ...       ...        ...        ...        ...   \n",
       "195          -8.329749  ...  1.000005   0.998786   0.998794   0.999014   \n",
       "196          -4.079938  ...  0.999503   0.997982   0.998025   0.998334   \n",
       "197           0.209808  ...  0.998516   0.998722   0.998801   0.998844   \n",
       "198          -5.369782  ...  0.999647   0.997808   0.997787   0.997799   \n",
       "199                NaN  ...       NaN        NaN        NaN        NaN   \n",
       "\n",
       "          wap_9_530  wap_9_540  wap_9_60  wap_9_70  wap_9_80  wap_9_90  \n",
       "stock_id                                                                \n",
       "0          0.998907   0.998992  0.999533  0.999325  0.999143  0.999153  \n",
       "1          0.997993   0.998178  0.999131  0.999548  0.999441  0.999453  \n",
       "2          1.001285   1.000637  1.000100  1.000074  0.998695  1.000184  \n",
       "3          0.998428   0.998586  0.999591  0.999414  0.999328  0.999240  \n",
       "4          1.000323   1.000335  0.999780  0.999420  0.999214  0.999180  \n",
       "...             ...        ...       ...       ...       ...       ...  \n",
       "195        0.998857   0.998741  1.000148  1.000130  1.000003  1.000087  \n",
       "196        0.998802   0.998838  0.999485  0.999270  0.999151  0.998917  \n",
       "197        0.998749   0.998833  0.998873  0.999252  0.999254  0.998956  \n",
       "198        0.997835   0.998200  0.999530  0.999103  0.998754  0.998793  \n",
       "199             NaN        NaN       NaN       NaN       NaN       NaN  \n",
       "\n",
       "[200 rows x 52910 columns]"
      ]
     },
     "execution_count": 45,
     "metadata": {},
     "output_type": "execute_result"
    }
   ],
   "source": [
    "merged_df"
   ]
  },
  {
   "cell_type": "code",
   "execution_count": 46,
   "metadata": {},
   "outputs": [
    {
     "data": {
      "text/plain": [
       "target_0_0      9\n",
       "target_0_10     9\n",
       "target_0_100    9\n",
       "target_0_110    9\n",
       "target_0_120    9\n",
       "               ..\n",
       "wap_9_540       8\n",
       "wap_9_60        8\n",
       "wap_9_70        8\n",
       "wap_9_80        8\n",
       "wap_9_90        8\n",
       "Length: 52910, dtype: int64"
      ]
     },
     "execution_count": 46,
     "metadata": {},
     "output_type": "execute_result"
    }
   ],
   "source": [
    "merged_df.isna().sum()"
   ]
  },
  {
   "cell_type": "code",
   "execution_count": 47,
   "metadata": {},
   "outputs": [],
   "source": [
    "deal_data = merged_df.interpolate()"
   ]
  },
  {
   "cell_type": "code",
   "execution_count": 48,
   "metadata": {},
   "outputs": [
    {
     "data": {
      "text/plain": [
       "target_0_0      0\n",
       "target_0_10     0\n",
       "target_0_100    0\n",
       "target_0_110    0\n",
       "target_0_120    0\n",
       "               ..\n",
       "wap_9_540       0\n",
       "wap_9_60        0\n",
       "wap_9_70        0\n",
       "wap_9_80        0\n",
       "wap_9_90        0\n",
       "Length: 52910, dtype: int64"
      ]
     },
     "execution_count": 48,
     "metadata": {},
     "output_type": "execute_result"
    }
   ],
   "source": [
    "deal_data.isna().sum()"
   ]
  },
  {
   "cell_type": "code",
   "execution_count": 49,
   "metadata": {},
   "outputs": [
    {
     "name": "stderr",
     "output_type": "stream",
     "text": [
      "/Library/Frameworks/Python.framework/Versions/3.11/lib/python3.11/site-packages/sklearn/cluster/_kmeans.py:1416: FutureWarning:\n",
      "\n",
      "The default value of `n_init` will change from 10 to 'auto' in 1.4. Set the value of `n_init` explicitly to suppress the warning\n",
      "\n"
     ]
    },
    {
     "name": "stdout",
     "output_type": "stream",
     "text": [
      "[0 0 0 0 0 3 0 3 0 0 0 3 0 3 3 0 0 3 0 0 0 0 3 3 0 0 0 3 0 0 0 5 0 0 0 0 0\n",
      " 0 0 0 0 3 0 0 0 0 0 0 0 0 0 3 0 0 3 0 0 0 3 0 3 0 0 0 0 0 0 2 0 0 0 0 3 0\n",
      " 0 3 0 0 0 0 0 0 4 3 0 1 3 3 0 3 0 3 3 0 0 3 3 0 0 0 0 0 0 3 0 0 0 0 3 0 0\n",
      " 0 0 0 0 0 0 0 3 0 0 0 0 0 0 0 3 3 0 3 0 0 0 0 0 0 0 0 0 0 3 3 3 0 0 0 0 0\n",
      " 0 0 0 0 0 0 0 0 3 3 0 0 0 0 3 0 0 0 0 0 0 3 0 0 0 0 3 0 3 0 3 0 0 0 0 3 3\n",
      " 0 0 0 0 0 0 3 0 0 0 0 0 0 0 0]\n"
     ]
    }
   ],
   "source": [
    "from collections import Counter\n",
    "# 生成虛擬資料\n",
    "# data, _ = make_blobs(n_samples=300, centers=4, random_state=42)\n",
    "\n",
    "# 分群數\n",
    "# cluster_number = 7\n",
    "\n",
    "# 建立K均值模型\n",
    "kmeans = KMeans(n_clusters=6, random_state=42)\n",
    "kmeans.fit(deal_data)\n",
    "\n",
    "# 取得分群結果\n",
    "labels = kmeans.labels_\n",
    "print(labels)\n",
    "Counter(labels)\n",
    "deal_data[\"label\"] = labels\n",
    "label = {i:labels[i] for i in deal_data.index}\n"
   ]
  },
  {
   "cell_type": "code",
   "execution_count": 50,
   "metadata": {},
   "outputs": [
    {
     "data": {
      "text/plain": [
       "{0: 0,\n",
       " 1: 0,\n",
       " 2: 0,\n",
       " 3: 0,\n",
       " 4: 0,\n",
       " 5: 3,\n",
       " 6: 0,\n",
       " 7: 3,\n",
       " 8: 0,\n",
       " 9: 0,\n",
       " 10: 0,\n",
       " 11: 3,\n",
       " 12: 0,\n",
       " 13: 3,\n",
       " 14: 3,\n",
       " 15: 0,\n",
       " 16: 0,\n",
       " 17: 3,\n",
       " 18: 0,\n",
       " 19: 0,\n",
       " 20: 0,\n",
       " 21: 0,\n",
       " 22: 3,\n",
       " 23: 3,\n",
       " 24: 0,\n",
       " 25: 0,\n",
       " 26: 0,\n",
       " 27: 3,\n",
       " 28: 0,\n",
       " 29: 0,\n",
       " 30: 0,\n",
       " 31: 5,\n",
       " 32: 0,\n",
       " 33: 0,\n",
       " 34: 0,\n",
       " 35: 0,\n",
       " 36: 0,\n",
       " 37: 0,\n",
       " 38: 0,\n",
       " 39: 0,\n",
       " 40: 0,\n",
       " 41: 3,\n",
       " 42: 0,\n",
       " 43: 0,\n",
       " 44: 0,\n",
       " 45: 0,\n",
       " 46: 0,\n",
       " 47: 0,\n",
       " 48: 0,\n",
       " 49: 0,\n",
       " 50: 0,\n",
       " 51: 3,\n",
       " 52: 0,\n",
       " 53: 0,\n",
       " 54: 3,\n",
       " 55: 0,\n",
       " 56: 0,\n",
       " 57: 0,\n",
       " 58: 3,\n",
       " 59: 0,\n",
       " 60: 3,\n",
       " 61: 0,\n",
       " 62: 0,\n",
       " 63: 0,\n",
       " 64: 0,\n",
       " 65: 0,\n",
       " 66: 0,\n",
       " 67: 2,\n",
       " 68: 0,\n",
       " 69: 0,\n",
       " 70: 0,\n",
       " 71: 0,\n",
       " 72: 3,\n",
       " 73: 0,\n",
       " 74: 0,\n",
       " 75: 3,\n",
       " 76: 0,\n",
       " 77: 0,\n",
       " 78: 0,\n",
       " 79: 0,\n",
       " 80: 0,\n",
       " 81: 0,\n",
       " 82: 4,\n",
       " 83: 3,\n",
       " 84: 0,\n",
       " 85: 1,\n",
       " 86: 3,\n",
       " 87: 3,\n",
       " 88: 0,\n",
       " 89: 3,\n",
       " 90: 0,\n",
       " 91: 3,\n",
       " 92: 3,\n",
       " 93: 0,\n",
       " 94: 0,\n",
       " 95: 3,\n",
       " 96: 3,\n",
       " 97: 0,\n",
       " 98: 0,\n",
       " 99: 0,\n",
       " 100: 0,\n",
       " 101: 0,\n",
       " 102: 0,\n",
       " 103: 3,\n",
       " 104: 0,\n",
       " 105: 0,\n",
       " 106: 0,\n",
       " 107: 0,\n",
       " 108: 3,\n",
       " 109: 0,\n",
       " 110: 0,\n",
       " 111: 0,\n",
       " 112: 0,\n",
       " 113: 0,\n",
       " 114: 0,\n",
       " 115: 0,\n",
       " 116: 0,\n",
       " 117: 0,\n",
       " 118: 3,\n",
       " 119: 0,\n",
       " 120: 0,\n",
       " 121: 0,\n",
       " 122: 0,\n",
       " 123: 0,\n",
       " 124: 0,\n",
       " 125: 0,\n",
       " 126: 3,\n",
       " 127: 3,\n",
       " 128: 0,\n",
       " 129: 3,\n",
       " 130: 0,\n",
       " 131: 0,\n",
       " 132: 0,\n",
       " 133: 0,\n",
       " 134: 0,\n",
       " 135: 0,\n",
       " 136: 0,\n",
       " 137: 0,\n",
       " 138: 0,\n",
       " 139: 0,\n",
       " 140: 3,\n",
       " 141: 3,\n",
       " 142: 3,\n",
       " 143: 0,\n",
       " 144: 0,\n",
       " 145: 0,\n",
       " 146: 0,\n",
       " 147: 0,\n",
       " 148: 0,\n",
       " 149: 0,\n",
       " 150: 0,\n",
       " 151: 0,\n",
       " 152: 0,\n",
       " 153: 0,\n",
       " 154: 0,\n",
       " 155: 0,\n",
       " 156: 3,\n",
       " 157: 3,\n",
       " 158: 0,\n",
       " 159: 0,\n",
       " 160: 0,\n",
       " 161: 0,\n",
       " 162: 3,\n",
       " 163: 0,\n",
       " 164: 0,\n",
       " 165: 0,\n",
       " 166: 0,\n",
       " 167: 0,\n",
       " 168: 0,\n",
       " 169: 3,\n",
       " 170: 0,\n",
       " 171: 0,\n",
       " 172: 0,\n",
       " 173: 0,\n",
       " 174: 3,\n",
       " 175: 0,\n",
       " 176: 3,\n",
       " 177: 0,\n",
       " 178: 3,\n",
       " 179: 0,\n",
       " 180: 0,\n",
       " 181: 0,\n",
       " 182: 0,\n",
       " 183: 3,\n",
       " 184: 3,\n",
       " 185: 0,\n",
       " 186: 0,\n",
       " 187: 0,\n",
       " 188: 0,\n",
       " 189: 0,\n",
       " 190: 0,\n",
       " 191: 3,\n",
       " 192: 0,\n",
       " 193: 0,\n",
       " 194: 0,\n",
       " 195: 0,\n",
       " 196: 0,\n",
       " 197: 0,\n",
       " 198: 0,\n",
       " 199: 0}"
      ]
     },
     "execution_count": 50,
     "metadata": {},
     "output_type": "execute_result"
    }
   ],
   "source": [
    "label"
   ]
  },
  {
   "cell_type": "code",
   "execution_count": 52,
   "metadata": {},
   "outputs": [
    {
     "name": "stderr",
     "output_type": "stream",
     "text": [
      "/Library/Frameworks/Python.framework/Versions/3.11/lib/python3.11/site-packages/sklearn/cluster/_kmeans.py:1416: FutureWarning:\n",
      "\n",
      "The default value of `n_init` will change from 10 to 'auto' in 1.4. Set the value of `n_init` explicitly to suppress the warning\n",
      "\n",
      "/Library/Frameworks/Python.framework/Versions/3.11/lib/python3.11/site-packages/sklearn/cluster/_kmeans.py:1416: FutureWarning:\n",
      "\n",
      "The default value of `n_init` will change from 10 to 'auto' in 1.4. Set the value of `n_init` explicitly to suppress the warning\n",
      "\n",
      "/Library/Frameworks/Python.framework/Versions/3.11/lib/python3.11/site-packages/sklearn/cluster/_kmeans.py:1416: FutureWarning:\n",
      "\n",
      "The default value of `n_init` will change from 10 to 'auto' in 1.4. Set the value of `n_init` explicitly to suppress the warning\n",
      "\n",
      "/Library/Frameworks/Python.framework/Versions/3.11/lib/python3.11/site-packages/sklearn/cluster/_kmeans.py:1416: FutureWarning:\n",
      "\n",
      "The default value of `n_init` will change from 10 to 'auto' in 1.4. Set the value of `n_init` explicitly to suppress the warning\n",
      "\n",
      "/Library/Frameworks/Python.framework/Versions/3.11/lib/python3.11/site-packages/sklearn/cluster/_kmeans.py:1416: FutureWarning:\n",
      "\n",
      "The default value of `n_init` will change from 10 to 'auto' in 1.4. Set the value of `n_init` explicitly to suppress the warning\n",
      "\n",
      "/Library/Frameworks/Python.framework/Versions/3.11/lib/python3.11/site-packages/sklearn/cluster/_kmeans.py:1416: FutureWarning:\n",
      "\n",
      "The default value of `n_init` will change from 10 to 'auto' in 1.4. Set the value of `n_init` explicitly to suppress the warning\n",
      "\n",
      "/Library/Frameworks/Python.framework/Versions/3.11/lib/python3.11/site-packages/sklearn/cluster/_kmeans.py:1416: FutureWarning:\n",
      "\n",
      "The default value of `n_init` will change from 10 to 'auto' in 1.4. Set the value of `n_init` explicitly to suppress the warning\n",
      "\n",
      "/Library/Frameworks/Python.framework/Versions/3.11/lib/python3.11/site-packages/sklearn/cluster/_kmeans.py:1416: FutureWarning:\n",
      "\n",
      "The default value of `n_init` will change from 10 to 'auto' in 1.4. Set the value of `n_init` explicitly to suppress the warning\n",
      "\n",
      "/Library/Frameworks/Python.framework/Versions/3.11/lib/python3.11/site-packages/sklearn/cluster/_kmeans.py:1416: FutureWarning:\n",
      "\n",
      "The default value of `n_init` will change from 10 to 'auto' in 1.4. Set the value of `n_init` explicitly to suppress the warning\n",
      "\n",
      "/Library/Frameworks/Python.framework/Versions/3.11/lib/python3.11/site-packages/sklearn/cluster/_kmeans.py:1416: FutureWarning:\n",
      "\n",
      "The default value of `n_init` will change from 10 to 'auto' in 1.4. Set the value of `n_init` explicitly to suppress the warning\n",
      "\n",
      "/Library/Frameworks/Python.framework/Versions/3.11/lib/python3.11/site-packages/sklearn/cluster/_kmeans.py:1416: FutureWarning:\n",
      "\n",
      "The default value of `n_init` will change from 10 to 'auto' in 1.4. Set the value of `n_init` explicitly to suppress the warning\n",
      "\n",
      "/Library/Frameworks/Python.framework/Versions/3.11/lib/python3.11/site-packages/sklearn/cluster/_kmeans.py:1416: FutureWarning:\n",
      "\n",
      "The default value of `n_init` will change from 10 to 'auto' in 1.4. Set the value of `n_init` explicitly to suppress the warning\n",
      "\n",
      "/Library/Frameworks/Python.framework/Versions/3.11/lib/python3.11/site-packages/sklearn/cluster/_kmeans.py:1416: FutureWarning:\n",
      "\n",
      "The default value of `n_init` will change from 10 to 'auto' in 1.4. Set the value of `n_init` explicitly to suppress the warning\n",
      "\n",
      "/Library/Frameworks/Python.framework/Versions/3.11/lib/python3.11/site-packages/sklearn/cluster/_kmeans.py:1416: FutureWarning:\n",
      "\n",
      "The default value of `n_init` will change from 10 to 'auto' in 1.4. Set the value of `n_init` explicitly to suppress the warning\n",
      "\n",
      "/Library/Frameworks/Python.framework/Versions/3.11/lib/python3.11/site-packages/sklearn/cluster/_kmeans.py:1416: FutureWarning:\n",
      "\n",
      "The default value of `n_init` will change from 10 to 'auto' in 1.4. Set the value of `n_init` explicitly to suppress the warning\n",
      "\n",
      "/Library/Frameworks/Python.framework/Versions/3.11/lib/python3.11/site-packages/sklearn/cluster/_kmeans.py:1416: FutureWarning:\n",
      "\n",
      "The default value of `n_init` will change from 10 to 'auto' in 1.4. Set the value of `n_init` explicitly to suppress the warning\n",
      "\n",
      "/Library/Frameworks/Python.framework/Versions/3.11/lib/python3.11/site-packages/sklearn/cluster/_kmeans.py:1416: FutureWarning:\n",
      "\n",
      "The default value of `n_init` will change from 10 to 'auto' in 1.4. Set the value of `n_init` explicitly to suppress the warning\n",
      "\n",
      "/Library/Frameworks/Python.framework/Versions/3.11/lib/python3.11/site-packages/sklearn/cluster/_kmeans.py:1416: FutureWarning:\n",
      "\n",
      "The default value of `n_init` will change from 10 to 'auto' in 1.4. Set the value of `n_init` explicitly to suppress the warning\n",
      "\n",
      "/Library/Frameworks/Python.framework/Versions/3.11/lib/python3.11/site-packages/sklearn/cluster/_kmeans.py:1416: FutureWarning:\n",
      "\n",
      "The default value of `n_init` will change from 10 to 'auto' in 1.4. Set the value of `n_init` explicitly to suppress the warning\n",
      "\n"
     ]
    },
    {
     "data": {
      "image/png": "[encoded data removed]",
      "text/plain": [
       "<Figure size 640x480 with 1 Axes>"
      ]
     },
     "metadata": {},
     "output_type": "display_data"
    }
   ],
   "source": [
    "from sklearn.cluster import KMeans\n",
    "import matplotlib.pyplot as plt\n",
    "\n",
    "sse = []\n",
    "for k in range(1, 20):\n",
    "    kmeans = KMeans(n_clusters=k, random_state=42)\n",
    "    kmeans.fit(deal_data)\n",
    "    sse.append(kmeans.inertia_)\n",
    "\n",
    "# 绘制肘部法图形\n",
    "plt.plot(range(1, 20), sse)\n",
    "plt.xlabel('Number of Clusters')\n",
    "plt.ylabel('SSE')\n",
    "plt.show()\n"
   ]
  },
  {
   "cell_type": "code",
   "execution_count": 55,
   "metadata": {},
   "outputs": [
    {
     "name": "stderr",
     "output_type": "stream",
     "text": [
      "/Library/Frameworks/Python.framework/Versions/3.11/lib/python3.11/site-packages/sklearn/cluster/_kmeans.py:1416: FutureWarning:\n",
      "\n",
      "The default value of `n_init` will change from 10 to 'auto' in 1.4. Set the value of `n_init` explicitly to suppress the warning\n",
      "\n",
      "/Library/Frameworks/Python.framework/Versions/3.11/lib/python3.11/site-packages/sklearn/cluster/_kmeans.py:1416: FutureWarning:\n",
      "\n",
      "The default value of `n_init` will change from 10 to 'auto' in 1.4. Set the value of `n_init` explicitly to suppress the warning\n",
      "\n",
      "/Library/Frameworks/Python.framework/Versions/3.11/lib/python3.11/site-packages/sklearn/cluster/_kmeans.py:1416: FutureWarning:\n",
      "\n",
      "The default value of `n_init` will change from 10 to 'auto' in 1.4. Set the value of `n_init` explicitly to suppress the warning\n",
      "\n",
      "/Library/Frameworks/Python.framework/Versions/3.11/lib/python3.11/site-packages/sklearn/cluster/_kmeans.py:1416: FutureWarning:\n",
      "\n",
      "The default value of `n_init` will change from 10 to 'auto' in 1.4. Set the value of `n_init` explicitly to suppress the warning\n",
      "\n",
      "/Library/Frameworks/Python.framework/Versions/3.11/lib/python3.11/site-packages/sklearn/cluster/_kmeans.py:1416: FutureWarning:\n",
      "\n",
      "The default value of `n_init` will change from 10 to 'auto' in 1.4. Set the value of `n_init` explicitly to suppress the warning\n",
      "\n",
      "/Library/Frameworks/Python.framework/Versions/3.11/lib/python3.11/site-packages/sklearn/cluster/_kmeans.py:1416: FutureWarning:\n",
      "\n",
      "The default value of `n_init` will change from 10 to 'auto' in 1.4. Set the value of `n_init` explicitly to suppress the warning\n",
      "\n",
      "/Library/Frameworks/Python.framework/Versions/3.11/lib/python3.11/site-packages/sklearn/cluster/_kmeans.py:1416: FutureWarning:\n",
      "\n",
      "The default value of `n_init` will change from 10 to 'auto' in 1.4. Set the value of `n_init` explicitly to suppress the warning\n",
      "\n",
      "/Library/Frameworks/Python.framework/Versions/3.11/lib/python3.11/site-packages/sklearn/cluster/_kmeans.py:1416: FutureWarning:\n",
      "\n",
      "The default value of `n_init` will change from 10 to 'auto' in 1.4. Set the value of `n_init` explicitly to suppress the warning\n",
      "\n",
      "/Library/Frameworks/Python.framework/Versions/3.11/lib/python3.11/site-packages/sklearn/cluster/_kmeans.py:1416: FutureWarning:\n",
      "\n",
      "The default value of `n_init` will change from 10 to 'auto' in 1.4. Set the value of `n_init` explicitly to suppress the warning\n",
      "\n"
     ]
    },
    {
     "data": {
      "image/png": "[encoded data removed]",
      "text/plain": [
       "<Figure size 640x480 with 1 Axes>"
      ]
     },
     "metadata": {},
     "output_type": "display_data"
    }
   ],
   "source": [
    "from sklearn.cluster import KMeans\n",
    "from sklearn.metrics import silhouette_score\n",
    "\n",
    "silhouette_scores = []\n",
    "for k in range(2, 11):\n",
    "    kmeans = KMeans(n_clusters=k, random_state=42)\n",
    "    kmeans.fit(deal_data)\n",
    "    silhouette_scores.append(silhouette_score(deal_data, kmeans.labels_))\n",
    "\n",
    "# 绘制轮廓系数图形\n",
    "plt.plot(range(2, 11), silhouette_scores)\n",
    "plt.xlabel('Number of Clusters')\n",
    "plt.ylabel('Silhouette Score')\n",
    "plt.show()\n"
   ]
  }
 ],
 "metadata": {
  "kernelspec": {
   "display_name": "Python 3",
   "language": "python",
   "name": "python3"
  },
  "language_info": {
   "codemirror_mode": {
    "name": "ipython",
    "version": 3
   },
   "file_extension": ".py",
   "mimetype": "text/x-python",
   "name": "python",
   "nbconvert_exporter": "python",
   "pygments_lexer": "ipython3",
   "version": "3.11.4"
  }
 },
 "nbformat": 4,
 "nbformat_minor": 2
}
